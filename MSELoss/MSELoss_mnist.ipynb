{
 "metadata": {
  "language_info": {
   "codemirror_mode": {
    "name": "ipython",
    "version": 3
   },
   "file_extension": ".py",
   "mimetype": "text/x-python",
   "name": "python",
   "nbconvert_exporter": "python",
   "pygments_lexer": "ipython3",
   "version": "2.7.18-final"
  },
  "orig_nbformat": 2,
  "kernelspec": {
   "name": "Python 2.7.18 64-bit ('exp27': conda)",
   "display_name": "Python 2.7.18 64-bit ('exp27': conda)",
   "metadata": {
    "interpreter": {
     "hash": "94b498c9aad39d14fe2eef1427b4eed5fb73bba001ef4744562740919eaae58d"
    }
   }
  }
 },
 "nbformat": 4,
 "nbformat_minor": 2,
 "cells": [
  {
   "cell_type": "code",
   "execution_count": 1,
   "metadata": {},
   "outputs": [],
   "source": [
    "import sys\n",
    "sys.path.append(\"../../code\")"
   ]
  },
  {
   "cell_type": "code",
   "execution_count": 2,
   "metadata": {},
   "outputs": [],
   "source": [
    "import tst"
   ]
  },
  {
   "source": [
    "## DEEPFOOL"
   ],
   "cell_type": "markdown",
   "metadata": {}
  },
  {
   "cell_type": "code",
   "execution_count": 3,
   "metadata": {},
   "outputs": [
    {
     "output_type": "stream",
     "name": "stdout",
     "text": [
      "\nsaving loss...\n-complete-\n"
     ]
    }
   ],
   "source": [
    "tst.test_MSELoss(\n",
    "    data_set='mnist', \n",
    "    adv_sample_path='../sample/DEEPFOOL_mnist_FNN/test', \n",
    "    sample_num=10000,\n",
    "    sample_shape=[1,28,28]\n",
    "    )"
   ]
  },
  {
   "cell_type": "code",
   "execution_count": 4,
   "metadata": {},
   "outputs": [
    {
     "output_type": "stream",
     "name": "stdout",
     "text": [
      "\nsaving loss...\n-complete-\n"
     ]
    }
   ],
   "source": [
    "tst.test_MSELoss(\n",
    "    data_set='mnist', \n",
    "    adv_sample_path='../sample/DEEPFOOL_mnist_LeNet/test', \n",
    "    sample_num=10000,\n",
    "    sample_shape=[1,28,28]\n",
    "    )"
   ]
  },
  {
   "cell_type": "code",
   "execution_count": 6,
   "metadata": {},
   "outputs": [
    {
     "output_type": "stream",
     "name": "stdout",
     "text": [
      "\nsaving loss...\n-complete-\n"
     ]
    }
   ],
   "source": [
    "tst.test_MSELoss(\n",
    "    data_set='mnist', \n",
    "    adv_sample_path='../sample/DEEPFOOL_mnist_ResNet18/test', \n",
    "    sample_num=10000,\n",
    "    sample_shape=[1,28,28]\n",
    "    )"
   ]
  },
  {
   "source": [
    "## JSMA"
   ],
   "cell_type": "markdown",
   "metadata": {}
  },
  {
   "cell_type": "code",
   "execution_count": 7,
   "metadata": {},
   "outputs": [
    {
     "output_type": "stream",
     "name": "stdout",
     "text": [
      "\nsaving loss...\n-complete-\n"
     ]
    }
   ],
   "source": [
    "tst.test_MSELoss(\n",
    "    data_set='mnist', \n",
    "    adv_sample_path='../sample/JSMA_mnist_FNN/test', \n",
    "    sample_num=10000,\n",
    "    sample_shape=[1,28,28]\n",
    "    )"
   ]
  },
  {
   "cell_type": "code",
   "execution_count": 8,
   "metadata": {},
   "outputs": [
    {
     "output_type": "stream",
     "name": "stdout",
     "text": [
      "\nsaving loss...\n-complete-\n"
     ]
    }
   ],
   "source": [
    "tst.test_MSELoss(\n",
    "    data_set='mnist', \n",
    "    adv_sample_path='../sample/JSMA_mnist_LeNet/test', \n",
    "    sample_num=10000,\n",
    "    sample_shape=[1,28,28]\n",
    "    )"
   ]
  },
  {
   "cell_type": "code",
   "execution_count": 9,
   "metadata": {},
   "outputs": [
    {
     "output_type": "stream",
     "name": "stdout",
     "text": [
      "\nsaving loss...\n-complete-\n"
     ]
    }
   ],
   "source": [
    "tst.test_MSELoss(\n",
    "    data_set='mnist', \n",
    "    adv_sample_path='../sample/JSMA_mnist_ResNet18/test', \n",
    "    sample_num=10000,\n",
    "    sample_shape=[1,28,28]\n",
    "    )"
   ]
  },
  {
   "source": [
    "## FGSM"
   ],
   "cell_type": "markdown",
   "metadata": {}
  },
  {
   "cell_type": "code",
   "execution_count": 10,
   "metadata": {},
   "outputs": [
    {
     "output_type": "stream",
     "name": "stdout",
     "text": [
      "\nsaving loss...\n-complete-\n"
     ]
    }
   ],
   "source": [
    "tst.test_MSELoss(\n",
    "    data_set='mnist', \n",
    "    adv_sample_path='../sample/FGSM_mnist_FNN/test', \n",
    "    sample_num=10000,\n",
    "    sample_shape=[1,28,28]\n",
    "    )"
   ]
  },
  {
   "cell_type": "code",
   "execution_count": 11,
   "metadata": {},
   "outputs": [
    {
     "output_type": "stream",
     "name": "stdout",
     "text": [
      "\nsaving loss...\n-complete-\n"
     ]
    }
   ],
   "source": [
    "tst.test_MSELoss(\n",
    "    data_set='mnist', \n",
    "    adv_sample_path='../sample/FGSM_mnist_LeNet/test', \n",
    "    sample_num=10000,\n",
    "    sample_shape=[1,28,28]\n",
    "    )"
   ]
  },
  {
   "cell_type": "code",
   "execution_count": 12,
   "metadata": {},
   "outputs": [
    {
     "output_type": "stream",
     "name": "stdout",
     "text": [
      "\nsaving loss...\n-complete-\n"
     ]
    }
   ],
   "source": [
    "tst.test_MSELoss(\n",
    "    data_set='mnist', \n",
    "    adv_sample_path='../sample/FGSM_mnist_ResNet18/test', \n",
    "    sample_num=10000,\n",
    "    sample_shape=[1,28,28]\n",
    "    )"
   ]
  },
  {
   "source": [
    "## PGD"
   ],
   "cell_type": "markdown",
   "metadata": {}
  },
  {
   "cell_type": "code",
   "execution_count": 6,
   "metadata": {},
   "outputs": [
    {
     "output_type": "stream",
     "name": "stdout",
     "text": [
      "\nsaving loss...\n-complete-\n"
     ]
    }
   ],
   "source": [
    "tst.test_MSELoss(\n",
    "    data_set='mnist', \n",
    "    adv_sample_path='../sample/PGD_mnist_FNN/test', \n",
    "    sample_num=10000,\n",
    "    sample_shape=[1,28,28]\n",
    "    )"
   ]
  },
  {
   "cell_type": "code",
   "execution_count": 7,
   "metadata": {},
   "outputs": [
    {
     "output_type": "stream",
     "name": "stdout",
     "text": [
      "\nsaving loss...\n-complete-\n"
     ]
    }
   ],
   "source": [
    "tst.test_MSELoss(\n",
    "    data_set='mnist', \n",
    "    adv_sample_path='../sample/PGD_mnist_LeNet/test', \n",
    "    sample_num=10000,\n",
    "    sample_shape=[1,28,28]\n",
    "    )"
   ]
  },
  {
   "cell_type": "code",
   "execution_count": 8,
   "metadata": {},
   "outputs": [
    {
     "output_type": "stream",
     "name": "stdout",
     "text": [
      "\nsaving loss...\n-complete-\n"
     ]
    }
   ],
   "source": [
    "tst.test_MSELoss(\n",
    "    data_set='mnist', \n",
    "    adv_sample_path='../sample/PGD_mnist_ResNet18/test', \n",
    "    sample_num=10000,\n",
    "    sample_shape=[1,28,28]\n",
    "    )"
   ]
  },
  {
   "source": [
    "## THREAT"
   ],
   "cell_type": "markdown",
   "metadata": {}
  },
  {
   "cell_type": "code",
   "execution_count": 13,
   "metadata": {},
   "outputs": [
    {
     "output_type": "stream",
     "name": "stdout",
     "text": [
      "\nsaving loss...\n-complete-\n"
     ]
    }
   ],
   "source": [
    "tst.test_MSELoss(\n",
    "    data_set='mnist', \n",
    "    adv_sample_path='../sample/THREAT_mnist/test', \n",
    "    sample_num=10000,\n",
    "    sample_shape=[1,28,28]\n",
    "    )"
   ]
  },
  {
   "cell_type": "code",
   "execution_count": null,
   "metadata": {},
   "outputs": [],
   "source": []
  }
 ]
}