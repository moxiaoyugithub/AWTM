{
 "metadata": {
  "language_info": {
   "codemirror_mode": {
    "name": "ipython",
    "version": 3
   },
   "file_extension": ".py",
   "mimetype": "text/x-python",
   "name": "python",
   "nbconvert_exporter": "python",
   "pygments_lexer": "ipython3",
   "version": "3.7.9-final"
  },
  "orig_nbformat": 2,
  "kernelspec": {
   "name": "Python 3.7.9 64-bit ('exp37': conda)",
   "display_name": "Python 3.7.9 64-bit ('exp37': conda)",
   "metadata": {
    "interpreter": {
     "hash": "51ace8888d8226365031718c73b9880bceb9f7be6c7e517481a98cdda777a2ef"
    }
   }
  }
 },
 "nbformat": 4,
 "nbformat_minor": 2,
 "cells": [
  {
   "cell_type": "code",
   "execution_count": 1,
   "metadata": {},
   "outputs": [],
   "source": [
    "import torch\n",
    "import torchvision\n",
    "from torchvision import datasets, transforms"
   ]
  },
  {
   "cell_type": "code",
   "execution_count": 2,
   "metadata": {},
   "outputs": [],
   "source": [
    "dataset = datasets.MNIST(root=\"../../data/mnist\", train=False, transform=transforms.ToTensor(), download=False)\n",
    "data = torch.utils.data.DataLoader(dataset=dataset, batch_size=128, shuffle=False, num_workers=0)"
   ]
  },
  {
   "cell_type": "code",
   "execution_count": 13,
   "metadata": {},
   "outputs": [],
   "source": [
    "from PIL import Image\n",
    "import matplotlib.pyplot as plt\n",
    "import numpy as np\n",
    "def save_data(n, save_path, img_type):\n",
    "    count = 0\n",
    "    for xs, ls in data:\n",
    "        for x in xs:\n",
    "            if count == n:\n",
    "                if img_type == 'gray':\n",
    "                    npimg = x.squeeze().detach().numpy()\n",
    "                    plt.imsave(save_path + '/o_' + str(n) + '.png', npimg, cmap='gray')\n",
    "                    return\n",
    "                elif img_type == 'rgb':\n",
    "                    npimg = x.squeeze().detach().numpy()\n",
    "                    npimg = np.clip(npimg, 0.00, 1.00)\n",
    "                    npimg = np.transpose(npimg, (1, 2, 0))\n",
    "                    plt.imsave(save_path + '/o_' + str(n) + '.png', npimg)\n",
    "                    return\n",
    "            else:\n",
    "                count += 1"
   ]
  },
  {
   "cell_type": "code",
   "execution_count": 8,
   "metadata": {},
   "outputs": [],
   "source": [
    "data_list = [159, 183, 186, 189, 213, 373, 375, 499, 651, 733]"
   ]
  },
  {
   "cell_type": "code",
   "execution_count": 9,
   "metadata": {},
   "outputs": [],
   "source": [
    "for n in data_list:\n",
    "    save_data(n, save_path='../sample/THREAT_mnist/example', img_type='gray')"
   ]
  },
  {
   "cell_type": "code",
   "execution_count": 10,
   "metadata": {},
   "outputs": [],
   "source": [
    "dataset = datasets.CIFAR10(root=\"../../data/cifar10\", train=False, transform=transforms.ToTensor(), download=False)\n",
    "data = torch.utils.data.DataLoader(dataset=dataset, batch_size=128, shuffle=False, num_workers=0)"
   ]
  },
  {
   "cell_type": "code",
   "execution_count": 14,
   "metadata": {},
   "outputs": [],
   "source": [
    "data_list = [98, 160, 216, 239, 521, 533, 855, 2089, 3927, 4259]"
   ]
  },
  {
   "cell_type": "code",
   "execution_count": 15,
   "metadata": {},
   "outputs": [],
   "source": [
    "for n in data_list:\n",
    "    save_data(n, save_path='../sample/THREAT_cifar10/example', img_type='rgb')"
   ]
  },
  {
   "cell_type": "code",
   "execution_count": null,
   "metadata": {},
   "outputs": [],
   "source": []
  }
 ]
}