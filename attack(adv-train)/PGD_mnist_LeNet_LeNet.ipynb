{
 "metadata": {
  "language_info": {
   "codemirror_mode": {
    "name": "ipython",
    "version": 3
   },
   "file_extension": ".py",
   "mimetype": "text/x-python",
   "name": "python",
   "nbconvert_exporter": "python",
   "pygments_lexer": "ipython3",
   "version": "2.7.18-final"
  },
  "orig_nbformat": 2,
  "kernelspec": {
   "name": "Python 2.7.18 64-bit ('exp27': conda)",
   "display_name": "Python 2.7.18 64-bit ('exp27': conda)",
   "metadata": {
    "interpreter": {
     "hash": "94b498c9aad39d14fe2eef1427b4eed5fb73bba001ef4744562740919eaae58d"
    }
   }
  },
  "metadata": {
   "interpreter": {
    "hash": "2177775887c1352f755b4a65deaa187d9182d4211043324c54f62bd824f14834"
   }
  }
 },
 "nbformat": 4,
 "nbformat_minor": 2,
 "cells": [
  {
   "cell_type": "code",
   "execution_count": 1,
   "metadata": {},
   "outputs": [],
   "source": [
    "import sys\n",
    "sys.path.append(\"../../code\")"
   ]
  },
  {
   "cell_type": "code",
   "execution_count": 2,
   "metadata": {},
   "outputs": [],
   "source": [
    "import gen"
   ]
  },
  {
   "cell_type": "code",
   "execution_count": 3,
   "metadata": {},
   "outputs": [],
   "source": [
    "import torch\n",
    "import torch.nn as nn\n",
    "import torch.optim as optim"
   ]
  },
  {
   "cell_type": "code",
   "execution_count": 4,
   "metadata": {},
   "outputs": [],
   "source": [
    "class LeNet(nn.Module):\n",
    "    def __init__(self):\n",
    "        super(LeNet, self).__init__()\n",
    "        self.conv = nn.Sequential(\n",
    "            nn.Conv2d(1, 6, 5),\n",
    "            nn.ReLU(inplace=True),\n",
    "            nn.MaxPool2d(2),\n",
    "            nn.Conv2d(6, 16, 5),\n",
    "            nn.ReLU(inplace=True),\n",
    "            nn.MaxPool2d(2)\n",
    "        )\n",
    "        self.fc = nn.Sequential(\n",
    "            nn.Linear(256, 120),\n",
    "            nn.ReLU(inplace=True),\n",
    "            nn.Linear(120, 84),\n",
    "            nn.ReLU(inplace=True),\n",
    "            nn.Linear(84, 10)\n",
    "        )\n",
    "\n",
    "    def forward(self, x):\n",
    "        out = self.conv(x)\n",
    "        out = out.view(out.size(0), -1)\n",
    "        out = self.fc(out)\n",
    "        return out"
   ]
  },
  {
   "cell_type": "code",
   "execution_count": 5,
   "metadata": {},
   "outputs": [],
   "source": [
    "train_model = LeNet()"
   ]
  },
  {
   "cell_type": "code",
   "execution_count": 6,
   "metadata": {},
   "outputs": [],
   "source": [
    "#adv_train(data_set, adv_sample_path, sample_num, sample_shape, train_model, model_lossfun, model_optimizer, config, METHOD_dataset_NET_TNET)\n",
    "data_set = 'mnist'\n",
    "adv_sample_path = '../sample/PGD_mnist_LeNet/train'\n",
    "sample_num = 60000\n",
    "sample_shape = [1,28,28]\n",
    "model_lossfun = nn.CrossEntropyLoss()\n",
    "model_optimizer = optim.SGD(train_model.parameters(), lr=0.001, momentum=0.9, weight_decay=1e-4)\n",
    "config = 'PGD_mnist_LeNet_LeNet.json'\n",
    "METHOD_dataset_NET_TNET = 'PGD_mnist_LeNet_LeNet'"
   ]
  },
  {
   "cell_type": "code",
   "execution_count": 7,
   "metadata": {},
   "outputs": [
    {
     "output_type": "stream",
     "name": "stdout",
     "text": [
      "epoch:0/100\n",
      "loss:8.42771435,cost:5.9118s\n",
      "epoch:1/100\n",
      "loss:7.95075369,cost:5.7090s\n",
      "epoch:2/100\n",
      "loss:1.83989704,cost:5.8869s\n",
      "epoch:3/100\n",
      "loss:0.89768600,cost:5.8548s\n",
      "epoch:4/100\n",
      "loss:0.62783545,cost:5.7903s\n",
      "epoch:5/100\n",
      "loss:0.49143893,cost:5.8012s\n",
      "epoch:6/100\n",
      "loss:0.40987790,cost:5.7702s\n",
      "epoch:7/100\n",
      "loss:0.35588571,cost:5.8761s\n",
      "epoch:8/100\n",
      "loss:0.31743899,cost:5.7694s\n",
      "epoch:9/100\n",
      "loss:0.28757983,cost:5.8461s\n",
      "epoch:10/100\n",
      "loss:0.26426283,cost:5.8683s\n",
      "epoch:11/100\n",
      "loss:0.24526855,cost:5.9902s\n",
      "epoch:12/100\n",
      "loss:0.22971687,cost:5.8791s\n",
      "epoch:13/100\n",
      "loss:0.21662217,cost:5.8179s\n",
      "epoch:14/100\n",
      "loss:0.20497823,cost:5.9863s\n",
      "epoch:15/100\n",
      "loss:0.19379447,cost:5.8451s\n",
      "epoch:16/100\n",
      "loss:0.18316215,cost:5.9827s\n",
      "epoch:17/100\n",
      "loss:0.17334585,cost:5.8764s\n",
      "epoch:18/100\n",
      "loss:0.16488284,cost:5.8465s\n",
      "epoch:19/100\n",
      "loss:0.15691313,cost:5.9800s\n",
      "epoch:20/100\n",
      "loss:0.14976868,cost:5.8371s\n",
      "epoch:21/100\n",
      "loss:0.14312848,cost:6.0019s\n",
      "epoch:22/100\n",
      "loss:0.13710567,cost:5.9728s\n",
      "epoch:23/100\n",
      "loss:0.13150655,cost:5.7111s\n",
      "epoch:24/100\n",
      "loss:0.12602629,cost:5.6524s\n",
      "epoch:25/100\n",
      "loss:0.12088410,cost:5.7807s\n",
      "epoch:26/100\n",
      "loss:0.11619747,cost:5.6406s\n",
      "epoch:27/100\n",
      "loss:0.11168635,cost:5.7605s\n",
      "epoch:28/100\n",
      "loss:0.10741968,cost:5.7187s\n",
      "epoch:29/100\n",
      "loss:0.10331675,cost:5.7607s\n",
      "epoch:30/100\n",
      "loss:0.09954163,cost:5.8096s\n",
      "epoch:31/100\n",
      "loss:0.09549409,cost:5.9750s\n",
      "epoch:32/100\n",
      "loss:0.09211176,cost:5.8236s\n",
      "epoch:33/100\n",
      "loss:0.08872434,cost:5.8185s\n",
      "epoch:34/100\n",
      "loss:0.08557991,cost:5.8270s\n",
      "epoch:35/100\n",
      "loss:0.08247786,cost:5.8799s\n",
      "epoch:36/100\n",
      "loss:0.07956919,cost:5.8990s\n",
      "epoch:37/100\n",
      "loss:0.07669599,cost:5.8977s\n",
      "epoch:38/100\n",
      "loss:0.07383908,cost:5.8474s\n",
      "epoch:39/100\n",
      "loss:0.07118444,cost:5.7376s\n",
      "epoch:40/100\n",
      "loss:0.06867004,cost:5.8704s\n",
      "epoch:41/100\n",
      "loss:0.06612423,cost:6.0067s\n",
      "epoch:42/100\n",
      "loss:0.06388748,cost:5.8584s\n",
      "epoch:43/100\n",
      "loss:0.06164638,cost:5.8656s\n",
      "epoch:44/100\n",
      "loss:0.05938878,cost:5.8889s\n",
      "epoch:45/100\n",
      "loss:0.05728321,cost:5.8065s\n",
      "epoch:46/100\n",
      "loss:0.05539732,cost:5.8560s\n",
      "epoch:47/100\n",
      "loss:0.05341258,cost:5.7691s\n",
      "epoch:48/100\n",
      "loss:0.05163787,cost:5.8776s\n",
      "epoch:49/100\n",
      "loss:0.04983618,cost:5.6760s\n",
      "epoch:50/100\n",
      "loss:0.04813577,cost:5.7426s\n",
      "epoch:51/100\n",
      "loss:0.04649499,cost:5.8863s\n",
      "epoch:52/100\n",
      "loss:0.04480976,cost:5.8213s\n",
      "epoch:53/100\n",
      "loss:0.04303895,cost:5.9965s\n",
      "epoch:54/100\n",
      "loss:0.04159451,cost:6.1663s\n",
      "epoch:55/100\n",
      "loss:0.04000724,cost:5.8688s\n",
      "epoch:56/100\n",
      "loss:0.03866161,cost:5.8417s\n",
      "epoch:57/100\n",
      "loss:0.03713050,cost:5.7857s\n",
      "epoch:58/100\n",
      "loss:0.03595194,cost:5.8211s\n",
      "epoch:59/100\n",
      "loss:0.03459970,cost:5.8169s\n",
      "epoch:60/100\n",
      "loss:0.03345644,cost:5.8783s\n",
      "epoch:61/100\n",
      "loss:0.03224473,cost:6.0182s\n",
      "epoch:62/100\n",
      "loss:0.03120191,cost:5.7167s\n",
      "epoch:63/100\n",
      "loss:0.03000679,cost:5.8888s\n",
      "epoch:64/100\n",
      "loss:0.02898016,cost:5.8736s\n",
      "epoch:65/100\n",
      "loss:0.02796669,cost:5.9883s\n",
      "epoch:66/100\n",
      "loss:0.02682997,cost:5.8936s\n",
      "epoch:67/100\n",
      "loss:0.02586638,cost:5.8172s\n",
      "epoch:68/100\n",
      "loss:0.02485979,cost:5.8376s\n",
      "epoch:69/100\n",
      "loss:0.02402303,cost:5.8940s\n",
      "epoch:70/100\n",
      "loss:0.02308226,cost:5.8374s\n",
      "epoch:71/100\n",
      "loss:0.02205738,cost:5.8696s\n",
      "epoch:72/100\n",
      "loss:0.02133938,cost:5.8058s\n",
      "epoch:73/100\n",
      "loss:0.02027213,cost:5.9456s\n",
      "epoch:74/100\n",
      "loss:0.01951335,cost:5.8189s\n",
      "epoch:75/100\n",
      "loss:0.01877790,cost:5.7476s\n",
      "epoch:76/100\n",
      "loss:0.01788996,cost:5.5509s\n",
      "epoch:77/100\n",
      "loss:0.01713417,cost:5.4664s\n",
      "epoch:78/100\n",
      "loss:0.01639300,cost:5.5890s\n",
      "epoch:79/100\n",
      "loss:0.01563573,cost:5.4757s\n",
      "epoch:80/100\n",
      "loss:0.01496661,cost:5.7422s\n",
      "epoch:81/100\n",
      "loss:0.01433185,cost:5.4460s\n",
      "epoch:82/100\n",
      "loss:0.01367866,cost:5.4460s\n",
      "epoch:83/100\n",
      "loss:0.01305621,cost:5.4551s\n",
      "epoch:84/100\n",
      "loss:0.01252317,cost:5.4376s\n",
      "epoch:85/100\n",
      "loss:0.01199845,cost:5.4199s\n",
      "epoch:86/100\n",
      "loss:0.01146393,cost:5.6113s\n",
      "epoch:87/100\n",
      "loss:0.01093903,cost:5.6236s\n",
      "epoch:88/100\n",
      "loss:0.01048909,cost:5.4838s\n",
      "epoch:89/100\n",
      "loss:0.00999262,cost:5.5239s\n",
      "epoch:90/100\n",
      "loss:0.00959601,cost:5.4924s\n",
      "epoch:91/100\n",
      "loss:0.00918276,cost:5.5038s\n",
      "epoch:92/100\n",
      "loss:0.00883940,cost:5.3526s\n",
      "epoch:93/100\n",
      "loss:0.00844056,cost:5.4012s\n",
      "epoch:94/100\n",
      "loss:0.00807242,cost:5.4114s\n",
      "epoch:95/100\n",
      "loss:0.00778792,cost:5.3522s\n",
      "epoch:96/100\n",
      "loss:0.00747870,cost:5.3486s\n",
      "epoch:97/100\n",
      "loss:0.00717105,cost:5.4797s\n",
      "epoch:98/100\n",
      "loss:0.00687804,cost:5.5665s\n",
      "epoch:99/100\n",
      "loss:0.00660797,cost:5.4080s\n",
      "saving model...\n",
      "-complete-\n",
      "saving loss...\n",
      "-complete-\n",
      "/home/moxiaoyu/anaconda3/envs/py2/lib/python2.7/site-packages/torch/serialization.py:360: UserWarning: Couldn't retrieve source code for container of type LeNet. It won't be checked for correctness upon loading.\n",
      "  \"type \" + obj.__name__ + \". It won't be checked \"\n"
     ]
    }
   ],
   "source": [
    "gen.adv_train(\n",
    "    data_set, \n",
    "    adv_sample_path, \n",
    "    sample_num, \n",
    "    sample_shape, \n",
    "    train_model, \n",
    "    model_lossfun, \n",
    "    model_optimizer, \n",
    "    config, \n",
    "    METHOD_dataset_NET_TNET)"
   ]
  },
  {
   "cell_type": "code",
   "execution_count": 7,
   "metadata": {},
   "outputs": [],
   "source": [
    "import val"
   ]
  },
  {
   "cell_type": "code",
   "execution_count": 8,
   "metadata": {},
   "outputs": [],
   "source": [
    "adv_model = torch.load('../model/adv_train/PGD_mnist_LeNet_LeNet/model.pkl')"
   ]
  },
  {
   "cell_type": "code",
   "execution_count": 9,
   "metadata": {},
   "outputs": [
    {
     "output_type": "display_data",
     "data": {
      "image/png": "[encoded data removed]",
      "text/plain": "<Figure size 432x288 with 1 Axes>",
      "image/svg+xml": "<?xml version=\"1.0\" encoding=\"utf-8\" standalone=\"no\"?>\n<!DOCTYPE svg PUBLIC \"-//W3C//DTD SVG 1.1//EN\"\n  \"http://www.w3.org/Graphics/SVG/1.1/DTD/svg11.dtd\">\n<!-- Created with matplotlib (http://matplotlib.org/) -->\n<svg height=\"277.314375pt\" version=\"1.1\" viewBox=\"0 0 379.740625 277.314375\" width=\"379.740625pt\" xmlns=\"http://www.w3.org/2000/svg\" xmlns:xlink=\"http://www.w3.org/1999/xlink\">\n <defs>\n  <style type=\"text/css\">\n*{stroke-linecap:butt;stroke-linejoin:round;}\n  </style>\n </defs>\n <g id=\"figure_1\">\n  <g id=\"patch_1\">\n   <path d=\"M 0 277.314375 \nL 379.740625 277.314375 \nL 379.740625 0 \nL 0 0 \nz\n\" style=\"fill:none;\"/>\n  </g>\n  <g id=\"axes_1\">\n   <g id=\"patch_2\">\n    <path d=\"M 34.240625 239.758125 \nL 369.040625 239.758125 \nL 369.040625 22.318125 \nL 34.240625 22.318125 \nz\n\" style=\"fill:#ffffff;\"/>\n   </g>\n   <g id=\"matplotlib.axis_1\">\n    <g id=\"xtick_1\">\n     <g id=\"line2d_1\">\n      <defs>\n       <path d=\"M 0 0 \nL 0 3.5 \n\" id=\"ma388fe875b\" style=\"stroke:#000000;stroke-width:0.8;\"/>\n      </defs>\n      <g>\n       <use style=\"stroke:#000000;stroke-width:0.8;\" x=\"49.458807\" xlink:href=\"#ma388fe875b\" y=\"239.758125\"/>\n      </g>\n     </g>\n     <g id=\"text_1\">\n      <!-- 0 -->\n      <defs>\n       <path d=\"M 31.78125 66.40625 \nQ 24.171875 66.40625 20.328125 58.90625 \nQ 16.5 51.421875 16.5 36.375 \nQ 16.5 21.390625 20.328125 13.890625 \nQ 24.171875 6.390625 31.78125 6.390625 \nQ 39.453125 6.390625 43.28125 13.890625 \nQ 47.125 21.390625 47.125 36.375 \nQ 47.125 51.421875 43.28125 58.90625 \nQ 39.453125 66.40625 31.78125 66.40625 \nz\nM 31.78125 74.21875 \nQ 44.046875 74.21875 50.515625 64.515625 \nQ 56.984375 54.828125 56.984375 36.375 \nQ 56.984375 17.96875 50.515625 8.265625 \nQ 44.046875 -1.421875 31.78125 -1.421875 \nQ 19.53125 -1.421875 13.0625 8.265625 \nQ 6.59375 17.96875 6.59375 36.375 \nQ 6.59375 54.828125 13.0625 64.515625 \nQ 19.53125 74.21875 31.78125 74.21875 \nz\n\" id=\"DejaVuSans-30\"/>\n      </defs>\n      <g transform=\"translate(46.277557 254.356562)scale(0.1 -0.1)\">\n       <use xlink:href=\"#DejaVuSans-30\"/>\n      </g>\n     </g>\n    </g>\n    <g id=\"xtick_2\">\n     <g id=\"line2d_2\">\n      <g>\n       <use style=\"stroke:#000000;stroke-width:0.8;\" x=\"110.94641\" xlink:href=\"#ma388fe875b\" y=\"239.758125\"/>\n      </g>\n     </g>\n     <g id=\"text_2\">\n      <!-- 20 -->\n      <defs>\n       <path d=\"M 19.1875 8.296875 \nL 53.609375 8.296875 \nL 53.609375 0 \nL 7.328125 0 \nL 7.328125 8.296875 \nQ 12.9375 14.109375 22.625 23.890625 \nQ 32.328125 33.6875 34.8125 36.53125 \nQ 39.546875 41.84375 41.421875 45.53125 \nQ 43.3125 49.21875 43.3125 52.78125 \nQ 43.3125 58.59375 39.234375 62.25 \nQ 35.15625 65.921875 28.609375 65.921875 \nQ 23.96875 65.921875 18.8125 64.3125 \nQ 13.671875 62.703125 7.8125 59.421875 \nL 7.8125 69.390625 \nQ 13.765625 71.78125 18.9375 73 \nQ 24.125 74.21875 28.421875 74.21875 \nQ 39.75 74.21875 46.484375 68.546875 \nQ 53.21875 62.890625 53.21875 53.421875 \nQ 53.21875 48.921875 51.53125 44.890625 \nQ 49.859375 40.875 45.40625 35.40625 \nQ 44.1875 33.984375 37.640625 27.21875 \nQ 31.109375 20.453125 19.1875 8.296875 \nz\n\" id=\"DejaVuSans-32\"/>\n      </defs>\n      <g transform=\"translate(104.58391 254.356562)scale(0.1 -0.1)\">\n       <use xlink:href=\"#DejaVuSans-32\"/>\n       <use x=\"63.623047\" xlink:href=\"#DejaVuSans-30\"/>\n      </g>\n     </g>\n    </g>\n    <g id=\"xtick_3\">\n     <g id=\"line2d_3\">\n      <g>\n       <use style=\"stroke:#000000;stroke-width:0.8;\" x=\"172.434013\" xlink:href=\"#ma388fe875b\" y=\"239.758125\"/>\n      </g>\n     </g>\n     <g id=\"text_3\">\n      <!-- 40 -->\n      <defs>\n       <path d=\"M 37.796875 64.3125 \nL 12.890625 25.390625 \nL 37.796875 25.390625 \nz\nM 35.203125 72.90625 \nL 47.609375 72.90625 \nL 47.609375 25.390625 \nL 58.015625 25.390625 \nL 58.015625 17.1875 \nL 47.609375 17.1875 \nL 47.609375 0 \nL 37.796875 0 \nL 37.796875 17.1875 \nL 4.890625 17.1875 \nL 4.890625 26.703125 \nz\n\" id=\"DejaVuSans-34\"/>\n      </defs>\n      <g transform=\"translate(166.071513 254.356562)scale(0.1 -0.1)\">\n       <use xlink:href=\"#DejaVuSans-34\"/>\n       <use x=\"63.623047\" xlink:href=\"#DejaVuSans-30\"/>\n      </g>\n     </g>\n    </g>\n    <g id=\"xtick_4\">\n     <g id=\"line2d_4\">\n      <g>\n       <use style=\"stroke:#000000;stroke-width:0.8;\" x=\"233.921617\" xlink:href=\"#ma388fe875b\" y=\"239.758125\"/>\n      </g>\n     </g>\n     <g id=\"text_4\">\n      <!-- 60 -->\n      <defs>\n       <path d=\"M 33.015625 40.375 \nQ 26.375 40.375 22.484375 35.828125 \nQ 18.609375 31.296875 18.609375 23.390625 \nQ 18.609375 15.53125 22.484375 10.953125 \nQ 26.375 6.390625 33.015625 6.390625 \nQ 39.65625 6.390625 43.53125 10.953125 \nQ 47.40625 15.53125 47.40625 23.390625 \nQ 47.40625 31.296875 43.53125 35.828125 \nQ 39.65625 40.375 33.015625 40.375 \nz\nM 52.59375 71.296875 \nL 52.59375 62.3125 \nQ 48.875 64.0625 45.09375 64.984375 \nQ 41.3125 65.921875 37.59375 65.921875 \nQ 27.828125 65.921875 22.671875 59.328125 \nQ 17.53125 52.734375 16.796875 39.40625 \nQ 19.671875 43.65625 24.015625 45.921875 \nQ 28.375 48.1875 33.59375 48.1875 \nQ 44.578125 48.1875 50.953125 41.515625 \nQ 57.328125 34.859375 57.328125 23.390625 \nQ 57.328125 12.15625 50.6875 5.359375 \nQ 44.046875 -1.421875 33.015625 -1.421875 \nQ 20.359375 -1.421875 13.671875 8.265625 \nQ 6.984375 17.96875 6.984375 36.375 \nQ 6.984375 53.65625 15.1875 63.9375 \nQ 23.390625 74.21875 37.203125 74.21875 \nQ 40.921875 74.21875 44.703125 73.484375 \nQ 48.484375 72.75 52.59375 71.296875 \nz\n\" id=\"DejaVuSans-36\"/>\n      </defs>\n      <g transform=\"translate(227.559117 254.356562)scale(0.1 -0.1)\">\n       <use xlink:href=\"#DejaVuSans-36\"/>\n       <use x=\"63.623047\" xlink:href=\"#DejaVuSans-30\"/>\n      </g>\n     </g>\n    </g>\n    <g id=\"xtick_5\">\n     <g id=\"line2d_5\">\n      <g>\n       <use style=\"stroke:#000000;stroke-width:0.8;\" x=\"295.40922\" xlink:href=\"#ma388fe875b\" y=\"239.758125\"/>\n      </g>\n     </g>\n     <g id=\"text_5\">\n      <!-- 80 -->\n      <defs>\n       <path d=\"M 31.78125 34.625 \nQ 24.75 34.625 20.71875 30.859375 \nQ 16.703125 27.09375 16.703125 20.515625 \nQ 16.703125 13.921875 20.71875 10.15625 \nQ 24.75 6.390625 31.78125 6.390625 \nQ 38.8125 6.390625 42.859375 10.171875 \nQ 46.921875 13.96875 46.921875 20.515625 \nQ 46.921875 27.09375 42.890625 30.859375 \nQ 38.875 34.625 31.78125 34.625 \nz\nM 21.921875 38.8125 \nQ 15.578125 40.375 12.03125 44.71875 \nQ 8.5 49.078125 8.5 55.328125 \nQ 8.5 64.0625 14.71875 69.140625 \nQ 20.953125 74.21875 31.78125 74.21875 \nQ 42.671875 74.21875 48.875 69.140625 \nQ 55.078125 64.0625 55.078125 55.328125 \nQ 55.078125 49.078125 51.53125 44.71875 \nQ 48 40.375 41.703125 38.8125 \nQ 48.828125 37.15625 52.796875 32.3125 \nQ 56.78125 27.484375 56.78125 20.515625 \nQ 56.78125 9.90625 50.3125 4.234375 \nQ 43.84375 -1.421875 31.78125 -1.421875 \nQ 19.734375 -1.421875 13.25 4.234375 \nQ 6.78125 9.90625 6.78125 20.515625 \nQ 6.78125 27.484375 10.78125 32.3125 \nQ 14.796875 37.15625 21.921875 38.8125 \nz\nM 18.3125 54.390625 \nQ 18.3125 48.734375 21.84375 45.5625 \nQ 25.390625 42.390625 31.78125 42.390625 \nQ 38.140625 42.390625 41.71875 45.5625 \nQ 45.3125 48.734375 45.3125 54.390625 \nQ 45.3125 60.0625 41.71875 63.234375 \nQ 38.140625 66.40625 31.78125 66.40625 \nQ 25.390625 66.40625 21.84375 63.234375 \nQ 18.3125 60.0625 18.3125 54.390625 \nz\n\" id=\"DejaVuSans-38\"/>\n      </defs>\n      <g transform=\"translate(289.04672 254.356562)scale(0.1 -0.1)\">\n       <use xlink:href=\"#DejaVuSans-38\"/>\n       <use x=\"63.623047\" xlink:href=\"#DejaVuSans-30\"/>\n      </g>\n     </g>\n    </g>\n    <g id=\"xtick_6\">\n     <g id=\"line2d_6\">\n      <g>\n       <use style=\"stroke:#000000;stroke-width:0.8;\" x=\"356.896823\" xlink:href=\"#ma388fe875b\" y=\"239.758125\"/>\n      </g>\n     </g>\n     <g id=\"text_6\">\n      <!-- 100 -->\n      <defs>\n       <path d=\"M 12.40625 8.296875 \nL 28.515625 8.296875 \nL 28.515625 63.921875 \nL 10.984375 60.40625 \nL 10.984375 69.390625 \nL 28.421875 72.90625 \nL 38.28125 72.90625 \nL 38.28125 8.296875 \nL 54.390625 8.296875 \nL 54.390625 0 \nL 12.40625 0 \nz\n\" id=\"DejaVuSans-31\"/>\n      </defs>\n      <g transform=\"translate(347.353073 254.356562)scale(0.1 -0.1)\">\n       <use xlink:href=\"#DejaVuSans-31\"/>\n       <use x=\"63.623047\" xlink:href=\"#DejaVuSans-30\"/>\n       <use x=\"127.246094\" xlink:href=\"#DejaVuSans-30\"/>\n      </g>\n     </g>\n    </g>\n    <g id=\"text_7\">\n     <!-- Epoch -->\n     <defs>\n      <path d=\"M 9.8125 72.90625 \nL 55.90625 72.90625 \nL 55.90625 64.59375 \nL 19.671875 64.59375 \nL 19.671875 43.015625 \nL 54.390625 43.015625 \nL 54.390625 34.71875 \nL 19.671875 34.71875 \nL 19.671875 8.296875 \nL 56.78125 8.296875 \nL 56.78125 0 \nL 9.8125 0 \nz\n\" id=\"DejaVuSans-45\"/>\n      <path d=\"M 18.109375 8.203125 \nL 18.109375 -20.796875 \nL 9.078125 -20.796875 \nL 9.078125 54.6875 \nL 18.109375 54.6875 \nL 18.109375 46.390625 \nQ 20.953125 51.265625 25.265625 53.625 \nQ 29.59375 56 35.59375 56 \nQ 45.5625 56 51.78125 48.09375 \nQ 58.015625 40.1875 58.015625 27.296875 \nQ 58.015625 14.40625 51.78125 6.484375 \nQ 45.5625 -1.421875 35.59375 -1.421875 \nQ 29.59375 -1.421875 25.265625 0.953125 \nQ 20.953125 3.328125 18.109375 8.203125 \nz\nM 48.6875 27.296875 \nQ 48.6875 37.203125 44.609375 42.84375 \nQ 40.53125 48.484375 33.40625 48.484375 \nQ 26.265625 48.484375 22.1875 42.84375 \nQ 18.109375 37.203125 18.109375 27.296875 \nQ 18.109375 17.390625 22.1875 11.75 \nQ 26.265625 6.109375 33.40625 6.109375 \nQ 40.53125 6.109375 44.609375 11.75 \nQ 48.6875 17.390625 48.6875 27.296875 \nz\n\" id=\"DejaVuSans-70\"/>\n      <path d=\"M 30.609375 48.390625 \nQ 23.390625 48.390625 19.1875 42.75 \nQ 14.984375 37.109375 14.984375 27.296875 \nQ 14.984375 17.484375 19.15625 11.84375 \nQ 23.34375 6.203125 30.609375 6.203125 \nQ 37.796875 6.203125 41.984375 11.859375 \nQ 46.1875 17.53125 46.1875 27.296875 \nQ 46.1875 37.015625 41.984375 42.703125 \nQ 37.796875 48.390625 30.609375 48.390625 \nz\nM 30.609375 56 \nQ 42.328125 56 49.015625 48.375 \nQ 55.71875 40.765625 55.71875 27.296875 \nQ 55.71875 13.875 49.015625 6.21875 \nQ 42.328125 -1.421875 30.609375 -1.421875 \nQ 18.84375 -1.421875 12.171875 6.21875 \nQ 5.515625 13.875 5.515625 27.296875 \nQ 5.515625 40.765625 12.171875 48.375 \nQ 18.84375 56 30.609375 56 \nz\n\" id=\"DejaVuSans-6f\"/>\n      <path d=\"M 48.78125 52.59375 \nL 48.78125 44.1875 \nQ 44.96875 46.296875 41.140625 47.34375 \nQ 37.3125 48.390625 33.40625 48.390625 \nQ 24.65625 48.390625 19.8125 42.84375 \nQ 14.984375 37.3125 14.984375 27.296875 \nQ 14.984375 17.28125 19.8125 11.734375 \nQ 24.65625 6.203125 33.40625 6.203125 \nQ 37.3125 6.203125 41.140625 7.25 \nQ 44.96875 8.296875 48.78125 10.40625 \nL 48.78125 2.09375 \nQ 45.015625 0.34375 40.984375 -0.53125 \nQ 36.96875 -1.421875 32.421875 -1.421875 \nQ 20.0625 -1.421875 12.78125 6.34375 \nQ 5.515625 14.109375 5.515625 27.296875 \nQ 5.515625 40.671875 12.859375 48.328125 \nQ 20.21875 56 33.015625 56 \nQ 37.15625 56 41.109375 55.140625 \nQ 45.0625 54.296875 48.78125 52.59375 \nz\n\" id=\"DejaVuSans-63\"/>\n      <path d=\"M 54.890625 33.015625 \nL 54.890625 0 \nL 45.90625 0 \nL 45.90625 32.71875 \nQ 45.90625 40.484375 42.875 44.328125 \nQ 39.84375 48.1875 33.796875 48.1875 \nQ 26.515625 48.1875 22.3125 43.546875 \nQ 18.109375 38.921875 18.109375 30.90625 \nL 18.109375 0 \nL 9.078125 0 \nL 9.078125 75.984375 \nL 18.109375 75.984375 \nL 18.109375 46.1875 \nQ 21.34375 51.125 25.703125 53.5625 \nQ 30.078125 56 35.796875 56 \nQ 45.21875 56 50.046875 50.171875 \nQ 54.890625 44.34375 54.890625 33.015625 \nz\n\" id=\"DejaVuSans-68\"/>\n     </defs>\n     <g transform=\"translate(186.329688 268.034687)scale(0.1 -0.1)\">\n      <use xlink:href=\"#DejaVuSans-45\"/>\n      <use x=\"63.183594\" xlink:href=\"#DejaVuSans-70\"/>\n      <use x=\"126.660156\" xlink:href=\"#DejaVuSans-6f\"/>\n      <use x=\"187.841797\" xlink:href=\"#DejaVuSans-63\"/>\n      <use x=\"242.822266\" xlink:href=\"#DejaVuSans-68\"/>\n     </g>\n    </g>\n   </g>\n   <g id=\"matplotlib.axis_2\">\n    <g id=\"ytick_1\">\n     <g id=\"line2d_7\">\n      <defs>\n       <path d=\"M 0 0 \nL -3.5 0 \n\" id=\"ma6e1301edd\" style=\"stroke:#000000;stroke-width:0.8;\"/>\n      </defs>\n      <g>\n       <use style=\"stroke:#000000;stroke-width:0.8;\" x=\"34.240625\" xlink:href=\"#ma6e1301edd\" y=\"230.029601\"/>\n      </g>\n     </g>\n     <g id=\"text_8\">\n      <!-- 0 -->\n      <g transform=\"translate(20.878125 233.82882)scale(0.1 -0.1)\">\n       <use xlink:href=\"#DejaVuSans-30\"/>\n      </g>\n     </g>\n    </g>\n    <g id=\"ytick_2\">\n     <g id=\"line2d_8\">\n      <g>\n       <use style=\"stroke:#000000;stroke-width:0.8;\" x=\"34.240625\" xlink:href=\"#ma6e1301edd\" y=\"183.082628\"/>\n      </g>\n     </g>\n     <g id=\"text_9\">\n      <!-- 2 -->\n      <g transform=\"translate(20.878125 186.881846)scale(0.1 -0.1)\">\n       <use xlink:href=\"#DejaVuSans-32\"/>\n      </g>\n     </g>\n    </g>\n    <g id=\"ytick_3\">\n     <g id=\"line2d_9\">\n      <g>\n       <use style=\"stroke:#000000;stroke-width:0.8;\" x=\"34.240625\" xlink:href=\"#ma6e1301edd\" y=\"136.135655\"/>\n      </g>\n     </g>\n     <g id=\"text_10\">\n      <!-- 4 -->\n      <g transform=\"translate(20.878125 139.934873)scale(0.1 -0.1)\">\n       <use xlink:href=\"#DejaVuSans-34\"/>\n      </g>\n     </g>\n    </g>\n    <g id=\"ytick_4\">\n     <g id=\"line2d_10\">\n      <g>\n       <use style=\"stroke:#000000;stroke-width:0.8;\" x=\"34.240625\" xlink:href=\"#ma6e1301edd\" y=\"89.188681\"/>\n      </g>\n     </g>\n     <g id=\"text_11\">\n      <!-- 6 -->\n      <g transform=\"translate(20.878125 92.9879)scale(0.1 -0.1)\">\n       <use xlink:href=\"#DejaVuSans-36\"/>\n      </g>\n     </g>\n    </g>\n    <g id=\"ytick_5\">\n     <g id=\"line2d_11\">\n      <g>\n       <use style=\"stroke:#000000;stroke-width:0.8;\" x=\"34.240625\" xlink:href=\"#ma6e1301edd\" y=\"42.241708\"/>\n      </g>\n     </g>\n     <g id=\"text_12\">\n      <!-- 8 -->\n      <g transform=\"translate(20.878125 46.040927)scale(0.1 -0.1)\">\n       <use xlink:href=\"#DejaVuSans-38\"/>\n      </g>\n     </g>\n    </g>\n    <g id=\"text_13\">\n     <!-- Loss -->\n     <defs>\n      <path d=\"M 9.8125 72.90625 \nL 19.671875 72.90625 \nL 19.671875 8.296875 \nL 55.171875 8.296875 \nL 55.171875 0 \nL 9.8125 0 \nz\n\" id=\"DejaVuSans-4c\"/>\n      <path d=\"M 44.28125 53.078125 \nL 44.28125 44.578125 \nQ 40.484375 46.53125 36.375 47.5 \nQ 32.28125 48.484375 27.875 48.484375 \nQ 21.1875 48.484375 17.84375 46.4375 \nQ 14.5 44.390625 14.5 40.28125 \nQ 14.5 37.15625 16.890625 35.375 \nQ 19.28125 33.59375 26.515625 31.984375 \nL 29.59375 31.296875 \nQ 39.15625 29.25 43.1875 25.515625 \nQ 47.21875 21.78125 47.21875 15.09375 \nQ 47.21875 7.46875 41.1875 3.015625 \nQ 35.15625 -1.421875 24.609375 -1.421875 \nQ 20.21875 -1.421875 15.453125 -0.5625 \nQ 10.6875 0.296875 5.421875 2 \nL 5.421875 11.28125 \nQ 10.40625 8.6875 15.234375 7.390625 \nQ 20.0625 6.109375 24.8125 6.109375 \nQ 31.15625 6.109375 34.5625 8.28125 \nQ 37.984375 10.453125 37.984375 14.40625 \nQ 37.984375 18.0625 35.515625 20.015625 \nQ 33.0625 21.96875 24.703125 23.78125 \nL 21.578125 24.515625 \nQ 13.234375 26.265625 9.515625 29.90625 \nQ 5.8125 33.546875 5.8125 39.890625 \nQ 5.8125 47.609375 11.28125 51.796875 \nQ 16.75 56 26.8125 56 \nQ 31.78125 56 36.171875 55.265625 \nQ 40.578125 54.546875 44.28125 53.078125 \nz\n\" id=\"DejaVuSans-73\"/>\n     </defs>\n     <g transform=\"translate(14.798437 142.092031)rotate(-90)scale(0.1 -0.1)\">\n      <use xlink:href=\"#DejaVuSans-4c\"/>\n      <use x=\"55.697266\" xlink:href=\"#DejaVuSans-6f\"/>\n      <use x=\"116.878906\" xlink:href=\"#DejaVuSans-73\"/>\n      <use x=\"168.978516\" xlink:href=\"#DejaVuSans-73\"/>\n     </g>\n    </g>\n   </g>\n   <g id=\"line2d_12\">\n    <path clip-path=\"url(#pe5b8a5e5cb)\" d=\"M 49.458807 32.201761 \nL 52.533187 43.397691 \nL 55.607567 186.840802 \nL 58.681947 208.95778 \nL 61.756327 215.292114 \nL 64.830708 218.493816 \nL 67.905088 220.408338 \nL 70.979468 221.675722 \nL 74.053848 222.578201 \nL 77.128228 223.279099 \nL 80.202608 223.826431 \nL 83.276989 224.272293 \nL 86.351369 224.637345 \nL 89.425749 224.944723 \nL 92.500129 225.218047 \nL 95.574509 225.480569 \nL 98.648889 225.730146 \nL 101.72327 225.960569 \nL 104.79765 226.159226 \nL 107.87203 226.346303 \nL 110.94641 226.514008 \nL 114.02079 226.669876 \nL 117.09517 226.811253 \nL 120.169551 226.942684 \nL 123.243931 227.071324 \nL 126.318311 227.19203 \nL 129.392691 227.302041 \nL 132.467071 227.407933 \nL 135.541451 227.508086 \nL 138.615832 227.604396 \nL 141.690212 227.693012 \nL 144.764592 227.788022 \nL 147.838972 227.867417 \nL 150.913352 227.946931 \nL 153.987732 228.020742 \nL 157.062113 228.093558 \nL 160.136493 228.161834 \nL 163.210873 228.229279 \nL 166.285253 228.29634 \nL 169.359633 228.358654 \nL 172.434013 228.417676 \nL 175.508394 228.477435 \nL 178.582774 228.529939 \nL 181.657154 228.582545 \nL 184.731534 228.635539 \nL 187.805914 228.684964 \nL 190.880294 228.729233 \nL 193.954675 228.775821 \nL 197.029055 228.81748 \nL 200.103435 228.859772 \nL 203.177815 228.899686 \nL 206.252195 228.938201 \nL 209.326575 228.97776 \nL 212.400956 229.019327 \nL 215.475336 229.053233 \nL 218.549716 229.090491 \nL 221.624096 229.122078 \nL 224.698476 229.158019 \nL 227.772856 229.185683 \nL 230.847237 229.217425 \nL 233.921617 229.244262 \nL 236.995997 229.272704 \nL 240.070377 229.297183 \nL 243.144757 229.325237 \nL 246.219137 229.349335 \nL 249.293518 229.373125 \nL 252.367898 229.399808 \nL 255.442278 229.422427 \nL 258.516658 229.446055 \nL 261.591038 229.465697 \nL 264.665418 229.48778 \nL 267.739799 229.511837 \nL 270.814179 229.528691 \nL 273.888559 229.553743 \nL 276.962939 229.571555 \nL 280.037319 229.588818 \nL 283.111699 229.609661 \nL 286.18608 229.627402 \nL 289.26046 229.6448 \nL 292.33484 229.662576 \nL 295.40922 229.678282 \nL 298.4836 229.693182 \nL 301.55798 229.708515 \nL 304.632361 229.723126 \nL 307.706741 229.735638 \nL 310.781121 229.747955 \nL 313.855501 229.760502 \nL 316.929881 229.772824 \nL 320.004261 229.783385 \nL 323.078642 229.795039 \nL 326.153022 229.804349 \nL 329.227402 229.814049 \nL 332.301782 229.822109 \nL 335.376162 229.831472 \nL 338.450542 229.840113 \nL 341.524923 229.846791 \nL 344.599303 229.85405 \nL 347.673683 229.861271 \nL 350.748063 229.868149 \nL 353.822443 229.874489 \n\" style=\"fill:none;stroke:#ff0000;stroke-linecap:square;stroke-width:1.5;\"/>\n   </g>\n   <g id=\"patch_3\">\n    <path d=\"M 34.240625 239.758125 \nL 34.240625 22.318125 \n\" style=\"fill:none;stroke:#000000;stroke-linecap:square;stroke-linejoin:miter;stroke-width:0.8;\"/>\n   </g>\n   <g id=\"patch_4\">\n    <path d=\"M 369.040625 239.758125 \nL 369.040625 22.318125 \n\" style=\"fill:none;stroke:#000000;stroke-linecap:square;stroke-linejoin:miter;stroke-width:0.8;\"/>\n   </g>\n   <g id=\"patch_5\">\n    <path d=\"M 34.240625 239.758125 \nL 369.040625 239.758125 \n\" style=\"fill:none;stroke:#000000;stroke-linecap:square;stroke-linejoin:miter;stroke-width:0.8;\"/>\n   </g>\n   <g id=\"patch_6\">\n    <path d=\"M 34.240625 22.318125 \nL 369.040625 22.318125 \n\" style=\"fill:none;stroke:#000000;stroke-linecap:square;stroke-linejoin:miter;stroke-width:0.8;\"/>\n   </g>\n   <g id=\"text_14\">\n    <!-- Loss of model -->\n    <defs>\n     <path id=\"DejaVuSans-20\"/>\n     <path d=\"M 37.109375 75.984375 \nL 37.109375 68.5 \nL 28.515625 68.5 \nQ 23.6875 68.5 21.796875 66.546875 \nQ 19.921875 64.59375 19.921875 59.515625 \nL 19.921875 54.6875 \nL 34.71875 54.6875 \nL 34.71875 47.703125 \nL 19.921875 47.703125 \nL 19.921875 0 \nL 10.890625 0 \nL 10.890625 47.703125 \nL 2.296875 47.703125 \nL 2.296875 54.6875 \nL 10.890625 54.6875 \nL 10.890625 58.5 \nQ 10.890625 67.625 15.140625 71.796875 \nQ 19.390625 75.984375 28.609375 75.984375 \nz\n\" id=\"DejaVuSans-66\"/>\n     <path d=\"M 52 44.1875 \nQ 55.375 50.25 60.0625 53.125 \nQ 64.75 56 71.09375 56 \nQ 79.640625 56 84.28125 50.015625 \nQ 88.921875 44.046875 88.921875 33.015625 \nL 88.921875 0 \nL 79.890625 0 \nL 79.890625 32.71875 \nQ 79.890625 40.578125 77.09375 44.375 \nQ 74.3125 48.1875 68.609375 48.1875 \nQ 61.625 48.1875 57.5625 43.546875 \nQ 53.515625 38.921875 53.515625 30.90625 \nL 53.515625 0 \nL 44.484375 0 \nL 44.484375 32.71875 \nQ 44.484375 40.625 41.703125 44.40625 \nQ 38.921875 48.1875 33.109375 48.1875 \nQ 26.21875 48.1875 22.15625 43.53125 \nQ 18.109375 38.875 18.109375 30.90625 \nL 18.109375 0 \nL 9.078125 0 \nL 9.078125 54.6875 \nL 18.109375 54.6875 \nL 18.109375 46.1875 \nQ 21.1875 51.21875 25.484375 53.609375 \nQ 29.78125 56 35.6875 56 \nQ 41.65625 56 45.828125 52.96875 \nQ 50 49.953125 52 44.1875 \nz\n\" id=\"DejaVuSans-6d\"/>\n     <path d=\"M 45.40625 46.390625 \nL 45.40625 75.984375 \nL 54.390625 75.984375 \nL 54.390625 0 \nL 45.40625 0 \nL 45.40625 8.203125 \nQ 42.578125 3.328125 38.25 0.953125 \nQ 33.9375 -1.421875 27.875 -1.421875 \nQ 17.96875 -1.421875 11.734375 6.484375 \nQ 5.515625 14.40625 5.515625 27.296875 \nQ 5.515625 40.1875 11.734375 48.09375 \nQ 17.96875 56 27.875 56 \nQ 33.9375 56 38.25 53.625 \nQ 42.578125 51.265625 45.40625 46.390625 \nz\nM 14.796875 27.296875 \nQ 14.796875 17.390625 18.875 11.75 \nQ 22.953125 6.109375 30.078125 6.109375 \nQ 37.203125 6.109375 41.296875 11.75 \nQ 45.40625 17.390625 45.40625 27.296875 \nQ 45.40625 37.203125 41.296875 42.84375 \nQ 37.203125 48.484375 30.078125 48.484375 \nQ 22.953125 48.484375 18.875 42.84375 \nQ 14.796875 37.203125 14.796875 27.296875 \nz\n\" id=\"DejaVuSans-64\"/>\n     <path d=\"M 56.203125 29.59375 \nL 56.203125 25.203125 \nL 14.890625 25.203125 \nQ 15.484375 15.921875 20.484375 11.0625 \nQ 25.484375 6.203125 34.421875 6.203125 \nQ 39.59375 6.203125 44.453125 7.46875 \nQ 49.3125 8.734375 54.109375 11.28125 \nL 54.109375 2.78125 \nQ 49.265625 0.734375 44.1875 -0.34375 \nQ 39.109375 -1.421875 33.890625 -1.421875 \nQ 20.796875 -1.421875 13.15625 6.1875 \nQ 5.515625 13.8125 5.515625 26.8125 \nQ 5.515625 40.234375 12.765625 48.109375 \nQ 20.015625 56 32.328125 56 \nQ 43.359375 56 49.78125 48.890625 \nQ 56.203125 41.796875 56.203125 29.59375 \nz\nM 47.21875 32.234375 \nQ 47.125 39.59375 43.09375 43.984375 \nQ 39.0625 48.390625 32.421875 48.390625 \nQ 24.90625 48.390625 20.390625 44.140625 \nQ 15.875 39.890625 15.1875 32.171875 \nz\n\" id=\"DejaVuSans-65\"/>\n     <path d=\"M 9.421875 75.984375 \nL 18.40625 75.984375 \nL 18.40625 0 \nL 9.421875 0 \nz\n\" id=\"DejaVuSans-6c\"/>\n    </defs>\n    <g transform=\"translate(160.095313 16.318125)scale(0.12 -0.12)\">\n     <use xlink:href=\"#DejaVuSans-4c\"/>\n     <use x=\"55.697266\" xlink:href=\"#DejaVuSans-6f\"/>\n     <use x=\"116.878906\" xlink:href=\"#DejaVuSans-73\"/>\n     <use x=\"168.978516\" xlink:href=\"#DejaVuSans-73\"/>\n     <use x=\"221.078125\" xlink:href=\"#DejaVuSans-20\"/>\n     <use x=\"252.865234\" xlink:href=\"#DejaVuSans-6f\"/>\n     <use x=\"314.046875\" xlink:href=\"#DejaVuSans-66\"/>\n     <use x=\"349.251953\" xlink:href=\"#DejaVuSans-20\"/>\n     <use x=\"381.039062\" xlink:href=\"#DejaVuSans-6d\"/>\n     <use x=\"478.451172\" xlink:href=\"#DejaVuSans-6f\"/>\n     <use x=\"539.632812\" xlink:href=\"#DejaVuSans-64\"/>\n     <use x=\"603.109375\" xlink:href=\"#DejaVuSans-65\"/>\n     <use x=\"664.632812\" xlink:href=\"#DejaVuSans-6c\"/>\n    </g>\n   </g>\n   <g id=\"legend_1\">\n    <g id=\"patch_7\">\n     <path d=\"M 307.932813 44.99625 \nL 362.040625 44.99625 \nQ 364.040625 44.99625 364.040625 42.99625 \nL 364.040625 29.318125 \nQ 364.040625 27.318125 362.040625 27.318125 \nL 307.932813 27.318125 \nQ 305.932813 27.318125 305.932813 29.318125 \nL 305.932813 42.99625 \nQ 305.932813 44.99625 307.932813 44.99625 \nz\n\" style=\"fill:#ffffff;opacity:0.8;stroke:#cccccc;stroke-linejoin:miter;\"/>\n    </g>\n    <g id=\"line2d_13\">\n     <path d=\"M 309.932813 35.416562 \nL 329.932813 35.416562 \n\" style=\"fill:none;stroke:#ff0000;stroke-linecap:square;stroke-width:1.5;\"/>\n    </g>\n    <g id=\"line2d_14\"/>\n    <g id=\"text_15\">\n     <!-- Loss -->\n     <g transform=\"translate(337.932813 38.916562)scale(0.1 -0.1)\">\n      <use xlink:href=\"#DejaVuSans-4c\"/>\n      <use x=\"55.697266\" xlink:href=\"#DejaVuSans-6f\"/>\n      <use x=\"116.878906\" xlink:href=\"#DejaVuSans-73\"/>\n      <use x=\"168.978516\" xlink:href=\"#DejaVuSans-73\"/>\n     </g>\n    </g>\n   </g>\n  </g>\n </g>\n <defs>\n  <clipPath id=\"pe5b8a5e5cb\">\n   <rect height=\"217.44\" width=\"334.8\" x=\"34.240625\" y=\"22.318125\"/>\n  </clipPath>\n </defs>\n</svg>\n"
     },
     "metadata": {
      "needs_background": "light"
     }
    }
   ],
   "source": [
    "# make_loss_curve(loss_file, file_type)\n",
    "val.make_loss_curve(\n",
    "    loss_file = '../model/adv_train/PGD_mnist_LeNet_LeNet/loss.txt',\n",
    "    file_type = 'adv_train')"
   ]
  },
  {
   "cell_type": "code",
   "execution_count": 10,
   "metadata": {},
   "outputs": [],
   "source": [
    "import tst"
   ]
  },
  {
   "cell_type": "code",
   "execution_count": 11,
   "metadata": {},
   "outputs": [
    {
     "output_type": "stream",
     "name": "stdout",
     "text": [
      "accuracy:98.890000%\n"
     ]
    }
   ],
   "source": [
    "tst.accuracy_test(\n",
    "    model = adv_model, \n",
    "    data_set = 'mnist'\n",
    "    )"
   ]
  },
  {
   "source": [
    "## FGSM"
   ],
   "cell_type": "markdown",
   "metadata": {}
  },
  {
   "cell_type": "code",
   "execution_count": 12,
   "metadata": {},
   "outputs": [
    {
     "output_type": "stream",
     "name": "stdout",
     "text": [
      "fooling_rate:6.380000%\n"
     ]
    }
   ],
   "source": [
    "# robustness_test(model, adv_sample_path, sample_num, sample_shape):\n",
    "tst.robustness_test(\n",
    "    model = adv_model,\n",
    "    adv_sample_path = '../sample/FGSM_mnist_FNN/test',\n",
    "    sample_num = 10000,\n",
    "    sample_shape = [1,28,28]\n",
    ")"
   ]
  },
  {
   "cell_type": "code",
   "execution_count": 13,
   "metadata": {},
   "outputs": [
    {
     "output_type": "stream",
     "name": "stdout",
     "text": [
      "fooling_rate:23.290000%\n"
     ]
    }
   ],
   "source": [
    "# robustness_test(model, adv_sample_path, sample_num, sample_shape):\n",
    "tst.robustness_test(\n",
    "    model = adv_model,\n",
    "    adv_sample_path = '../sample/FGSM_mnist_LeNet/test',\n",
    "    sample_num = 10000,\n",
    "    sample_shape = [1,28,28]\n",
    ")"
   ]
  },
  {
   "cell_type": "code",
   "execution_count": 14,
   "metadata": {},
   "outputs": [
    {
     "output_type": "stream",
     "name": "stdout",
     "text": [
      "fooling_rate:4.910000%\n"
     ]
    }
   ],
   "source": [
    "# robustness_test(model, adv_sample_path, sample_num, sample_shape):\n",
    "tst.robustness_test(\n",
    "    model = adv_model,\n",
    "    adv_sample_path = '../sample/FGSM_mnist_ResNet18/test',\n",
    "    sample_num = 10000,\n",
    "    sample_shape = [1,28,28]\n",
    ")"
   ]
  },
  {
   "source": [
    "## JSMA"
   ],
   "cell_type": "markdown",
   "metadata": {}
  },
  {
   "cell_type": "code",
   "execution_count": 15,
   "metadata": {},
   "outputs": [
    {
     "output_type": "stream",
     "name": "stdout",
     "text": [
      "fooling_rate:14.360000%\n"
     ]
    }
   ],
   "source": [
    "# robustness_test(model, adv_sample_path, sample_num, sample_shape):\n",
    "tst.robustness_test(\n",
    "    model = adv_model,\n",
    "    adv_sample_path = '../sample/JSMA_mnist_FNN/test',\n",
    "    sample_num = 10000,\n",
    "    sample_shape = [1,28,28]\n",
    ")"
   ]
  },
  {
   "cell_type": "code",
   "execution_count": 16,
   "metadata": {},
   "outputs": [
    {
     "output_type": "stream",
     "name": "stdout",
     "text": [
      "fooling_rate:25.030000%\n"
     ]
    }
   ],
   "source": [
    "# robustness_test(model, adv_sample_path, sample_num, sample_shape):\n",
    "tst.robustness_test(\n",
    "    model = adv_model,\n",
    "    adv_sample_path = '../sample/JSMA_mnist_LeNet/test',\n",
    "    sample_num = 10000,\n",
    "    sample_shape = [1,28,28]\n",
    ")"
   ]
  },
  {
   "cell_type": "code",
   "execution_count": 17,
   "metadata": {},
   "outputs": [
    {
     "output_type": "stream",
     "name": "stdout",
     "text": [
      "fooling_rate:3.810000%\n"
     ]
    }
   ],
   "source": [
    "# robustness_test(model, adv_sample_path, sample_num, sample_shape):\n",
    "tst.robustness_test(\n",
    "    model = adv_model,\n",
    "    adv_sample_path = '../sample/JSMA_mnist_ResNet18/test',\n",
    "    sample_num = 10000,\n",
    "    sample_shape = [1,28,28]\n",
    ")"
   ]
  },
  {
   "source": [
    "## DEEPFOOL"
   ],
   "cell_type": "markdown",
   "metadata": {}
  },
  {
   "cell_type": "code",
   "execution_count": 18,
   "metadata": {},
   "outputs": [
    {
     "output_type": "stream",
     "name": "stdout",
     "text": [
      "fooling_rate:26.310000%\n"
     ]
    }
   ],
   "source": [
    "# robustness_test(model, adv_sample_path, sample_num, sample_shape):\n",
    "tst.robustness_test(\n",
    "    model = adv_model,\n",
    "    adv_sample_path = '../sample/DEEPFOOL_mnist_FNN/test',\n",
    "    sample_num = 10000,\n",
    "    sample_shape = [1,28,28]\n",
    ")"
   ]
  },
  {
   "cell_type": "code",
   "execution_count": 19,
   "metadata": {},
   "outputs": [
    {
     "output_type": "stream",
     "name": "stdout",
     "text": [
      "fooling_rate:37.900000%\n"
     ]
    }
   ],
   "source": [
    "# robustness_test(model, adv_sample_path, sample_num, sample_shape):\n",
    "tst.robustness_test(\n",
    "    model = adv_model,\n",
    "    adv_sample_path = '../sample/DEEPFOOL_mnist_LeNet/test',\n",
    "    sample_num = 10000,\n",
    "    sample_shape = [1,28,28]\n",
    ")"
   ]
  },
  {
   "cell_type": "code",
   "execution_count": 20,
   "metadata": {},
   "outputs": [
    {
     "output_type": "stream",
     "name": "stdout",
     "text": [
      "fooling_rate:1.730000%\n"
     ]
    }
   ],
   "source": [
    "# robustness_test(model, adv_sample_path, sample_num, sample_shape):\n",
    "tst.robustness_test(\n",
    "    model = adv_model,\n",
    "    adv_sample_path = '../sample/DEEPFOOL_mnist_ResNet18/test',\n",
    "    sample_num = 10000,\n",
    "    sample_shape = [1,28,28]\n",
    ")"
   ]
  },
  {
   "source": [
    "## PGD"
   ],
   "cell_type": "markdown",
   "metadata": {}
  },
  {
   "cell_type": "code",
   "execution_count": 21,
   "metadata": {},
   "outputs": [
    {
     "output_type": "stream",
     "name": "stdout",
     "text": [
      "fooling_rate:23.750000%\n"
     ]
    }
   ],
   "source": [
    "# robustness_test(model, adv_sample_path, sample_num, sample_shape):\n",
    "tst.robustness_test(\n",
    "    model = adv_model,\n",
    "    adv_sample_path = '../sample/PGD_mnist_FNN/test',\n",
    "    sample_num = 10000,\n",
    "    sample_shape = [1,28,28]\n",
    ")"
   ]
  },
  {
   "cell_type": "code",
   "execution_count": 22,
   "metadata": {},
   "outputs": [
    {
     "output_type": "stream",
     "name": "stdout",
     "text": [
      "fooling_rate:38.850000%\n"
     ]
    }
   ],
   "source": [
    "# robustness_test(model, adv_sample_path, sample_num, sample_shape):\n",
    "tst.robustness_test(\n",
    "    model = adv_model,\n",
    "    adv_sample_path = '../sample/PGD_mnist_LeNet/test',\n",
    "    sample_num = 10000,\n",
    "    sample_shape = [1,28,28]\n",
    ")"
   ]
  },
  {
   "cell_type": "code",
   "execution_count": 23,
   "metadata": {},
   "outputs": [
    {
     "output_type": "stream",
     "name": "stdout",
     "text": [
      "fooling_rate:7.900000%\n"
     ]
    }
   ],
   "source": [
    "# robustness_test(model, adv_sample_path, sample_num, sample_shape):\n",
    "tst.robustness_test(\n",
    "    model = adv_model,\n",
    "    adv_sample_path = '../sample/PGD_mnist_ResNet18/test',\n",
    "    sample_num = 10000,\n",
    "    sample_shape = [1,28,28]\n",
    ")"
   ]
  },
  {
   "source": [
    "## THREAT"
   ],
   "cell_type": "markdown",
   "metadata": {}
  },
  {
   "cell_type": "code",
   "execution_count": 24,
   "metadata": {},
   "outputs": [
    {
     "output_type": "stream",
     "name": "stdout",
     "text": [
      "fooling_rate:37.810000%\n"
     ]
    }
   ],
   "source": [
    "# robustness_test(model, adv_sample_path, sample_num, sample_shape):\n",
    "tst.robustness_test(\n",
    "    model = adv_model,\n",
    "    adv_sample_path = '../sample/THREAT_mnist/test',\n",
    "    sample_num = 10000,\n",
    "    sample_shape = [1,28,28]\n",
    ")"
   ]
  }
 ]
}