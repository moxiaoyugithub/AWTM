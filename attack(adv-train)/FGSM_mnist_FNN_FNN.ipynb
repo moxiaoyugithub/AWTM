{
 "metadata": {
  "language_info": {
   "codemirror_mode": {
    "name": "ipython",
    "version": 3
   },
   "file_extension": ".py",
   "mimetype": "text/x-python",
   "name": "python",
   "nbconvert_exporter": "python",
   "pygments_lexer": "ipython3",
   "version": "2.7.18-final"
  },
  "orig_nbformat": 2,
  "kernelspec": {
   "name": "Python 2.7.18 64-bit ('exp27': conda)",
   "display_name": "Python 2.7.18 64-bit ('exp27': conda)",
   "metadata": {
    "interpreter": {
     "hash": "94b498c9aad39d14fe2eef1427b4eed5fb73bba001ef4744562740919eaae58d"
    }
   }
  }
 },
 "nbformat": 4,
 "nbformat_minor": 2,
 "cells": [
  {
   "cell_type": "code",
   "execution_count": 1,
   "metadata": {},
   "outputs": [],
   "source": [
    "import sys\n",
    "sys.path.append(\"../../code\")"
   ]
  },
  {
   "cell_type": "code",
   "execution_count": 2,
   "metadata": {},
   "outputs": [],
   "source": [
    "import gen"
   ]
  },
  {
   "cell_type": "code",
   "execution_count": 3,
   "metadata": {},
   "outputs": [],
   "source": [
    "import torch\n",
    "import torch.nn as nn\n",
    "import torch.optim as optim"
   ]
  },
  {
   "cell_type": "code",
   "execution_count": 4,
   "metadata": {},
   "outputs": [],
   "source": [
    "class FNN(nn.Module):\n",
    "    def __init__(self):\n",
    "        super(FNN, self).__init__()\n",
    "        self.fc_layer = nn.Sequential(\n",
    "            nn.Linear(28*28,1024),\n",
    "            nn.ReLU(inplace=True),\n",
    "            \n",
    "            nn.Linear(1024, 4096),\n",
    "            nn.ReLU(inplace=True),\n",
    "            \n",
    "            nn.Linear(4096, 1024),\n",
    "            nn.ReLU(inplace=True),\n",
    "            \n",
    "            nn.Linear(1024, 10),\n",
    "            nn.Sigmoid()\n",
    "    )\n",
    "    def forward(self, x):\n",
    "        x = x.view(x.size(0), 28*28)\n",
    "        x = self.fc_layer(x)\n",
    "        return x"
   ]
  },
  {
   "cell_type": "code",
   "execution_count": 5,
   "metadata": {},
   "outputs": [],
   "source": [
    "train_model = FNN()"
   ]
  },
  {
   "cell_type": "code",
   "execution_count": 6,
   "metadata": {},
   "outputs": [],
   "source": [
    "#adv_train(data_set, adv_sample_path, sample_num, sample_shape, train_model, model_lossfun, model_optimizer, config, METHOD_dataset_NET_TNET)\n",
    "data_set = 'mnist'\n",
    "adv_sample_path = '../sample/FGSM_mnist_FNN/train'\n",
    "sample_num = 60000\n",
    "sample_shape = [1,28,28]\n",
    "model_lossfun = nn.MSELoss()\n",
    "model_optimizer = optim.SGD(train_model.parameters(), lr=0.001, momentum=0.9, weight_decay=1e-4)\n",
    "config = 'FGSM_mnist_FNN_FNN.json'\n",
    "METHOD_dataset_NET_TNET = 'FGSM_mnist_FNN_FNN'"
   ]
  },
  {
   "cell_type": "code",
   "execution_count": 7,
   "metadata": {},
   "outputs": [
    {
     "output_type": "stream",
     "name": "stdout",
     "text": [
      "epoch:0/100\n",
      "loss:0.63249511,cost:9.0206s\n",
      "epoch:1/100\n",
      "loss:0.34032044,cost:9.6134s\n",
      "epoch:2/100\n",
      "loss:0.33582091,cost:10.1484s\n",
      "epoch:3/100\n",
      "loss:0.33500180,cost:10.1932s\n",
      "epoch:4/100\n",
      "loss:0.33439851,cost:9.8785s\n",
      "epoch:5/100\n",
      "loss:0.33384168,cost:9.3119s\n",
      "epoch:6/100\n",
      "loss:0.33329749,cost:9.6042s\n",
      "epoch:7/100\n",
      "loss:0.33275130,cost:9.6032s\n",
      "epoch:8/100\n",
      "loss:0.33219400,cost:9.6568s\n",
      "epoch:9/100\n",
      "loss:0.33161917,cost:9.6824s\n",
      "epoch:10/100\n",
      "loss:0.33101806,cost:9.6115s\n",
      "epoch:11/100\n",
      "loss:0.33037981,cost:9.9835s\n",
      "epoch:12/100\n",
      "loss:0.32969272,cost:9.6535s\n",
      "epoch:13/100\n",
      "loss:0.32894424,cost:9.3544s\n",
      "epoch:14/100\n",
      "loss:0.32811761,cost:9.7343s\n",
      "epoch:15/100\n",
      "loss:0.32719103,cost:9.4506s\n",
      "epoch:16/100\n",
      "loss:0.32614037,cost:9.5835s\n",
      "epoch:17/100\n",
      "loss:0.32493073,cost:9.4181s\n",
      "epoch:18/100\n",
      "loss:0.32351461,cost:9.6990s\n",
      "epoch:19/100\n",
      "loss:0.32182974,cost:9.4134s\n",
      "epoch:20/100\n",
      "loss:0.31979972,cost:9.3297s\n",
      "epoch:21/100\n",
      "loss:0.31732866,cost:9.8140s\n",
      "epoch:22/100\n",
      "loss:0.31430727,cost:9.9602s\n",
      "epoch:23/100\n",
      "loss:0.31064802,cost:9.2502s\n",
      "epoch:24/100\n",
      "loss:0.30633420,cost:9.5383s\n",
      "epoch:25/100\n",
      "loss:0.30146927,cost:9.7031s\n",
      "epoch:26/100\n",
      "loss:0.29624489,cost:9.9999s\n",
      "epoch:27/100\n",
      "loss:0.29081732,cost:9.9638s\n",
      "epoch:28/100\n",
      "loss:0.28524321,cost:9.5789s\n",
      "epoch:29/100\n",
      "loss:0.27952266,cost:9.6895s\n",
      "epoch:30/100\n",
      "loss:0.27365080,cost:9.6532s\n",
      "epoch:31/100\n",
      "loss:0.26763907,cost:9.6881s\n",
      "epoch:32/100\n",
      "loss:0.26151022,cost:10.3560s\n",
      "epoch:33/100\n",
      "loss:0.25529364,cost:10.1378s\n",
      "epoch:34/100\n",
      "loss:0.24901581,cost:10.3480s\n",
      "epoch:35/100\n",
      "loss:0.24266951,cost:10.0055s\n",
      "epoch:36/100\n",
      "loss:0.23619187,cost:9.5888s\n",
      "epoch:37/100\n",
      "loss:0.22949584,cost:9.3020s\n",
      "epoch:38/100\n",
      "loss:0.22254610,cost:9.3328s\n",
      "epoch:39/100\n",
      "loss:0.21541908,cost:9.7810s\n",
      "epoch:40/100\n",
      "loss:0.20831499,cost:9.6010s\n",
      "epoch:41/100\n",
      "loss:0.20147681,cost:9.6143s\n",
      "epoch:42/100\n",
      "loss:0.19507866,cost:10.2619s\n",
      "epoch:43/100\n",
      "loss:0.18917666,cost:10.2256s\n",
      "epoch:44/100\n",
      "loss:0.18373187,cost:10.1022s\n",
      "epoch:45/100\n",
      "loss:0.17865708,cost:9.9629s\n",
      "epoch:46/100\n",
      "loss:0.17385711,cost:10.0641s\n",
      "epoch:47/100\n",
      "loss:0.16924998,cost:9.2933s\n",
      "epoch:48/100\n",
      "loss:0.16477652,cost:9.2606s\n",
      "epoch:49/100\n",
      "loss:0.16040559,cost:9.1488s\n",
      "epoch:50/100\n",
      "loss:0.15612386,cost:9.3449s\n",
      "epoch:51/100\n",
      "loss:0.15192717,cost:9.2755s\n",
      "epoch:52/100\n",
      "loss:0.14781244,cost:9.0330s\n",
      "epoch:53/100\n",
      "loss:0.14377990,cost:9.9364s\n",
      "epoch:54/100\n",
      "loss:0.13983123,cost:9.8052s\n",
      "epoch:55/100\n",
      "loss:0.13596800,cost:9.6976s\n",
      "epoch:56/100\n",
      "loss:0.13219810,cost:9.3518s\n",
      "epoch:57/100\n",
      "loss:0.12853712,cost:10.1049s\n",
      "epoch:58/100\n",
      "loss:0.12500544,cost:9.9559s\n",
      "epoch:59/100\n",
      "loss:0.12162082,cost:9.9186s\n",
      "epoch:60/100\n",
      "loss:0.11839543,cost:9.4685s\n",
      "epoch:61/100\n",
      "loss:0.11533391,cost:7.7487s\n",
      "epoch:62/100\n",
      "loss:0.11243600,cost:7.7979s\n",
      "epoch:63/100\n",
      "loss:0.10969433,cost:7.7924s\n",
      "epoch:64/100\n",
      "loss:0.10709909,cost:7.8301s\n",
      "epoch:65/100\n",
      "loss:0.10463908,cost:7.8022s\n",
      "epoch:66/100\n",
      "loss:0.10230501,cost:7.7246s\n",
      "epoch:67/100\n",
      "loss:0.10008818,cost:7.5965s\n",
      "epoch:68/100\n",
      "loss:0.09798124,cost:7.7630s\n",
      "epoch:69/100\n",
      "loss:0.09597939,cost:7.7569s\n",
      "epoch:70/100\n",
      "loss:0.09407964,cost:7.7881s\n",
      "epoch:71/100\n",
      "loss:0.09228022,cost:7.8116s\n",
      "epoch:72/100\n",
      "loss:0.09057701,cost:7.7641s\n",
      "epoch:73/100\n",
      "loss:0.08896590,cost:7.7900s\n",
      "epoch:74/100\n",
      "loss:0.08744264,cost:7.7875s\n",
      "epoch:75/100\n",
      "loss:0.08600281,cost:7.7875s\n",
      "epoch:76/100\n",
      "loss:0.08464163,cost:7.7924s\n",
      "epoch:77/100\n",
      "loss:0.08335428,cost:7.7806s\n",
      "epoch:78/100\n",
      "loss:0.08213628,cost:7.8036s\n",
      "epoch:79/100\n",
      "loss:0.08098311,cost:7.8182s\n",
      "epoch:80/100\n",
      "loss:0.07989028,cost:7.8125s\n",
      "epoch:81/100\n",
      "loss:0.07885373,cost:7.8062s\n",
      "epoch:82/100\n",
      "loss:0.07786889,cost:7.7786s\n",
      "epoch:83/100\n",
      "loss:0.07693171,cost:7.7618s\n",
      "epoch:84/100\n",
      "loss:0.07603841,cost:7.7633s\n",
      "epoch:85/100\n",
      "loss:0.07518551,cost:7.7583s\n",
      "epoch:86/100\n",
      "loss:0.07436995,cost:7.8029s\n",
      "epoch:87/100\n",
      "loss:0.07358896,cost:7.7547s\n",
      "epoch:88/100\n",
      "loss:0.07283986,cost:7.7594s\n",
      "epoch:89/100\n",
      "loss:0.07212047,cost:7.7481s\n",
      "epoch:90/100\n",
      "loss:0.07142833,cost:7.7577s\n",
      "epoch:91/100\n",
      "loss:0.07076153,cost:7.8038s\n",
      "epoch:92/100\n",
      "loss:0.07011841,cost:7.7571s\n",
      "epoch:93/100\n",
      "loss:0.06949722,cost:7.7553s\n",
      "epoch:94/100\n",
      "loss:0.06889651,cost:7.7937s\n",
      "epoch:95/100\n",
      "loss:0.06831497,cost:7.7713s\n",
      "epoch:96/100\n",
      "loss:0.06775118,cost:7.7519s\n",
      "epoch:97/100\n",
      "loss:0.06720404,cost:7.7799s\n",
      "epoch:98/100\n",
      "loss:0.06667252,cost:7.7581s\n",
      "epoch:99/100\n",
      "loss:0.06615567,cost:7.7514s\n",
      "saving model...\n",
      "-complete-\n",
      "saving loss...\n",
      "-complete-\n",
      "/home/moxiaoyu/.conda/envs/exp27/lib/python2.7/site-packages/torch/serialization.py:360: UserWarning: Couldn't retrieve source code for container of type FNN. It won't be checked for correctness upon loading.\n",
      "  \"type \" + obj.__name__ + \". It won't be checked \"\n"
     ]
    }
   ],
   "source": [
    "gen.adv_train(\n",
    "    data_set, \n",
    "    adv_sample_path, \n",
    "    sample_num, \n",
    "    sample_shape, \n",
    "    train_model, \n",
    "    model_lossfun, \n",
    "    model_optimizer, \n",
    "    config, \n",
    "    METHOD_dataset_NET_TNET)"
   ]
  },
  {
   "cell_type": "code",
   "execution_count": 7,
   "metadata": {},
   "outputs": [],
   "source": [
    "import val"
   ]
  },
  {
   "cell_type": "code",
   "execution_count": 8,
   "metadata": {},
   "outputs": [],
   "source": [
    "adv_model = torch.load('../model/adv_train/FGSM_mnist_FNN_FNN/model.pkl')"
   ]
  },
  {
   "cell_type": "code",
   "execution_count": 9,
   "metadata": {},
   "outputs": [
    {
     "output_type": "display_data",
     "data": {
      "image/png": "[encoded data removed]",
      "text/plain": "<Figure size 432x288 with 1 Axes>",
      "image/svg+xml": "<?xml version=\"1.0\" encoding=\"utf-8\" standalone=\"no\"?>\n<!DOCTYPE svg PUBLIC \"-//W3C//DTD SVG 1.1//EN\"\n  \"http://www.w3.org/Graphics/SVG/1.1/DTD/svg11.dtd\">\n<!-- Created with matplotlib (http://matplotlib.org/) -->\n<svg height=\"277.314375pt\" version=\"1.1\" viewBox=\"0 0 389.28125 277.314375\" width=\"389.28125pt\" xmlns=\"http://www.w3.org/2000/svg\" xmlns:xlink=\"http://www.w3.org/1999/xlink\">\n <defs>\n  <style type=\"text/css\">\n*{stroke-linecap:butt;stroke-linejoin:round;}\n  </style>\n </defs>\n <g id=\"figure_1\">\n  <g id=\"patch_1\">\n   <path d=\"M 0 277.314375 \nL 389.28125 277.314375 \nL 389.28125 0 \nL 0 0 \nz\n\" style=\"fill:none;\"/>\n  </g>\n  <g id=\"axes_1\">\n   <g id=\"patch_2\">\n    <path d=\"M 43.78125 239.758125 \nL 378.58125 239.758125 \nL 378.58125 22.318125 \nL 43.78125 22.318125 \nz\n\" style=\"fill:#ffffff;\"/>\n   </g>\n   <g id=\"matplotlib.axis_1\">\n    <g id=\"xtick_1\">\n     <g id=\"line2d_1\">\n      <defs>\n       <path d=\"M 0 0 \nL 0 3.5 \n\" id=\"m74be31daf7\" style=\"stroke:#000000;stroke-width:0.8;\"/>\n      </defs>\n      <g>\n       <use style=\"stroke:#000000;stroke-width:0.8;\" x=\"58.999432\" xlink:href=\"#m74be31daf7\" y=\"239.758125\"/>\n      </g>\n     </g>\n     <g id=\"text_1\">\n      <!-- 0 -->\n      <defs>\n       <path d=\"M 31.78125 66.40625 \nQ 24.171875 66.40625 20.328125 58.90625 \nQ 16.5 51.421875 16.5 36.375 \nQ 16.5 21.390625 20.328125 13.890625 \nQ 24.171875 6.390625 31.78125 6.390625 \nQ 39.453125 6.390625 43.28125 13.890625 \nQ 47.125 21.390625 47.125 36.375 \nQ 47.125 51.421875 43.28125 58.90625 \nQ 39.453125 66.40625 31.78125 66.40625 \nz\nM 31.78125 74.21875 \nQ 44.046875 74.21875 50.515625 64.515625 \nQ 56.984375 54.828125 56.984375 36.375 \nQ 56.984375 17.96875 50.515625 8.265625 \nQ 44.046875 -1.421875 31.78125 -1.421875 \nQ 19.53125 -1.421875 13.0625 8.265625 \nQ 6.59375 17.96875 6.59375 36.375 \nQ 6.59375 54.828125 13.0625 64.515625 \nQ 19.53125 74.21875 31.78125 74.21875 \nz\n\" id=\"DejaVuSans-30\"/>\n      </defs>\n      <g transform=\"translate(55.818182 254.356562)scale(0.1 -0.1)\">\n       <use xlink:href=\"#DejaVuSans-30\"/>\n      </g>\n     </g>\n    </g>\n    <g id=\"xtick_2\">\n     <g id=\"line2d_2\">\n      <g>\n       <use style=\"stroke:#000000;stroke-width:0.8;\" x=\"120.487035\" xlink:href=\"#m74be31daf7\" y=\"239.758125\"/>\n      </g>\n     </g>\n     <g id=\"text_2\">\n      <!-- 20 -->\n      <defs>\n       <path d=\"M 19.1875 8.296875 \nL 53.609375 8.296875 \nL 53.609375 0 \nL 7.328125 0 \nL 7.328125 8.296875 \nQ 12.9375 14.109375 22.625 23.890625 \nQ 32.328125 33.6875 34.8125 36.53125 \nQ 39.546875 41.84375 41.421875 45.53125 \nQ 43.3125 49.21875 43.3125 52.78125 \nQ 43.3125 58.59375 39.234375 62.25 \nQ 35.15625 65.921875 28.609375 65.921875 \nQ 23.96875 65.921875 18.8125 64.3125 \nQ 13.671875 62.703125 7.8125 59.421875 \nL 7.8125 69.390625 \nQ 13.765625 71.78125 18.9375 73 \nQ 24.125 74.21875 28.421875 74.21875 \nQ 39.75 74.21875 46.484375 68.546875 \nQ 53.21875 62.890625 53.21875 53.421875 \nQ 53.21875 48.921875 51.53125 44.890625 \nQ 49.859375 40.875 45.40625 35.40625 \nQ 44.1875 33.984375 37.640625 27.21875 \nQ 31.109375 20.453125 19.1875 8.296875 \nz\n\" id=\"DejaVuSans-32\"/>\n      </defs>\n      <g transform=\"translate(114.124535 254.356562)scale(0.1 -0.1)\">\n       <use xlink:href=\"#DejaVuSans-32\"/>\n       <use x=\"63.623047\" xlink:href=\"#DejaVuSans-30\"/>\n      </g>\n     </g>\n    </g>\n    <g id=\"xtick_3\">\n     <g id=\"line2d_3\">\n      <g>\n       <use style=\"stroke:#000000;stroke-width:0.8;\" x=\"181.974638\" xlink:href=\"#m74be31daf7\" y=\"239.758125\"/>\n      </g>\n     </g>\n     <g id=\"text_3\">\n      <!-- 40 -->\n      <defs>\n       <path d=\"M 37.796875 64.3125 \nL 12.890625 25.390625 \nL 37.796875 25.390625 \nz\nM 35.203125 72.90625 \nL 47.609375 72.90625 \nL 47.609375 25.390625 \nL 58.015625 25.390625 \nL 58.015625 17.1875 \nL 47.609375 17.1875 \nL 47.609375 0 \nL 37.796875 0 \nL 37.796875 17.1875 \nL 4.890625 17.1875 \nL 4.890625 26.703125 \nz\n\" id=\"DejaVuSans-34\"/>\n      </defs>\n      <g transform=\"translate(175.612138 254.356562)scale(0.1 -0.1)\">\n       <use xlink:href=\"#DejaVuSans-34\"/>\n       <use x=\"63.623047\" xlink:href=\"#DejaVuSans-30\"/>\n      </g>\n     </g>\n    </g>\n    <g id=\"xtick_4\">\n     <g id=\"line2d_4\">\n      <g>\n       <use style=\"stroke:#000000;stroke-width:0.8;\" x=\"243.462242\" xlink:href=\"#m74be31daf7\" y=\"239.758125\"/>\n      </g>\n     </g>\n     <g id=\"text_4\">\n      <!-- 60 -->\n      <defs>\n       <path d=\"M 33.015625 40.375 \nQ 26.375 40.375 22.484375 35.828125 \nQ 18.609375 31.296875 18.609375 23.390625 \nQ 18.609375 15.53125 22.484375 10.953125 \nQ 26.375 6.390625 33.015625 6.390625 \nQ 39.65625 6.390625 43.53125 10.953125 \nQ 47.40625 15.53125 47.40625 23.390625 \nQ 47.40625 31.296875 43.53125 35.828125 \nQ 39.65625 40.375 33.015625 40.375 \nz\nM 52.59375 71.296875 \nL 52.59375 62.3125 \nQ 48.875 64.0625 45.09375 64.984375 \nQ 41.3125 65.921875 37.59375 65.921875 \nQ 27.828125 65.921875 22.671875 59.328125 \nQ 17.53125 52.734375 16.796875 39.40625 \nQ 19.671875 43.65625 24.015625 45.921875 \nQ 28.375 48.1875 33.59375 48.1875 \nQ 44.578125 48.1875 50.953125 41.515625 \nQ 57.328125 34.859375 57.328125 23.390625 \nQ 57.328125 12.15625 50.6875 5.359375 \nQ 44.046875 -1.421875 33.015625 -1.421875 \nQ 20.359375 -1.421875 13.671875 8.265625 \nQ 6.984375 17.96875 6.984375 36.375 \nQ 6.984375 53.65625 15.1875 63.9375 \nQ 23.390625 74.21875 37.203125 74.21875 \nQ 40.921875 74.21875 44.703125 73.484375 \nQ 48.484375 72.75 52.59375 71.296875 \nz\n\" id=\"DejaVuSans-36\"/>\n      </defs>\n      <g transform=\"translate(237.099742 254.356562)scale(0.1 -0.1)\">\n       <use xlink:href=\"#DejaVuSans-36\"/>\n       <use x=\"63.623047\" xlink:href=\"#DejaVuSans-30\"/>\n      </g>\n     </g>\n    </g>\n    <g id=\"xtick_5\">\n     <g id=\"line2d_5\">\n      <g>\n       <use style=\"stroke:#000000;stroke-width:0.8;\" x=\"304.949845\" xlink:href=\"#m74be31daf7\" y=\"239.758125\"/>\n      </g>\n     </g>\n     <g id=\"text_5\">\n      <!-- 80 -->\n      <defs>\n       <path d=\"M 31.78125 34.625 \nQ 24.75 34.625 20.71875 30.859375 \nQ 16.703125 27.09375 16.703125 20.515625 \nQ 16.703125 13.921875 20.71875 10.15625 \nQ 24.75 6.390625 31.78125 6.390625 \nQ 38.8125 6.390625 42.859375 10.171875 \nQ 46.921875 13.96875 46.921875 20.515625 \nQ 46.921875 27.09375 42.890625 30.859375 \nQ 38.875 34.625 31.78125 34.625 \nz\nM 21.921875 38.8125 \nQ 15.578125 40.375 12.03125 44.71875 \nQ 8.5 49.078125 8.5 55.328125 \nQ 8.5 64.0625 14.71875 69.140625 \nQ 20.953125 74.21875 31.78125 74.21875 \nQ 42.671875 74.21875 48.875 69.140625 \nQ 55.078125 64.0625 55.078125 55.328125 \nQ 55.078125 49.078125 51.53125 44.71875 \nQ 48 40.375 41.703125 38.8125 \nQ 48.828125 37.15625 52.796875 32.3125 \nQ 56.78125 27.484375 56.78125 20.515625 \nQ 56.78125 9.90625 50.3125 4.234375 \nQ 43.84375 -1.421875 31.78125 -1.421875 \nQ 19.734375 -1.421875 13.25 4.234375 \nQ 6.78125 9.90625 6.78125 20.515625 \nQ 6.78125 27.484375 10.78125 32.3125 \nQ 14.796875 37.15625 21.921875 38.8125 \nz\nM 18.3125 54.390625 \nQ 18.3125 48.734375 21.84375 45.5625 \nQ 25.390625 42.390625 31.78125 42.390625 \nQ 38.140625 42.390625 41.71875 45.5625 \nQ 45.3125 48.734375 45.3125 54.390625 \nQ 45.3125 60.0625 41.71875 63.234375 \nQ 38.140625 66.40625 31.78125 66.40625 \nQ 25.390625 66.40625 21.84375 63.234375 \nQ 18.3125 60.0625 18.3125 54.390625 \nz\n\" id=\"DejaVuSans-38\"/>\n      </defs>\n      <g transform=\"translate(298.587345 254.356562)scale(0.1 -0.1)\">\n       <use xlink:href=\"#DejaVuSans-38\"/>\n       <use x=\"63.623047\" xlink:href=\"#DejaVuSans-30\"/>\n      </g>\n     </g>\n    </g>\n    <g id=\"xtick_6\">\n     <g id=\"line2d_6\">\n      <g>\n       <use style=\"stroke:#000000;stroke-width:0.8;\" x=\"366.437448\" xlink:href=\"#m74be31daf7\" y=\"239.758125\"/>\n      </g>\n     </g>\n     <g id=\"text_6\">\n      <!-- 100 -->\n      <defs>\n       <path d=\"M 12.40625 8.296875 \nL 28.515625 8.296875 \nL 28.515625 63.921875 \nL 10.984375 60.40625 \nL 10.984375 69.390625 \nL 28.421875 72.90625 \nL 38.28125 72.90625 \nL 38.28125 8.296875 \nL 54.390625 8.296875 \nL 54.390625 0 \nL 12.40625 0 \nz\n\" id=\"DejaVuSans-31\"/>\n      </defs>\n      <g transform=\"translate(356.893698 254.356562)scale(0.1 -0.1)\">\n       <use xlink:href=\"#DejaVuSans-31\"/>\n       <use x=\"63.623047\" xlink:href=\"#DejaVuSans-30\"/>\n       <use x=\"127.246094\" xlink:href=\"#DejaVuSans-30\"/>\n      </g>\n     </g>\n    </g>\n    <g id=\"text_7\">\n     <!-- Epoch -->\n     <defs>\n      <path d=\"M 9.8125 72.90625 \nL 55.90625 72.90625 \nL 55.90625 64.59375 \nL 19.671875 64.59375 \nL 19.671875 43.015625 \nL 54.390625 43.015625 \nL 54.390625 34.71875 \nL 19.671875 34.71875 \nL 19.671875 8.296875 \nL 56.78125 8.296875 \nL 56.78125 0 \nL 9.8125 0 \nz\n\" id=\"DejaVuSans-45\"/>\n      <path d=\"M 18.109375 8.203125 \nL 18.109375 -20.796875 \nL 9.078125 -20.796875 \nL 9.078125 54.6875 \nL 18.109375 54.6875 \nL 18.109375 46.390625 \nQ 20.953125 51.265625 25.265625 53.625 \nQ 29.59375 56 35.59375 56 \nQ 45.5625 56 51.78125 48.09375 \nQ 58.015625 40.1875 58.015625 27.296875 \nQ 58.015625 14.40625 51.78125 6.484375 \nQ 45.5625 -1.421875 35.59375 -1.421875 \nQ 29.59375 -1.421875 25.265625 0.953125 \nQ 20.953125 3.328125 18.109375 8.203125 \nz\nM 48.6875 27.296875 \nQ 48.6875 37.203125 44.609375 42.84375 \nQ 40.53125 48.484375 33.40625 48.484375 \nQ 26.265625 48.484375 22.1875 42.84375 \nQ 18.109375 37.203125 18.109375 27.296875 \nQ 18.109375 17.390625 22.1875 11.75 \nQ 26.265625 6.109375 33.40625 6.109375 \nQ 40.53125 6.109375 44.609375 11.75 \nQ 48.6875 17.390625 48.6875 27.296875 \nz\n\" id=\"DejaVuSans-70\"/>\n      <path d=\"M 30.609375 48.390625 \nQ 23.390625 48.390625 19.1875 42.75 \nQ 14.984375 37.109375 14.984375 27.296875 \nQ 14.984375 17.484375 19.15625 11.84375 \nQ 23.34375 6.203125 30.609375 6.203125 \nQ 37.796875 6.203125 41.984375 11.859375 \nQ 46.1875 17.53125 46.1875 27.296875 \nQ 46.1875 37.015625 41.984375 42.703125 \nQ 37.796875 48.390625 30.609375 48.390625 \nz\nM 30.609375 56 \nQ 42.328125 56 49.015625 48.375 \nQ 55.71875 40.765625 55.71875 27.296875 \nQ 55.71875 13.875 49.015625 6.21875 \nQ 42.328125 -1.421875 30.609375 -1.421875 \nQ 18.84375 -1.421875 12.171875 6.21875 \nQ 5.515625 13.875 5.515625 27.296875 \nQ 5.515625 40.765625 12.171875 48.375 \nQ 18.84375 56 30.609375 56 \nz\n\" id=\"DejaVuSans-6f\"/>\n      <path d=\"M 48.78125 52.59375 \nL 48.78125 44.1875 \nQ 44.96875 46.296875 41.140625 47.34375 \nQ 37.3125 48.390625 33.40625 48.390625 \nQ 24.65625 48.390625 19.8125 42.84375 \nQ 14.984375 37.3125 14.984375 27.296875 \nQ 14.984375 17.28125 19.8125 11.734375 \nQ 24.65625 6.203125 33.40625 6.203125 \nQ 37.3125 6.203125 41.140625 7.25 \nQ 44.96875 8.296875 48.78125 10.40625 \nL 48.78125 2.09375 \nQ 45.015625 0.34375 40.984375 -0.53125 \nQ 36.96875 -1.421875 32.421875 -1.421875 \nQ 20.0625 -1.421875 12.78125 6.34375 \nQ 5.515625 14.109375 5.515625 27.296875 \nQ 5.515625 40.671875 12.859375 48.328125 \nQ 20.21875 56 33.015625 56 \nQ 37.15625 56 41.109375 55.140625 \nQ 45.0625 54.296875 48.78125 52.59375 \nz\n\" id=\"DejaVuSans-63\"/>\n      <path d=\"M 54.890625 33.015625 \nL 54.890625 0 \nL 45.90625 0 \nL 45.90625 32.71875 \nQ 45.90625 40.484375 42.875 44.328125 \nQ 39.84375 48.1875 33.796875 48.1875 \nQ 26.515625 48.1875 22.3125 43.546875 \nQ 18.109375 38.921875 18.109375 30.90625 \nL 18.109375 0 \nL 9.078125 0 \nL 9.078125 75.984375 \nL 18.109375 75.984375 \nL 18.109375 46.1875 \nQ 21.34375 51.125 25.703125 53.5625 \nQ 30.078125 56 35.796875 56 \nQ 45.21875 56 50.046875 50.171875 \nQ 54.890625 44.34375 54.890625 33.015625 \nz\n\" id=\"DejaVuSans-68\"/>\n     </defs>\n     <g transform=\"translate(195.870313 268.034687)scale(0.1 -0.1)\">\n      <use xlink:href=\"#DejaVuSans-45\"/>\n      <use x=\"63.183594\" xlink:href=\"#DejaVuSans-70\"/>\n      <use x=\"126.660156\" xlink:href=\"#DejaVuSans-6f\"/>\n      <use x=\"187.841797\" xlink:href=\"#DejaVuSans-63\"/>\n      <use x=\"242.822266\" xlink:href=\"#DejaVuSans-68\"/>\n     </g>\n    </g>\n   </g>\n   <g id=\"matplotlib.axis_2\">\n    <g id=\"ytick_1\">\n     <g id=\"line2d_7\">\n      <defs>\n       <path d=\"M 0 0 \nL -3.5 0 \n\" id=\"m4974ccd9f6\" style=\"stroke:#000000;stroke-width:0.8;\"/>\n      </defs>\n      <g>\n       <use style=\"stroke:#000000;stroke-width:0.8;\" x=\"43.78125\" xlink:href=\"#m4974ccd9f6\" y=\"218.061607\"/>\n      </g>\n     </g>\n     <g id=\"text_8\">\n      <!-- 0.1 -->\n      <defs>\n       <path d=\"M 10.6875 12.40625 \nL 21 12.40625 \nL 21 0 \nL 10.6875 0 \nz\n\" id=\"DejaVuSans-2e\"/>\n      </defs>\n      <g transform=\"translate(20.878125 221.860826)scale(0.1 -0.1)\">\n       <use xlink:href=\"#DejaVuSans-30\"/>\n       <use x=\"63.623047\" xlink:href=\"#DejaVuSans-2e\"/>\n       <use x=\"95.410156\" xlink:href=\"#DejaVuSans-31\"/>\n      </g>\n     </g>\n    </g>\n    <g id=\"ytick_2\">\n     <g id=\"line2d_8\">\n      <g>\n       <use style=\"stroke:#000000;stroke-width:0.8;\" x=\"43.78125\" xlink:href=\"#m4974ccd9f6\" y=\"183.158029\"/>\n      </g>\n     </g>\n     <g id=\"text_9\">\n      <!-- 0.2 -->\n      <g transform=\"translate(20.878125 186.957248)scale(0.1 -0.1)\">\n       <use xlink:href=\"#DejaVuSans-30\"/>\n       <use x=\"63.623047\" xlink:href=\"#DejaVuSans-2e\"/>\n       <use x=\"95.410156\" xlink:href=\"#DejaVuSans-32\"/>\n      </g>\n     </g>\n    </g>\n    <g id=\"ytick_3\">\n     <g id=\"line2d_9\">\n      <g>\n       <use style=\"stroke:#000000;stroke-width:0.8;\" x=\"43.78125\" xlink:href=\"#m4974ccd9f6\" y=\"148.254451\"/>\n      </g>\n     </g>\n     <g id=\"text_10\">\n      <!-- 0.3 -->\n      <defs>\n       <path d=\"M 40.578125 39.3125 \nQ 47.65625 37.796875 51.625 33 \nQ 55.609375 28.21875 55.609375 21.1875 \nQ 55.609375 10.40625 48.1875 4.484375 \nQ 40.765625 -1.421875 27.09375 -1.421875 \nQ 22.515625 -1.421875 17.65625 -0.515625 \nQ 12.796875 0.390625 7.625 2.203125 \nL 7.625 11.71875 \nQ 11.71875 9.328125 16.59375 8.109375 \nQ 21.484375 6.890625 26.8125 6.890625 \nQ 36.078125 6.890625 40.9375 10.546875 \nQ 45.796875 14.203125 45.796875 21.1875 \nQ 45.796875 27.640625 41.28125 31.265625 \nQ 36.765625 34.90625 28.71875 34.90625 \nL 20.21875 34.90625 \nL 20.21875 43.015625 \nL 29.109375 43.015625 \nQ 36.375 43.015625 40.234375 45.921875 \nQ 44.09375 48.828125 44.09375 54.296875 \nQ 44.09375 59.90625 40.109375 62.90625 \nQ 36.140625 65.921875 28.71875 65.921875 \nQ 24.65625 65.921875 20.015625 65.03125 \nQ 15.375 64.15625 9.8125 62.3125 \nL 9.8125 71.09375 \nQ 15.4375 72.65625 20.34375 73.4375 \nQ 25.25 74.21875 29.59375 74.21875 \nQ 40.828125 74.21875 47.359375 69.109375 \nQ 53.90625 64.015625 53.90625 55.328125 \nQ 53.90625 49.265625 50.4375 45.09375 \nQ 46.96875 40.921875 40.578125 39.3125 \nz\n\" id=\"DejaVuSans-33\"/>\n      </defs>\n      <g transform=\"translate(20.878125 152.053669)scale(0.1 -0.1)\">\n       <use xlink:href=\"#DejaVuSans-30\"/>\n       <use x=\"63.623047\" xlink:href=\"#DejaVuSans-2e\"/>\n       <use x=\"95.410156\" xlink:href=\"#DejaVuSans-33\"/>\n      </g>\n     </g>\n    </g>\n    <g id=\"ytick_4\">\n     <g id=\"line2d_10\">\n      <g>\n       <use style=\"stroke:#000000;stroke-width:0.8;\" x=\"43.78125\" xlink:href=\"#m4974ccd9f6\" y=\"113.350872\"/>\n      </g>\n     </g>\n     <g id=\"text_11\">\n      <!-- 0.4 -->\n      <g transform=\"translate(20.878125 117.150091)scale(0.1 -0.1)\">\n       <use xlink:href=\"#DejaVuSans-30\"/>\n       <use x=\"63.623047\" xlink:href=\"#DejaVuSans-2e\"/>\n       <use x=\"95.410156\" xlink:href=\"#DejaVuSans-34\"/>\n      </g>\n     </g>\n    </g>\n    <g id=\"ytick_5\">\n     <g id=\"line2d_11\">\n      <g>\n       <use style=\"stroke:#000000;stroke-width:0.8;\" x=\"43.78125\" xlink:href=\"#m4974ccd9f6\" y=\"78.447294\"/>\n      </g>\n     </g>\n     <g id=\"text_12\">\n      <!-- 0.5 -->\n      <defs>\n       <path d=\"M 10.796875 72.90625 \nL 49.515625 72.90625 \nL 49.515625 64.59375 \nL 19.828125 64.59375 \nL 19.828125 46.734375 \nQ 21.96875 47.46875 24.109375 47.828125 \nQ 26.265625 48.1875 28.421875 48.1875 \nQ 40.625 48.1875 47.75 41.5 \nQ 54.890625 34.8125 54.890625 23.390625 \nQ 54.890625 11.625 47.5625 5.09375 \nQ 40.234375 -1.421875 26.90625 -1.421875 \nQ 22.3125 -1.421875 17.546875 -0.640625 \nQ 12.796875 0.140625 7.71875 1.703125 \nL 7.71875 11.625 \nQ 12.109375 9.234375 16.796875 8.0625 \nQ 21.484375 6.890625 26.703125 6.890625 \nQ 35.15625 6.890625 40.078125 11.328125 \nQ 45.015625 15.765625 45.015625 23.390625 \nQ 45.015625 31 40.078125 35.4375 \nQ 35.15625 39.890625 26.703125 39.890625 \nQ 22.75 39.890625 18.8125 39.015625 \nQ 14.890625 38.140625 10.796875 36.28125 \nz\n\" id=\"DejaVuSans-35\"/>\n      </defs>\n      <g transform=\"translate(20.878125 82.246513)scale(0.1 -0.1)\">\n       <use xlink:href=\"#DejaVuSans-30\"/>\n       <use x=\"63.623047\" xlink:href=\"#DejaVuSans-2e\"/>\n       <use x=\"95.410156\" xlink:href=\"#DejaVuSans-35\"/>\n      </g>\n     </g>\n    </g>\n    <g id=\"ytick_6\">\n     <g id=\"line2d_12\">\n      <g>\n       <use style=\"stroke:#000000;stroke-width:0.8;\" x=\"43.78125\" xlink:href=\"#m4974ccd9f6\" y=\"43.543716\"/>\n      </g>\n     </g>\n     <g id=\"text_13\">\n      <!-- 0.6 -->\n      <g transform=\"translate(20.878125 47.342935)scale(0.1 -0.1)\">\n       <use xlink:href=\"#DejaVuSans-30\"/>\n       <use x=\"63.623047\" xlink:href=\"#DejaVuSans-2e\"/>\n       <use x=\"95.410156\" xlink:href=\"#DejaVuSans-36\"/>\n      </g>\n     </g>\n    </g>\n    <g id=\"text_14\">\n     <!-- Loss -->\n     <defs>\n      <path d=\"M 9.8125 72.90625 \nL 19.671875 72.90625 \nL 19.671875 8.296875 \nL 55.171875 8.296875 \nL 55.171875 0 \nL 9.8125 0 \nz\n\" id=\"DejaVuSans-4c\"/>\n      <path d=\"M 44.28125 53.078125 \nL 44.28125 44.578125 \nQ 40.484375 46.53125 36.375 47.5 \nQ 32.28125 48.484375 27.875 48.484375 \nQ 21.1875 48.484375 17.84375 46.4375 \nQ 14.5 44.390625 14.5 40.28125 \nQ 14.5 37.15625 16.890625 35.375 \nQ 19.28125 33.59375 26.515625 31.984375 \nL 29.59375 31.296875 \nQ 39.15625 29.25 43.1875 25.515625 \nQ 47.21875 21.78125 47.21875 15.09375 \nQ 47.21875 7.46875 41.1875 3.015625 \nQ 35.15625 -1.421875 24.609375 -1.421875 \nQ 20.21875 -1.421875 15.453125 -0.5625 \nQ 10.6875 0.296875 5.421875 2 \nL 5.421875 11.28125 \nQ 10.40625 8.6875 15.234375 7.390625 \nQ 20.0625 6.109375 24.8125 6.109375 \nQ 31.15625 6.109375 34.5625 8.28125 \nQ 37.984375 10.453125 37.984375 14.40625 \nQ 37.984375 18.0625 35.515625 20.015625 \nQ 33.0625 21.96875 24.703125 23.78125 \nL 21.578125 24.515625 \nQ 13.234375 26.265625 9.515625 29.90625 \nQ 5.8125 33.546875 5.8125 39.890625 \nQ 5.8125 47.609375 11.28125 51.796875 \nQ 16.75 56 26.8125 56 \nQ 31.78125 56 36.171875 55.265625 \nQ 40.578125 54.546875 44.28125 53.078125 \nz\n\" id=\"DejaVuSans-73\"/>\n     </defs>\n     <g transform=\"translate(14.798438 142.092031)rotate(-90)scale(0.1 -0.1)\">\n      <use xlink:href=\"#DejaVuSans-4c\"/>\n      <use x=\"55.697266\" xlink:href=\"#DejaVuSans-6f\"/>\n      <use x=\"116.878906\" xlink:href=\"#DejaVuSans-73\"/>\n      <use x=\"168.978516\" xlink:href=\"#DejaVuSans-73\"/>\n     </g>\n    </g>\n   </g>\n   <g id=\"line2d_13\">\n    <path clip-path=\"url(#pbd51ab4453)\" d=\"M 58.999432 32.201761 \nL 62.073812 134.181175 \nL 65.148192 135.75167 \nL 68.222572 136.037571 \nL 71.296952 136.24814 \nL 74.371333 136.442493 \nL 77.445713 136.632435 \nL 80.520093 136.823074 \nL 83.594473 137.017592 \nL 86.668853 137.218228 \nL 89.743233 137.428038 \nL 92.817614 137.650809 \nL 95.891994 137.890628 \nL 98.966374 138.151877 \nL 102.040754 138.440399 \nL 105.115134 138.76381 \nL 108.189514 139.130525 \nL 111.263895 139.552735 \nL 114.338275 140.04701 \nL 117.412655 140.635092 \nL 120.487035 141.343639 \nL 123.561415 142.206128 \nL 126.635795 143.260701 \nL 129.710176 144.537909 \nL 132.784556 146.043589 \nL 135.858936 147.741624 \nL 138.933316 149.565119 \nL 142.007696 151.459534 \nL 145.082076 153.405097 \nL 148.156457 155.401776 \nL 151.230837 157.451266 \nL 154.305217 159.549573 \nL 157.379597 161.68876 \nL 160.453977 163.858571 \nL 163.528357 166.049758 \nL 166.602738 168.264844 \nL 169.677118 170.525772 \nL 172.751498 172.862926 \nL 175.825878 175.288633 \nL 178.900258 177.776217 \nL 181.974638 180.255802 \nL 185.049019 182.642569 \nL 188.123399 184.875754 \nL 191.197779 186.935761 \nL 194.272159 188.836189 \nL 197.346539 190.60747 \nL 200.420919 192.282834 \nL 203.4953 193.890886 \nL 206.56968 195.452284 \nL 209.64406 196.977894 \nL 212.71844 198.472371 \nL 215.79282 199.937166 \nL 218.8672 201.373354 \nL 221.941581 202.780854 \nL 225.015961 204.159083 \nL 228.090341 205.507488 \nL 231.164721 206.82332 \nL 234.239101 208.101132 \nL 237.313481 209.333814 \nL 240.387862 210.515168 \nL 243.462242 211.640943 \nL 246.536622 212.709522 \nL 249.611002 213.720997 \nL 252.685382 214.677938 \nL 255.759762 215.583769 \nL 258.834143 216.442404 \nL 261.908523 217.257076 \nL 264.982903 218.030829 \nL 268.057283 218.766225 \nL 271.131663 219.464943 \nL 274.206043 220.128026 \nL 277.280424 220.756085 \nL 280.354804 221.350567 \nL 283.429184 221.912903 \nL 286.503564 222.444576 \nL 289.577944 222.947127 \nL 292.652324 223.422229 \nL 295.726705 223.871559 \nL 298.801085 224.296684 \nL 301.875465 224.699182 \nL 304.949845 225.080619 \nL 308.024225 225.442413 \nL 311.098605 225.786158 \nL 314.172986 226.113267 \nL 317.247366 226.425059 \nL 320.321746 226.72275 \nL 323.396126 227.007411 \nL 326.470506 227.280005 \nL 329.544886 227.541469 \nL 332.619267 227.792562 \nL 335.693647 228.034143 \nL 338.768027 228.266879 \nL 341.842407 228.49135 \nL 344.916787 228.708169 \nL 347.991167 228.917838 \nL 351.065548 229.120817 \nL 354.139928 229.3176 \nL 357.214308 229.50857 \nL 360.288688 229.694091 \nL 363.363068 229.874489 \n\" style=\"fill:none;stroke:#ff0000;stroke-linecap:square;stroke-width:1.5;\"/>\n   </g>\n   <g id=\"patch_3\">\n    <path d=\"M 43.78125 239.758125 \nL 43.78125 22.318125 \n\" style=\"fill:none;stroke:#000000;stroke-linecap:square;stroke-linejoin:miter;stroke-width:0.8;\"/>\n   </g>\n   <g id=\"patch_4\">\n    <path d=\"M 378.58125 239.758125 \nL 378.58125 22.318125 \n\" style=\"fill:none;stroke:#000000;stroke-linecap:square;stroke-linejoin:miter;stroke-width:0.8;\"/>\n   </g>\n   <g id=\"patch_5\">\n    <path d=\"M 43.78125 239.758125 \nL 378.58125 239.758125 \n\" style=\"fill:none;stroke:#000000;stroke-linecap:square;stroke-linejoin:miter;stroke-width:0.8;\"/>\n   </g>\n   <g id=\"patch_6\">\n    <path d=\"M 43.78125 22.318125 \nL 378.58125 22.318125 \n\" style=\"fill:none;stroke:#000000;stroke-linecap:square;stroke-linejoin:miter;stroke-width:0.8;\"/>\n   </g>\n   <g id=\"text_15\">\n    <!-- Loss of model -->\n    <defs>\n     <path id=\"DejaVuSans-20\"/>\n     <path d=\"M 37.109375 75.984375 \nL 37.109375 68.5 \nL 28.515625 68.5 \nQ 23.6875 68.5 21.796875 66.546875 \nQ 19.921875 64.59375 19.921875 59.515625 \nL 19.921875 54.6875 \nL 34.71875 54.6875 \nL 34.71875 47.703125 \nL 19.921875 47.703125 \nL 19.921875 0 \nL 10.890625 0 \nL 10.890625 47.703125 \nL 2.296875 47.703125 \nL 2.296875 54.6875 \nL 10.890625 54.6875 \nL 10.890625 58.5 \nQ 10.890625 67.625 15.140625 71.796875 \nQ 19.390625 75.984375 28.609375 75.984375 \nz\n\" id=\"DejaVuSans-66\"/>\n     <path d=\"M 52 44.1875 \nQ 55.375 50.25 60.0625 53.125 \nQ 64.75 56 71.09375 56 \nQ 79.640625 56 84.28125 50.015625 \nQ 88.921875 44.046875 88.921875 33.015625 \nL 88.921875 0 \nL 79.890625 0 \nL 79.890625 32.71875 \nQ 79.890625 40.578125 77.09375 44.375 \nQ 74.3125 48.1875 68.609375 48.1875 \nQ 61.625 48.1875 57.5625 43.546875 \nQ 53.515625 38.921875 53.515625 30.90625 \nL 53.515625 0 \nL 44.484375 0 \nL 44.484375 32.71875 \nQ 44.484375 40.625 41.703125 44.40625 \nQ 38.921875 48.1875 33.109375 48.1875 \nQ 26.21875 48.1875 22.15625 43.53125 \nQ 18.109375 38.875 18.109375 30.90625 \nL 18.109375 0 \nL 9.078125 0 \nL 9.078125 54.6875 \nL 18.109375 54.6875 \nL 18.109375 46.1875 \nQ 21.1875 51.21875 25.484375 53.609375 \nQ 29.78125 56 35.6875 56 \nQ 41.65625 56 45.828125 52.96875 \nQ 50 49.953125 52 44.1875 \nz\n\" id=\"DejaVuSans-6d\"/>\n     <path d=\"M 45.40625 46.390625 \nL 45.40625 75.984375 \nL 54.390625 75.984375 \nL 54.390625 0 \nL 45.40625 0 \nL 45.40625 8.203125 \nQ 42.578125 3.328125 38.25 0.953125 \nQ 33.9375 -1.421875 27.875 -1.421875 \nQ 17.96875 -1.421875 11.734375 6.484375 \nQ 5.515625 14.40625 5.515625 27.296875 \nQ 5.515625 40.1875 11.734375 48.09375 \nQ 17.96875 56 27.875 56 \nQ 33.9375 56 38.25 53.625 \nQ 42.578125 51.265625 45.40625 46.390625 \nz\nM 14.796875 27.296875 \nQ 14.796875 17.390625 18.875 11.75 \nQ 22.953125 6.109375 30.078125 6.109375 \nQ 37.203125 6.109375 41.296875 11.75 \nQ 45.40625 17.390625 45.40625 27.296875 \nQ 45.40625 37.203125 41.296875 42.84375 \nQ 37.203125 48.484375 30.078125 48.484375 \nQ 22.953125 48.484375 18.875 42.84375 \nQ 14.796875 37.203125 14.796875 27.296875 \nz\n\" id=\"DejaVuSans-64\"/>\n     <path d=\"M 56.203125 29.59375 \nL 56.203125 25.203125 \nL 14.890625 25.203125 \nQ 15.484375 15.921875 20.484375 11.0625 \nQ 25.484375 6.203125 34.421875 6.203125 \nQ 39.59375 6.203125 44.453125 7.46875 \nQ 49.3125 8.734375 54.109375 11.28125 \nL 54.109375 2.78125 \nQ 49.265625 0.734375 44.1875 -0.34375 \nQ 39.109375 -1.421875 33.890625 -1.421875 \nQ 20.796875 -1.421875 13.15625 6.1875 \nQ 5.515625 13.8125 5.515625 26.8125 \nQ 5.515625 40.234375 12.765625 48.109375 \nQ 20.015625 56 32.328125 56 \nQ 43.359375 56 49.78125 48.890625 \nQ 56.203125 41.796875 56.203125 29.59375 \nz\nM 47.21875 32.234375 \nQ 47.125 39.59375 43.09375 43.984375 \nQ 39.0625 48.390625 32.421875 48.390625 \nQ 24.90625 48.390625 20.390625 44.140625 \nQ 15.875 39.890625 15.1875 32.171875 \nz\n\" id=\"DejaVuSans-65\"/>\n     <path d=\"M 9.421875 75.984375 \nL 18.40625 75.984375 \nL 18.40625 0 \nL 9.421875 0 \nz\n\" id=\"DejaVuSans-6c\"/>\n    </defs>\n    <g transform=\"translate(169.635938 16.318125)scale(0.12 -0.12)\">\n     <use xlink:href=\"#DejaVuSans-4c\"/>\n     <use x=\"55.697266\" xlink:href=\"#DejaVuSans-6f\"/>\n     <use x=\"116.878906\" xlink:href=\"#DejaVuSans-73\"/>\n     <use x=\"168.978516\" xlink:href=\"#DejaVuSans-73\"/>\n     <use x=\"221.078125\" xlink:href=\"#DejaVuSans-20\"/>\n     <use x=\"252.865234\" xlink:href=\"#DejaVuSans-6f\"/>\n     <use x=\"314.046875\" xlink:href=\"#DejaVuSans-66\"/>\n     <use x=\"349.251953\" xlink:href=\"#DejaVuSans-20\"/>\n     <use x=\"381.039062\" xlink:href=\"#DejaVuSans-6d\"/>\n     <use x=\"478.451172\" xlink:href=\"#DejaVuSans-6f\"/>\n     <use x=\"539.632812\" xlink:href=\"#DejaVuSans-64\"/>\n     <use x=\"603.109375\" xlink:href=\"#DejaVuSans-65\"/>\n     <use x=\"664.632812\" xlink:href=\"#DejaVuSans-6c\"/>\n    </g>\n   </g>\n   <g id=\"legend_1\">\n    <g id=\"patch_7\">\n     <path d=\"M 317.473438 44.99625 \nL 371.58125 44.99625 \nQ 373.58125 44.99625 373.58125 42.99625 \nL 373.58125 29.318125 \nQ 373.58125 27.318125 371.58125 27.318125 \nL 317.473438 27.318125 \nQ 315.473438 27.318125 315.473438 29.318125 \nL 315.473438 42.99625 \nQ 315.473438 44.99625 317.473438 44.99625 \nz\n\" style=\"fill:#ffffff;opacity:0.8;stroke:#cccccc;stroke-linejoin:miter;\"/>\n    </g>\n    <g id=\"line2d_14\">\n     <path d=\"M 319.473438 35.416562 \nL 339.473438 35.416562 \n\" style=\"fill:none;stroke:#ff0000;stroke-linecap:square;stroke-width:1.5;\"/>\n    </g>\n    <g id=\"line2d_15\"/>\n    <g id=\"text_16\">\n     <!-- Loss -->\n     <g transform=\"translate(347.473438 38.916562)scale(0.1 -0.1)\">\n      <use xlink:href=\"#DejaVuSans-4c\"/>\n      <use x=\"55.697266\" xlink:href=\"#DejaVuSans-6f\"/>\n      <use x=\"116.878906\" xlink:href=\"#DejaVuSans-73\"/>\n      <use x=\"168.978516\" xlink:href=\"#DejaVuSans-73\"/>\n     </g>\n    </g>\n   </g>\n  </g>\n </g>\n <defs>\n  <clipPath id=\"pbd51ab4453\">\n   <rect height=\"217.44\" width=\"334.8\" x=\"43.78125\" y=\"22.318125\"/>\n  </clipPath>\n </defs>\n</svg>\n"
     },
     "metadata": {
      "needs_background": "light"
     }
    }
   ],
   "source": [
    "# make_loss_curve(loss_file, file_type)\n",
    "val.make_loss_curve(\n",
    "    loss_file = '../model/adv_train/FGSM_mnist_FNN_FNN/loss.txt',\n",
    "    file_type = 'adv_train')"
   ]
  },
  {
   "cell_type": "code",
   "execution_count": 10,
   "metadata": {},
   "outputs": [],
   "source": [
    "import tst"
   ]
  },
  {
   "cell_type": "code",
   "execution_count": 11,
   "metadata": {},
   "outputs": [
    {
     "output_type": "stream",
     "name": "stdout",
     "text": [
      "accuracy:91.080000%\n"
     ]
    }
   ],
   "source": [
    "tst.accuracy_test(\n",
    "    model = adv_model, \n",
    "    data_set = 'mnist'\n",
    "    )"
   ]
  },
  {
   "source": [
    "## FGSM"
   ],
   "cell_type": "markdown",
   "metadata": {}
  },
  {
   "cell_type": "code",
   "execution_count": 12,
   "metadata": {},
   "outputs": [
    {
     "output_type": "stream",
     "name": "stdout",
     "text": [
      "fooling_rate:3.770000%\n"
     ]
    }
   ],
   "source": [
    "# robustness_test(model, adv_sample_path, sample_num, sample_shape):\n",
    "tst.robustness_test(\n",
    "    model = adv_model,\n",
    "    adv_sample_path = '../sample/FGSM_mnist_FNN/test',\n",
    "    sample_num = 10000,\n",
    "    sample_shape = [1,28,28]\n",
    ")"
   ]
  },
  {
   "cell_type": "code",
   "execution_count": 13,
   "metadata": {},
   "outputs": [
    {
     "output_type": "stream",
     "name": "stdout",
     "text": [
      "fooling_rate:61.060000%\n"
     ]
    }
   ],
   "source": [
    "# robustness_test(model, adv_sample_path, sample_num, sample_shape):\n",
    "tst.robustness_test(\n",
    "    model = adv_model,\n",
    "    adv_sample_path = '../sample/FGSM_mnist_LeNet/test',\n",
    "    sample_num = 10000,\n",
    "    sample_shape = [1,28,28]\n",
    ")"
   ]
  },
  {
   "cell_type": "code",
   "execution_count": 14,
   "metadata": {},
   "outputs": [
    {
     "output_type": "stream",
     "name": "stdout",
     "text": [
      "fooling_rate:12.610000%\n"
     ]
    }
   ],
   "source": [
    "# robustness_test(model, adv_sample_path, sample_num, sample_shape):\n",
    "tst.robustness_test(\n",
    "    model = adv_model,\n",
    "    adv_sample_path = '../sample/FGSM_mnist_ResNet18/test',\n",
    "    sample_num = 10000,\n",
    "    sample_shape = [1,28,28]\n",
    ")"
   ]
  },
  {
   "source": [
    "## JSMA"
   ],
   "cell_type": "markdown",
   "metadata": {}
  },
  {
   "cell_type": "code",
   "execution_count": 15,
   "metadata": {},
   "outputs": [
    {
     "output_type": "stream",
     "name": "stdout",
     "text": [
      "fooling_rate:44.600000%\n"
     ]
    }
   ],
   "source": [
    "# robustness_test(model, adv_sample_path, sample_num, sample_shape):\n",
    "tst.robustness_test(\n",
    "    model = adv_model,\n",
    "    adv_sample_path = '../sample/JSMA_mnist_FNN/test',\n",
    "    sample_num = 10000,\n",
    "    sample_shape = [1,28,28]\n",
    ")"
   ]
  },
  {
   "cell_type": "code",
   "execution_count": 16,
   "metadata": {},
   "outputs": [
    {
     "output_type": "stream",
     "name": "stdout",
     "text": [
      "fooling_rate:26.970000%\n"
     ]
    }
   ],
   "source": [
    "# robustness_test(model, adv_sample_path, sample_num, sample_shape):\n",
    "tst.robustness_test(\n",
    "    model = adv_model,\n",
    "    adv_sample_path = '../sample/JSMA_mnist_LeNet/test',\n",
    "    sample_num = 10000,\n",
    "    sample_shape = [1,28,28]\n",
    ")"
   ]
  },
  {
   "cell_type": "code",
   "execution_count": 17,
   "metadata": {},
   "outputs": [
    {
     "output_type": "stream",
     "name": "stdout",
     "text": [
      "fooling_rate:12.350000%\n"
     ]
    }
   ],
   "source": [
    "# robustness_test(model, adv_sample_path, sample_num, sample_shape):\n",
    "tst.robustness_test(\n",
    "    model = adv_model,\n",
    "    adv_sample_path = '../sample/JSMA_mnist_ResNet18/test',\n",
    "    sample_num = 10000,\n",
    "    sample_shape = [1,28,28]\n",
    ")"
   ]
  },
  {
   "source": [
    "## DEEPFOOL"
   ],
   "cell_type": "markdown",
   "metadata": {}
  },
  {
   "cell_type": "code",
   "execution_count": 18,
   "metadata": {},
   "outputs": [
    {
     "output_type": "stream",
     "name": "stdout",
     "text": [
      "fooling_rate:33.470000%\n"
     ]
    }
   ],
   "source": [
    "# robustness_test(model, adv_sample_path, sample_num, sample_shape):\n",
    "tst.robustness_test(\n",
    "    model = adv_model,\n",
    "    adv_sample_path = '../sample/DEEPFOOL_mnist_FNN/test',\n",
    "    sample_num = 10000,\n",
    "    sample_shape = [1,28,28]\n",
    ")"
   ]
  },
  {
   "cell_type": "code",
   "execution_count": 19,
   "metadata": {},
   "outputs": [
    {
     "output_type": "stream",
     "name": "stdout",
     "text": [
      "fooling_rate:76.360000%\n"
     ]
    }
   ],
   "source": [
    "# robustness_test(model, adv_sample_path, sample_num, sample_shape):\n",
    "tst.robustness_test(\n",
    "    model = adv_model,\n",
    "    adv_sample_path = '../sample/DEEPFOOL_mnist_LeNet/test',\n",
    "    sample_num = 10000,\n",
    "    sample_shape = [1,28,28]\n",
    ")"
   ]
  },
  {
   "cell_type": "code",
   "execution_count": 20,
   "metadata": {},
   "outputs": [
    {
     "output_type": "stream",
     "name": "stdout",
     "text": [
      "fooling_rate:10.250000%\n"
     ]
    }
   ],
   "source": [
    "# robustness_test(model, adv_sample_path, sample_num, sample_shape):\n",
    "tst.robustness_test(\n",
    "    model = adv_model,\n",
    "    adv_sample_path = '../sample/DEEPFOOL_mnist_ResNet18/test',\n",
    "    sample_num = 10000,\n",
    "    sample_shape = [1,28,28]\n",
    ")"
   ]
  },
  {
   "source": [
    "## PGD"
   ],
   "cell_type": "markdown",
   "metadata": {}
  },
  {
   "cell_type": "code",
   "execution_count": 21,
   "metadata": {},
   "outputs": [
    {
     "output_type": "stream",
     "name": "stdout",
     "text": [
      "fooling_rate:2.210000%\n"
     ]
    }
   ],
   "source": [
    "# robustness_test(model, adv_sample_path, sample_num, sample_shape):\n",
    "tst.robustness_test(\n",
    "    model = adv_model,\n",
    "    adv_sample_path = '../sample/PGD_mnist_FNN/test',\n",
    "    sample_num = 10000,\n",
    "    sample_shape = [1,28,28]\n",
    ")"
   ]
  },
  {
   "cell_type": "code",
   "execution_count": 22,
   "metadata": {},
   "outputs": [
    {
     "output_type": "stream",
     "name": "stdout",
     "text": [
      "fooling_rate:72.320000%\n"
     ]
    }
   ],
   "source": [
    "# robustness_test(model, adv_sample_path, sample_num, sample_shape):\n",
    "tst.robustness_test(\n",
    "    model = adv_model,\n",
    "    adv_sample_path = '../sample/PGD_mnist_LeNet/test',\n",
    "    sample_num = 10000,\n",
    "    sample_shape = [1,28,28]\n",
    ")"
   ]
  },
  {
   "cell_type": "code",
   "execution_count": 23,
   "metadata": {},
   "outputs": [
    {
     "output_type": "stream",
     "name": "stdout",
     "text": [
      "fooling_rate:14.930000%\n"
     ]
    }
   ],
   "source": [
    "# robustness_test(model, adv_sample_path, sample_num, sample_shape):\n",
    "tst.robustness_test(\n",
    "    model = adv_model,\n",
    "    adv_sample_path = '../sample/PGD_mnist_ResNet18/test',\n",
    "    sample_num = 10000,\n",
    "    sample_shape = [1,28,28]\n",
    ")"
   ]
  },
  {
   "source": [
    "## THREAT"
   ],
   "cell_type": "markdown",
   "metadata": {}
  },
  {
   "cell_type": "code",
   "execution_count": 24,
   "metadata": {},
   "outputs": [
    {
     "output_type": "stream",
     "name": "stdout",
     "text": [
      "fooling_rate:88.560000%\n"
     ]
    }
   ],
   "source": [
    "# robustness_test(model, adv_sample_path, sample_num, sample_shape):\n",
    "tst.robustness_test(\n",
    "    model = adv_model,\n",
    "    adv_sample_path = '../sample/THREAT_mnist/test',\n",
    "    sample_num = 10000,\n",
    "    sample_shape = [1,28,28]\n",
    ")"
   ]
  }
 ]
}