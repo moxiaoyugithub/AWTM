{
 "metadata": {
  "language_info": {
   "codemirror_mode": {
    "name": "ipython",
    "version": 3
   },
   "file_extension": ".py",
   "mimetype": "text/x-python",
   "name": "python",
   "nbconvert_exporter": "python",
   "pygments_lexer": "ipython3",
   "version": "2.7.18-final"
  },
  "orig_nbformat": 2,
  "kernelspec": {
   "name": "Python 2.7.18 64-bit ('exp27': conda)",
   "display_name": "Python 2.7.18 64-bit ('exp27': conda)",
   "metadata": {
    "interpreter": {
     "hash": "94b498c9aad39d14fe2eef1427b4eed5fb73bba001ef4744562740919eaae58d"
    }
   }
  }
 },
 "nbformat": 4,
 "nbformat_minor": 2,
 "cells": [
  {
   "cell_type": "code",
   "execution_count": 1,
   "metadata": {},
   "outputs": [],
   "source": [
    "import sys\n",
    "sys.path.append(\"../../code\")"
   ]
  },
  {
   "cell_type": "code",
   "execution_count": 2,
   "metadata": {},
   "outputs": [],
   "source": [
    "import gen"
   ]
  },
  {
   "cell_type": "code",
   "execution_count": 3,
   "metadata": {},
   "outputs": [],
   "source": [
    "import torch\n",
    "import torch.nn as nn\n",
    "import torch.optim as optim\n",
    "import torch.nn.functional as F"
   ]
  },
  {
   "cell_type": "code",
   "execution_count": 4,
   "metadata": {},
   "outputs": [],
   "source": [
    "class ResidualBlock(nn.Module):\n",
    "    def __init__(self, inchannel, outchannel, stride=1):\n",
    "        super(ResidualBlock, self).__init__()\n",
    "        self.left = nn.Sequential(\n",
    "            nn.Conv2d(inchannel,outchannel,kernel_size=3,padding=1,stride=stride,bias=False),\n",
    "            nn.BatchNorm2d(outchannel),\n",
    "            nn.ReLU(),\n",
    "            nn.Conv2d(outchannel, outchannel, kernel_size=3, padding=1, stride=stride, bias=False),\n",
    "            nn.BatchNorm2d(outchannel)\n",
    "        )\n",
    "        self.right = nn.Sequential()\n",
    "        \n",
    "        if(inchannel != outchannel):\n",
    "            self.right = nn.Sequential(\n",
    "                nn.Conv2d(inchannel, outchannel, kernel_size=3, padding=1, stride=stride, bias=False),\n",
    "                nn.BatchNorm2d(outchannel),\n",
    "            )\n",
    "\n",
    "    def forward(self, x):\n",
    "        out = self.left(x)\n",
    "        out += self.right(x)\n",
    "        out =F.relu(out)\n",
    "        return out\n",
    "\n",
    "class ResNet(nn.Module):\n",
    "    def __init__(self, ResidualBlock, num_classes=10):\n",
    "        super(ResNet, self).__init__()\n",
    "        self.inchannel = 64\n",
    "        self.conv1 = nn.Sequential(\n",
    "            nn.Conv2d(1,64,kernel_size=3,stride=1,padding=1,bias=False),\n",
    "            nn.BatchNorm2d(64),\n",
    "            nn.ReLU(),\n",
    "        )\n",
    "        self.layer1 = self.make_layer(ResidualBlock, 64,  2, stride=1)\n",
    "        self.layer2 = self.make_layer(ResidualBlock, 128, 2, stride=1)\n",
    "        self.conv2 = nn.Conv2d(128,128,3,stride=2)\n",
    "        self.layer3 = self.make_layer(ResidualBlock, 256, 2, stride=1)\n",
    "        self.conv3 = nn.Conv2d(256, 256, 3, stride=2)\n",
    "        #self.layer4 = self.make_layer(ResidualBlock, 512, 2, stride=1)\n",
    "        self.conv4 = nn.Conv2d(256,256,6)\n",
    "        self.fc = nn.Linear(256, num_classes)\n",
    "\n",
    "    def make_layer(self, block, channels, num_blocks, stride):\n",
    "        layer = []\n",
    "        for i in range(num_blocks):\n",
    "            layer.append(block(self.inchannel,channels,stride))\n",
    "            self.inchannel = channels\n",
    "        #\n",
    "        return nn.Sequential(*layer)\n",
    "\n",
    "    def forward(self, x):\n",
    "        out = self.conv1(x)\n",
    "        out = self.layer1(out)\n",
    "        out = self.layer2(out)\n",
    "        out = self.conv2(out)\n",
    "        out = self.layer3(out)\n",
    "        out = self.conv3(out)\n",
    "        #out = self.layer4(out)\n",
    "        out = self.conv4(out)\n",
    "        #out = F.avg_pool2d(out,4)\n",
    "        out = out.view(out.size(0), -1)\n",
    "        out = self.fc(out)\n",
    "        return out\n",
    "\n",
    "def ResNet18():\n",
    "    return ResNet(ResidualBlock)\n"
   ]
  },
  {
   "cell_type": "code",
   "execution_count": 5,
   "metadata": {},
   "outputs": [],
   "source": [
    "train_model = ResNet18()"
   ]
  },
  {
   "cell_type": "code",
   "execution_count": 6,
   "metadata": {},
   "outputs": [],
   "source": [
    "#adv_train(data_set, adv_sample_path, sample_num, sample_shape, train_model, model_lossfun, model_optimizer, config, METHOD_dataset_NET_TNET)\n",
    "data_set = 'mnist'\n",
    "adv_sample_path = '../sample/FGSM_mnist_ResNet18/train'\n",
    "sample_num = 60000\n",
    "sample_shape = [1,28,28]\n",
    "model_lossfun = nn.MSELoss()\n",
    "model_optimizer = optim.SGD(train_model.parameters(), lr=0.001, momentum=0.9, weight_decay=1e-4)\n",
    "config = 'FGSM_mnist_ResNet18_ResNet18.json'\n",
    "METHOD_dataset_NET_TNET = 'FGSM_mnist_ResNet18_ResNet18'"
   ]
  },
  {
   "cell_type": "code",
   "execution_count": 7,
   "metadata": {},
   "outputs": [
    {
     "output_type": "stream",
     "name": "stdout",
     "text": [
      "epoch:0/100\n",
      "loss:0.11521361,cost:148.9253s\n",
      "epoch:1/100\n",
      "loss:0.05236487,cost:151.6028s\n",
      "epoch:2/100\n",
      "loss:0.04169222,cost:152.6506s\n",
      "epoch:3/100\n",
      "loss:0.03623442,cost:153.8233s\n",
      "epoch:4/100\n",
      "loss:0.03270666,cost:154.0971s\n",
      "epoch:5/100\n",
      "loss:0.03014812,cost:153.7338s\n",
      "epoch:6/100\n",
      "loss:0.02816257,cost:154.1898s\n",
      "epoch:7/100\n",
      "loss:0.02656217,cost:153.1381s\n",
      "epoch:8/100\n",
      "loss:0.02523675,cost:151.1624s\n",
      "epoch:9/100\n",
      "loss:0.02410923,cost:150.8343s\n",
      "epoch:10/100\n",
      "loss:0.02313090,cost:150.7666s\n",
      "epoch:11/100\n",
      "loss:0.02227034,cost:150.5544s\n",
      "epoch:12/100\n",
      "loss:0.02150652,cost:150.5702s\n",
      "epoch:13/100\n",
      "loss:0.02082031,cost:150.5150s\n",
      "epoch:14/100\n",
      "loss:0.02019834,cost:150.6340s\n",
      "epoch:15/100\n",
      "loss:0.01963117,cost:150.6200s\n",
      "epoch:16/100\n",
      "loss:0.01911240,cost:150.5038s\n",
      "epoch:17/100\n",
      "loss:0.01863193,cost:150.5930s\n",
      "epoch:18/100\n",
      "loss:0.01818600,cost:150.5935s\n",
      "epoch:19/100\n",
      "loss:0.01777058,cost:150.6371s\n",
      "epoch:20/100\n",
      "loss:0.01738101,cost:150.4607s\n",
      "epoch:21/100\n",
      "loss:0.01701524,cost:150.4350s\n",
      "epoch:22/100\n",
      "loss:0.01667161,cost:150.7325s\n",
      "epoch:23/100\n",
      "loss:0.01634717,cost:153.0614s\n",
      "epoch:24/100\n",
      "loss:0.01604022,cost:153.3397s\n",
      "epoch:25/100\n",
      "loss:0.01574909,cost:153.7665s\n",
      "epoch:26/100\n",
      "loss:0.01547253,cost:153.3631s\n",
      "epoch:27/100\n",
      "loss:0.01520921,cost:153.9528s\n",
      "epoch:28/100\n",
      "loss:0.01495872,cost:153.8661s\n",
      "epoch:29/100\n",
      "loss:0.01471892,cost:153.6262s\n",
      "epoch:30/100\n",
      "loss:0.01448931,cost:153.7938s\n",
      "epoch:31/100\n",
      "loss:0.01426879,cost:154.2898s\n",
      "epoch:32/100\n",
      "loss:0.01405700,cost:153.5862s\n",
      "epoch:33/100\n",
      "loss:0.01385329,cost:151.1148s\n",
      "epoch:34/100\n",
      "loss:0.01365739,cost:150.7100s\n",
      "epoch:35/100\n",
      "loss:0.01346908,cost:150.6244s\n",
      "epoch:36/100\n",
      "loss:0.01328775,cost:150.6033s\n",
      "epoch:37/100\n",
      "loss:0.01311256,cost:150.5292s\n",
      "epoch:38/100\n",
      "loss:0.01294366,cost:150.4368s\n",
      "epoch:39/100\n",
      "loss:0.01278022,cost:150.3599s\n",
      "epoch:40/100\n",
      "loss:0.01262213,cost:150.2304s\n",
      "epoch:41/100\n",
      "loss:0.01246891,cost:150.2174s\n",
      "epoch:42/100\n",
      "loss:0.01232056,cost:150.1454s\n",
      "epoch:43/100\n",
      "loss:0.01217660,cost:150.2596s\n",
      "epoch:44/100\n",
      "loss:0.01203719,cost:150.2222s\n",
      "epoch:45/100\n",
      "loss:0.01190183,cost:150.2087s\n",
      "epoch:46/100\n",
      "loss:0.01177049,cost:150.1972s\n",
      "epoch:47/100\n",
      "loss:0.01164289,cost:150.1950s\n",
      "epoch:48/100\n",
      "loss:0.01151876,cost:150.2162s\n",
      "epoch:49/100\n",
      "loss:0.01139810,cost:150.1946s\n",
      "epoch:50/100\n",
      "loss:0.01128033,cost:150.3435s\n",
      "epoch:51/100\n",
      "loss:0.01116560,cost:150.4556s\n",
      "epoch:52/100\n",
      "loss:0.01105392,cost:150.2677s\n",
      "epoch:53/100\n",
      "loss:0.01094500,cost:150.3722s\n",
      "epoch:54/100\n",
      "loss:0.01083860,cost:150.4377s\n",
      "epoch:55/100\n",
      "loss:0.01073517,cost:150.5585s\n",
      "epoch:56/100\n",
      "loss:0.01063398,cost:150.5954s\n",
      "epoch:57/100\n",
      "loss:0.01053511,cost:150.4941s\n",
      "epoch:58/100\n",
      "loss:0.01043859,cost:150.5283s\n",
      "epoch:59/100\n",
      "loss:0.01034419,cost:150.6021s\n",
      "epoch:60/100\n",
      "loss:0.01025204,cost:150.3969s\n",
      "epoch:61/100\n",
      "loss:0.01016190,cost:150.5121s\n",
      "epoch:62/100\n",
      "loss:0.01007350,cost:150.4895s\n",
      "epoch:63/100\n",
      "loss:0.00998667,cost:150.4591s\n",
      "epoch:64/100\n",
      "loss:0.00990178,cost:150.5053s\n",
      "epoch:65/100\n",
      "loss:0.00981863,cost:150.5129s\n",
      "epoch:66/100\n",
      "loss:0.00973721,cost:150.5531s\n",
      "epoch:67/100\n",
      "loss:0.00965740,cost:150.4434s\n",
      "epoch:68/100\n",
      "loss:0.00957913,cost:150.6354s\n",
      "epoch:69/100\n",
      "loss:0.00950237,cost:150.3623s\n",
      "epoch:70/100\n",
      "loss:0.00942689,cost:150.3078s\n",
      "epoch:71/100\n",
      "loss:0.00935292,cost:150.5217s\n",
      "epoch:72/100\n",
      "loss:0.00928045,cost:150.4713s\n",
      "epoch:73/100\n",
      "loss:0.00920923,cost:150.5187s\n",
      "epoch:74/100\n",
      "loss:0.00913923,cost:150.4839s\n",
      "epoch:75/100\n",
      "loss:0.00907047,cost:150.4518s\n",
      "epoch:76/100\n",
      "loss:0.00900284,cost:150.4877s\n",
      "epoch:77/100\n",
      "loss:0.00893640,cost:150.4990s\n",
      "epoch:78/100\n",
      "loss:0.00887103,cost:150.3510s\n",
      "epoch:79/100\n",
      "loss:0.00880675,cost:150.6016s\n",
      "epoch:80/100\n",
      "loss:0.00874340,cost:150.5533s\n",
      "epoch:81/100\n",
      "loss:0.00868111,cost:150.5562s\n",
      "epoch:82/100\n",
      "loss:0.00861983,cost:150.4365s\n",
      "epoch:83/100\n",
      "loss:0.00855965,cost:150.3984s\n",
      "epoch:84/100\n",
      "loss:0.00850009,cost:150.3364s\n",
      "epoch:85/100\n",
      "loss:0.00844158,cost:150.3958s\n",
      "epoch:86/100\n",
      "loss:0.00838394,cost:150.3648s\n",
      "epoch:87/100\n",
      "loss:0.00832721,cost:150.3411s\n",
      "epoch:88/100\n",
      "loss:0.00827121,cost:150.3208s\n",
      "epoch:89/100\n",
      "loss:0.00821608,cost:150.2731s\n",
      "epoch:90/100\n",
      "loss:0.00816169,cost:150.4225s\n",
      "epoch:91/100\n",
      "loss:0.00810805,cost:150.3250s\n",
      "epoch:92/100\n",
      "loss:0.00805515,cost:150.3907s\n",
      "epoch:93/100\n",
      "loss:0.00800310,cost:150.4235s\n",
      "epoch:94/100\n",
      "loss:0.00795176,cost:150.4842s\n",
      "epoch:95/100\n",
      "loss:0.00790107,cost:150.4425s\n",
      "epoch:96/100\n",
      "loss:0.00785106,cost:150.3589s\n",
      "epoch:97/100\n",
      "loss:0.00780163,cost:150.3357s\n",
      "epoch:98/100\n",
      "loss:0.00775312,cost:150.3683s\n",
      "epoch:99/100\n",
      "loss:0.00770518,cost:150.4030s\n",
      "saving model...\n",
      "-complete-\n",
      "saving loss...\n",
      "-complete-\n",
      "/home/moxiaoyu/.conda/envs/exp27/lib/python2.7/site-packages/torch/serialization.py:360: UserWarning: Couldn't retrieve source code for container of type ResNet. It won't be checked for correctness upon loading.\n",
      "  \"type \" + obj.__name__ + \". It won't be checked \"\n",
      "/home/moxiaoyu/.conda/envs/exp27/lib/python2.7/site-packages/torch/serialization.py:360: UserWarning: Couldn't retrieve source code for container of type ResidualBlock. It won't be checked for correctness upon loading.\n",
      "  \"type \" + obj.__name__ + \". It won't be checked \"\n"
     ]
    }
   ],
   "source": [
    "gen.adv_train(\n",
    "    data_set, \n",
    "    adv_sample_path, \n",
    "    sample_num, \n",
    "    sample_shape, \n",
    "    train_model, \n",
    "    model_lossfun, \n",
    "    model_optimizer, \n",
    "    config, \n",
    "    METHOD_dataset_NET_TNET)"
   ]
  },
  {
   "cell_type": "code",
   "execution_count": 7,
   "metadata": {},
   "outputs": [],
   "source": [
    "import val"
   ]
  },
  {
   "cell_type": "code",
   "execution_count": 8,
   "metadata": {},
   "outputs": [],
   "source": [
    "adv_model = torch.load('../model/adv_train/FGSM_mnist_ResNet18_ResNet18/model.pkl')"
   ]
  },
  {
   "cell_type": "code",
   "execution_count": 9,
   "metadata": {},
   "outputs": [
    {
     "output_type": "display_data",
     "data": {
      "image/png": "[encoded data removed]",
      "text/plain": "<Figure size 432x288 with 1 Axes>",
      "image/svg+xml": "<?xml version=\"1.0\" encoding=\"utf-8\" standalone=\"no\"?>\n<!DOCTYPE svg PUBLIC \"-//W3C//DTD SVG 1.1//EN\"\n  \"http://www.w3.org/Graphics/SVG/1.1/DTD/svg11.dtd\">\n<!-- Created with matplotlib (http://matplotlib.org/) -->\n<svg height=\"277.314375pt\" version=\"1.1\" viewBox=\"0 0 395.64375 277.314375\" width=\"395.64375pt\" xmlns=\"http://www.w3.org/2000/svg\" xmlns:xlink=\"http://www.w3.org/1999/xlink\">\n <defs>\n  <style type=\"text/css\">\n*{stroke-linecap:butt;stroke-linejoin:round;}\n  </style>\n </defs>\n <g id=\"figure_1\">\n  <g id=\"patch_1\">\n   <path d=\"M 0 277.314375 \nL 395.64375 277.314375 \nL 395.64375 0 \nL 0 0 \nz\n\" style=\"fill:none;\"/>\n  </g>\n  <g id=\"axes_1\">\n   <g id=\"patch_2\">\n    <path d=\"M 50.14375 239.758125 \nL 384.94375 239.758125 \nL 384.94375 22.318125 \nL 50.14375 22.318125 \nz\n\" style=\"fill:#ffffff;\"/>\n   </g>\n   <g id=\"matplotlib.axis_1\">\n    <g id=\"xtick_1\">\n     <g id=\"line2d_1\">\n      <defs>\n       <path d=\"M 0 0 \nL 0 3.5 \n\" id=\"m02149b3a8f\" style=\"stroke:#000000;stroke-width:0.8;\"/>\n      </defs>\n      <g>\n       <use style=\"stroke:#000000;stroke-width:0.8;\" x=\"65.361932\" xlink:href=\"#m02149b3a8f\" y=\"239.758125\"/>\n      </g>\n     </g>\n     <g id=\"text_1\">\n      <!-- 0 -->\n      <defs>\n       <path d=\"M 31.78125 66.40625 \nQ 24.171875 66.40625 20.328125 58.90625 \nQ 16.5 51.421875 16.5 36.375 \nQ 16.5 21.390625 20.328125 13.890625 \nQ 24.171875 6.390625 31.78125 6.390625 \nQ 39.453125 6.390625 43.28125 13.890625 \nQ 47.125 21.390625 47.125 36.375 \nQ 47.125 51.421875 43.28125 58.90625 \nQ 39.453125 66.40625 31.78125 66.40625 \nz\nM 31.78125 74.21875 \nQ 44.046875 74.21875 50.515625 64.515625 \nQ 56.984375 54.828125 56.984375 36.375 \nQ 56.984375 17.96875 50.515625 8.265625 \nQ 44.046875 -1.421875 31.78125 -1.421875 \nQ 19.53125 -1.421875 13.0625 8.265625 \nQ 6.59375 17.96875 6.59375 36.375 \nQ 6.59375 54.828125 13.0625 64.515625 \nQ 19.53125 74.21875 31.78125 74.21875 \nz\n\" id=\"DejaVuSans-30\"/>\n      </defs>\n      <g transform=\"translate(62.180682 254.356562)scale(0.1 -0.1)\">\n       <use xlink:href=\"#DejaVuSans-30\"/>\n      </g>\n     </g>\n    </g>\n    <g id=\"xtick_2\">\n     <g id=\"line2d_2\">\n      <g>\n       <use style=\"stroke:#000000;stroke-width:0.8;\" x=\"126.849535\" xlink:href=\"#m02149b3a8f\" y=\"239.758125\"/>\n      </g>\n     </g>\n     <g id=\"text_2\">\n      <!-- 20 -->\n      <defs>\n       <path d=\"M 19.1875 8.296875 \nL 53.609375 8.296875 \nL 53.609375 0 \nL 7.328125 0 \nL 7.328125 8.296875 \nQ 12.9375 14.109375 22.625 23.890625 \nQ 32.328125 33.6875 34.8125 36.53125 \nQ 39.546875 41.84375 41.421875 45.53125 \nQ 43.3125 49.21875 43.3125 52.78125 \nQ 43.3125 58.59375 39.234375 62.25 \nQ 35.15625 65.921875 28.609375 65.921875 \nQ 23.96875 65.921875 18.8125 64.3125 \nQ 13.671875 62.703125 7.8125 59.421875 \nL 7.8125 69.390625 \nQ 13.765625 71.78125 18.9375 73 \nQ 24.125 74.21875 28.421875 74.21875 \nQ 39.75 74.21875 46.484375 68.546875 \nQ 53.21875 62.890625 53.21875 53.421875 \nQ 53.21875 48.921875 51.53125 44.890625 \nQ 49.859375 40.875 45.40625 35.40625 \nQ 44.1875 33.984375 37.640625 27.21875 \nQ 31.109375 20.453125 19.1875 8.296875 \nz\n\" id=\"DejaVuSans-32\"/>\n      </defs>\n      <g transform=\"translate(120.487035 254.356562)scale(0.1 -0.1)\">\n       <use xlink:href=\"#DejaVuSans-32\"/>\n       <use x=\"63.623047\" xlink:href=\"#DejaVuSans-30\"/>\n      </g>\n     </g>\n    </g>\n    <g id=\"xtick_3\">\n     <g id=\"line2d_3\">\n      <g>\n       <use style=\"stroke:#000000;stroke-width:0.8;\" x=\"188.337138\" xlink:href=\"#m02149b3a8f\" y=\"239.758125\"/>\n      </g>\n     </g>\n     <g id=\"text_3\">\n      <!-- 40 -->\n      <defs>\n       <path d=\"M 37.796875 64.3125 \nL 12.890625 25.390625 \nL 37.796875 25.390625 \nz\nM 35.203125 72.90625 \nL 47.609375 72.90625 \nL 47.609375 25.390625 \nL 58.015625 25.390625 \nL 58.015625 17.1875 \nL 47.609375 17.1875 \nL 47.609375 0 \nL 37.796875 0 \nL 37.796875 17.1875 \nL 4.890625 17.1875 \nL 4.890625 26.703125 \nz\n\" id=\"DejaVuSans-34\"/>\n      </defs>\n      <g transform=\"translate(181.974638 254.356562)scale(0.1 -0.1)\">\n       <use xlink:href=\"#DejaVuSans-34\"/>\n       <use x=\"63.623047\" xlink:href=\"#DejaVuSans-30\"/>\n      </g>\n     </g>\n    </g>\n    <g id=\"xtick_4\">\n     <g id=\"line2d_4\">\n      <g>\n       <use style=\"stroke:#000000;stroke-width:0.8;\" x=\"249.824742\" xlink:href=\"#m02149b3a8f\" y=\"239.758125\"/>\n      </g>\n     </g>\n     <g id=\"text_4\">\n      <!-- 60 -->\n      <defs>\n       <path d=\"M 33.015625 40.375 \nQ 26.375 40.375 22.484375 35.828125 \nQ 18.609375 31.296875 18.609375 23.390625 \nQ 18.609375 15.53125 22.484375 10.953125 \nQ 26.375 6.390625 33.015625 6.390625 \nQ 39.65625 6.390625 43.53125 10.953125 \nQ 47.40625 15.53125 47.40625 23.390625 \nQ 47.40625 31.296875 43.53125 35.828125 \nQ 39.65625 40.375 33.015625 40.375 \nz\nM 52.59375 71.296875 \nL 52.59375 62.3125 \nQ 48.875 64.0625 45.09375 64.984375 \nQ 41.3125 65.921875 37.59375 65.921875 \nQ 27.828125 65.921875 22.671875 59.328125 \nQ 17.53125 52.734375 16.796875 39.40625 \nQ 19.671875 43.65625 24.015625 45.921875 \nQ 28.375 48.1875 33.59375 48.1875 \nQ 44.578125 48.1875 50.953125 41.515625 \nQ 57.328125 34.859375 57.328125 23.390625 \nQ 57.328125 12.15625 50.6875 5.359375 \nQ 44.046875 -1.421875 33.015625 -1.421875 \nQ 20.359375 -1.421875 13.671875 8.265625 \nQ 6.984375 17.96875 6.984375 36.375 \nQ 6.984375 53.65625 15.1875 63.9375 \nQ 23.390625 74.21875 37.203125 74.21875 \nQ 40.921875 74.21875 44.703125 73.484375 \nQ 48.484375 72.75 52.59375 71.296875 \nz\n\" id=\"DejaVuSans-36\"/>\n      </defs>\n      <g transform=\"translate(243.462242 254.356562)scale(0.1 -0.1)\">\n       <use xlink:href=\"#DejaVuSans-36\"/>\n       <use x=\"63.623047\" xlink:href=\"#DejaVuSans-30\"/>\n      </g>\n     </g>\n    </g>\n    <g id=\"xtick_5\">\n     <g id=\"line2d_5\">\n      <g>\n       <use style=\"stroke:#000000;stroke-width:0.8;\" x=\"311.312345\" xlink:href=\"#m02149b3a8f\" y=\"239.758125\"/>\n      </g>\n     </g>\n     <g id=\"text_5\">\n      <!-- 80 -->\n      <defs>\n       <path d=\"M 31.78125 34.625 \nQ 24.75 34.625 20.71875 30.859375 \nQ 16.703125 27.09375 16.703125 20.515625 \nQ 16.703125 13.921875 20.71875 10.15625 \nQ 24.75 6.390625 31.78125 6.390625 \nQ 38.8125 6.390625 42.859375 10.171875 \nQ 46.921875 13.96875 46.921875 20.515625 \nQ 46.921875 27.09375 42.890625 30.859375 \nQ 38.875 34.625 31.78125 34.625 \nz\nM 21.921875 38.8125 \nQ 15.578125 40.375 12.03125 44.71875 \nQ 8.5 49.078125 8.5 55.328125 \nQ 8.5 64.0625 14.71875 69.140625 \nQ 20.953125 74.21875 31.78125 74.21875 \nQ 42.671875 74.21875 48.875 69.140625 \nQ 55.078125 64.0625 55.078125 55.328125 \nQ 55.078125 49.078125 51.53125 44.71875 \nQ 48 40.375 41.703125 38.8125 \nQ 48.828125 37.15625 52.796875 32.3125 \nQ 56.78125 27.484375 56.78125 20.515625 \nQ 56.78125 9.90625 50.3125 4.234375 \nQ 43.84375 -1.421875 31.78125 -1.421875 \nQ 19.734375 -1.421875 13.25 4.234375 \nQ 6.78125 9.90625 6.78125 20.515625 \nQ 6.78125 27.484375 10.78125 32.3125 \nQ 14.796875 37.15625 21.921875 38.8125 \nz\nM 18.3125 54.390625 \nQ 18.3125 48.734375 21.84375 45.5625 \nQ 25.390625 42.390625 31.78125 42.390625 \nQ 38.140625 42.390625 41.71875 45.5625 \nQ 45.3125 48.734375 45.3125 54.390625 \nQ 45.3125 60.0625 41.71875 63.234375 \nQ 38.140625 66.40625 31.78125 66.40625 \nQ 25.390625 66.40625 21.84375 63.234375 \nQ 18.3125 60.0625 18.3125 54.390625 \nz\n\" id=\"DejaVuSans-38\"/>\n      </defs>\n      <g transform=\"translate(304.949845 254.356562)scale(0.1 -0.1)\">\n       <use xlink:href=\"#DejaVuSans-38\"/>\n       <use x=\"63.623047\" xlink:href=\"#DejaVuSans-30\"/>\n      </g>\n     </g>\n    </g>\n    <g id=\"xtick_6\">\n     <g id=\"line2d_6\">\n      <g>\n       <use style=\"stroke:#000000;stroke-width:0.8;\" x=\"372.799948\" xlink:href=\"#m02149b3a8f\" y=\"239.758125\"/>\n      </g>\n     </g>\n     <g id=\"text_6\">\n      <!-- 100 -->\n      <defs>\n       <path d=\"M 12.40625 8.296875 \nL 28.515625 8.296875 \nL 28.515625 63.921875 \nL 10.984375 60.40625 \nL 10.984375 69.390625 \nL 28.421875 72.90625 \nL 38.28125 72.90625 \nL 38.28125 8.296875 \nL 54.390625 8.296875 \nL 54.390625 0 \nL 12.40625 0 \nz\n\" id=\"DejaVuSans-31\"/>\n      </defs>\n      <g transform=\"translate(363.256198 254.356562)scale(0.1 -0.1)\">\n       <use xlink:href=\"#DejaVuSans-31\"/>\n       <use x=\"63.623047\" xlink:href=\"#DejaVuSans-30\"/>\n       <use x=\"127.246094\" xlink:href=\"#DejaVuSans-30\"/>\n      </g>\n     </g>\n    </g>\n    <g id=\"text_7\">\n     <!-- Epoch -->\n     <defs>\n      <path d=\"M 9.8125 72.90625 \nL 55.90625 72.90625 \nL 55.90625 64.59375 \nL 19.671875 64.59375 \nL 19.671875 43.015625 \nL 54.390625 43.015625 \nL 54.390625 34.71875 \nL 19.671875 34.71875 \nL 19.671875 8.296875 \nL 56.78125 8.296875 \nL 56.78125 0 \nL 9.8125 0 \nz\n\" id=\"DejaVuSans-45\"/>\n      <path d=\"M 18.109375 8.203125 \nL 18.109375 -20.796875 \nL 9.078125 -20.796875 \nL 9.078125 54.6875 \nL 18.109375 54.6875 \nL 18.109375 46.390625 \nQ 20.953125 51.265625 25.265625 53.625 \nQ 29.59375 56 35.59375 56 \nQ 45.5625 56 51.78125 48.09375 \nQ 58.015625 40.1875 58.015625 27.296875 \nQ 58.015625 14.40625 51.78125 6.484375 \nQ 45.5625 -1.421875 35.59375 -1.421875 \nQ 29.59375 -1.421875 25.265625 0.953125 \nQ 20.953125 3.328125 18.109375 8.203125 \nz\nM 48.6875 27.296875 \nQ 48.6875 37.203125 44.609375 42.84375 \nQ 40.53125 48.484375 33.40625 48.484375 \nQ 26.265625 48.484375 22.1875 42.84375 \nQ 18.109375 37.203125 18.109375 27.296875 \nQ 18.109375 17.390625 22.1875 11.75 \nQ 26.265625 6.109375 33.40625 6.109375 \nQ 40.53125 6.109375 44.609375 11.75 \nQ 48.6875 17.390625 48.6875 27.296875 \nz\n\" id=\"DejaVuSans-70\"/>\n      <path d=\"M 30.609375 48.390625 \nQ 23.390625 48.390625 19.1875 42.75 \nQ 14.984375 37.109375 14.984375 27.296875 \nQ 14.984375 17.484375 19.15625 11.84375 \nQ 23.34375 6.203125 30.609375 6.203125 \nQ 37.796875 6.203125 41.984375 11.859375 \nQ 46.1875 17.53125 46.1875 27.296875 \nQ 46.1875 37.015625 41.984375 42.703125 \nQ 37.796875 48.390625 30.609375 48.390625 \nz\nM 30.609375 56 \nQ 42.328125 56 49.015625 48.375 \nQ 55.71875 40.765625 55.71875 27.296875 \nQ 55.71875 13.875 49.015625 6.21875 \nQ 42.328125 -1.421875 30.609375 -1.421875 \nQ 18.84375 -1.421875 12.171875 6.21875 \nQ 5.515625 13.875 5.515625 27.296875 \nQ 5.515625 40.765625 12.171875 48.375 \nQ 18.84375 56 30.609375 56 \nz\n\" id=\"DejaVuSans-6f\"/>\n      <path d=\"M 48.78125 52.59375 \nL 48.78125 44.1875 \nQ 44.96875 46.296875 41.140625 47.34375 \nQ 37.3125 48.390625 33.40625 48.390625 \nQ 24.65625 48.390625 19.8125 42.84375 \nQ 14.984375 37.3125 14.984375 27.296875 \nQ 14.984375 17.28125 19.8125 11.734375 \nQ 24.65625 6.203125 33.40625 6.203125 \nQ 37.3125 6.203125 41.140625 7.25 \nQ 44.96875 8.296875 48.78125 10.40625 \nL 48.78125 2.09375 \nQ 45.015625 0.34375 40.984375 -0.53125 \nQ 36.96875 -1.421875 32.421875 -1.421875 \nQ 20.0625 -1.421875 12.78125 6.34375 \nQ 5.515625 14.109375 5.515625 27.296875 \nQ 5.515625 40.671875 12.859375 48.328125 \nQ 20.21875 56 33.015625 56 \nQ 37.15625 56 41.109375 55.140625 \nQ 45.0625 54.296875 48.78125 52.59375 \nz\n\" id=\"DejaVuSans-63\"/>\n      <path d=\"M 54.890625 33.015625 \nL 54.890625 0 \nL 45.90625 0 \nL 45.90625 32.71875 \nQ 45.90625 40.484375 42.875 44.328125 \nQ 39.84375 48.1875 33.796875 48.1875 \nQ 26.515625 48.1875 22.3125 43.546875 \nQ 18.109375 38.921875 18.109375 30.90625 \nL 18.109375 0 \nL 9.078125 0 \nL 9.078125 75.984375 \nL 18.109375 75.984375 \nL 18.109375 46.1875 \nQ 21.34375 51.125 25.703125 53.5625 \nQ 30.078125 56 35.796875 56 \nQ 45.21875 56 50.046875 50.171875 \nQ 54.890625 44.34375 54.890625 33.015625 \nz\n\" id=\"DejaVuSans-68\"/>\n     </defs>\n     <g transform=\"translate(202.232813 268.034687)scale(0.1 -0.1)\">\n      <use xlink:href=\"#DejaVuSans-45\"/>\n      <use x=\"63.183594\" xlink:href=\"#DejaVuSans-70\"/>\n      <use x=\"126.660156\" xlink:href=\"#DejaVuSans-6f\"/>\n      <use x=\"187.841797\" xlink:href=\"#DejaVuSans-63\"/>\n      <use x=\"242.822266\" xlink:href=\"#DejaVuSans-68\"/>\n     </g>\n    </g>\n   </g>\n   <g id=\"matplotlib.axis_2\">\n    <g id=\"ytick_1\">\n     <g id=\"line2d_7\">\n      <defs>\n       <path d=\"M 0 0 \nL -3.5 0 \n\" id=\"m3d37b83094\" style=\"stroke:#000000;stroke-width:0.8;\"/>\n      </defs>\n      <g>\n       <use style=\"stroke:#000000;stroke-width:0.8;\" x=\"50.14375\" xlink:href=\"#m3d37b83094\" y=\"207.268355\"/>\n      </g>\n     </g>\n     <g id=\"text_8\">\n      <!-- 0.02 -->\n      <defs>\n       <path d=\"M 10.6875 12.40625 \nL 21 12.40625 \nL 21 0 \nL 10.6875 0 \nz\n\" id=\"DejaVuSans-2e\"/>\n      </defs>\n      <g transform=\"translate(20.878125 211.067574)scale(0.1 -0.1)\">\n       <use xlink:href=\"#DejaVuSans-30\"/>\n       <use x=\"63.623047\" xlink:href=\"#DejaVuSans-2e\"/>\n       <use x=\"95.410156\" xlink:href=\"#DejaVuSans-30\"/>\n       <use x=\"159.033203\" xlink:href=\"#DejaVuSans-32\"/>\n      </g>\n     </g>\n    </g>\n    <g id=\"ytick_2\">\n     <g id=\"line2d_8\">\n      <g>\n       <use style=\"stroke:#000000;stroke-width:0.8;\" x=\"50.14375\" xlink:href=\"#m3d37b83094\" y=\"170.494916\"/>\n      </g>\n     </g>\n     <g id=\"text_9\">\n      <!-- 0.04 -->\n      <g transform=\"translate(20.878125 174.294135)scale(0.1 -0.1)\">\n       <use xlink:href=\"#DejaVuSans-30\"/>\n       <use x=\"63.623047\" xlink:href=\"#DejaVuSans-2e\"/>\n       <use x=\"95.410156\" xlink:href=\"#DejaVuSans-30\"/>\n       <use x=\"159.033203\" xlink:href=\"#DejaVuSans-34\"/>\n      </g>\n     </g>\n    </g>\n    <g id=\"ytick_3\">\n     <g id=\"line2d_9\">\n      <g>\n       <use style=\"stroke:#000000;stroke-width:0.8;\" x=\"50.14375\" xlink:href=\"#m3d37b83094\" y=\"133.721477\"/>\n      </g>\n     </g>\n     <g id=\"text_10\">\n      <!-- 0.06 -->\n      <g transform=\"translate(20.878125 137.520696)scale(0.1 -0.1)\">\n       <use xlink:href=\"#DejaVuSans-30\"/>\n       <use x=\"63.623047\" xlink:href=\"#DejaVuSans-2e\"/>\n       <use x=\"95.410156\" xlink:href=\"#DejaVuSans-30\"/>\n       <use x=\"159.033203\" xlink:href=\"#DejaVuSans-36\"/>\n      </g>\n     </g>\n    </g>\n    <g id=\"ytick_4\">\n     <g id=\"line2d_10\">\n      <g>\n       <use style=\"stroke:#000000;stroke-width:0.8;\" x=\"50.14375\" xlink:href=\"#m3d37b83094\" y=\"96.948038\"/>\n      </g>\n     </g>\n     <g id=\"text_11\">\n      <!-- 0.08 -->\n      <g transform=\"translate(20.878125 100.747257)scale(0.1 -0.1)\">\n       <use xlink:href=\"#DejaVuSans-30\"/>\n       <use x=\"63.623047\" xlink:href=\"#DejaVuSans-2e\"/>\n       <use x=\"95.410156\" xlink:href=\"#DejaVuSans-30\"/>\n       <use x=\"159.033203\" xlink:href=\"#DejaVuSans-38\"/>\n      </g>\n     </g>\n    </g>\n    <g id=\"ytick_5\">\n     <g id=\"line2d_11\">\n      <g>\n       <use style=\"stroke:#000000;stroke-width:0.8;\" x=\"50.14375\" xlink:href=\"#m3d37b83094\" y=\"60.1746\"/>\n      </g>\n     </g>\n     <g id=\"text_12\">\n      <!-- 0.10 -->\n      <g transform=\"translate(20.878125 63.973818)scale(0.1 -0.1)\">\n       <use xlink:href=\"#DejaVuSans-30\"/>\n       <use x=\"63.623047\" xlink:href=\"#DejaVuSans-2e\"/>\n       <use x=\"95.410156\" xlink:href=\"#DejaVuSans-31\"/>\n       <use x=\"159.033203\" xlink:href=\"#DejaVuSans-30\"/>\n      </g>\n     </g>\n    </g>\n    <g id=\"ytick_6\">\n     <g id=\"line2d_12\">\n      <g>\n       <use style=\"stroke:#000000;stroke-width:0.8;\" x=\"50.14375\" xlink:href=\"#m3d37b83094\" y=\"23.401161\"/>\n      </g>\n     </g>\n     <g id=\"text_13\">\n      <!-- 0.12 -->\n      <g transform=\"translate(20.878125 27.20038)scale(0.1 -0.1)\">\n       <use xlink:href=\"#DejaVuSans-30\"/>\n       <use x=\"63.623047\" xlink:href=\"#DejaVuSans-2e\"/>\n       <use x=\"95.410156\" xlink:href=\"#DejaVuSans-31\"/>\n       <use x=\"159.033203\" xlink:href=\"#DejaVuSans-32\"/>\n      </g>\n     </g>\n    </g>\n    <g id=\"text_14\">\n     <!-- Loss -->\n     <defs>\n      <path d=\"M 9.8125 72.90625 \nL 19.671875 72.90625 \nL 19.671875 8.296875 \nL 55.171875 8.296875 \nL 55.171875 0 \nL 9.8125 0 \nz\n\" id=\"DejaVuSans-4c\"/>\n      <path d=\"M 44.28125 53.078125 \nL 44.28125 44.578125 \nQ 40.484375 46.53125 36.375 47.5 \nQ 32.28125 48.484375 27.875 48.484375 \nQ 21.1875 48.484375 17.84375 46.4375 \nQ 14.5 44.390625 14.5 40.28125 \nQ 14.5 37.15625 16.890625 35.375 \nQ 19.28125 33.59375 26.515625 31.984375 \nL 29.59375 31.296875 \nQ 39.15625 29.25 43.1875 25.515625 \nQ 47.21875 21.78125 47.21875 15.09375 \nQ 47.21875 7.46875 41.1875 3.015625 \nQ 35.15625 -1.421875 24.609375 -1.421875 \nQ 20.21875 -1.421875 15.453125 -0.5625 \nQ 10.6875 0.296875 5.421875 2 \nL 5.421875 11.28125 \nQ 10.40625 8.6875 15.234375 7.390625 \nQ 20.0625 6.109375 24.8125 6.109375 \nQ 31.15625 6.109375 34.5625 8.28125 \nQ 37.984375 10.453125 37.984375 14.40625 \nQ 37.984375 18.0625 35.515625 20.015625 \nQ 33.0625 21.96875 24.703125 23.78125 \nL 21.578125 24.515625 \nQ 13.234375 26.265625 9.515625 29.90625 \nQ 5.8125 33.546875 5.8125 39.890625 \nQ 5.8125 47.609375 11.28125 51.796875 \nQ 16.75 56 26.8125 56 \nQ 31.78125 56 36.171875 55.265625 \nQ 40.578125 54.546875 44.28125 53.078125 \nz\n\" id=\"DejaVuSans-73\"/>\n     </defs>\n     <g transform=\"translate(14.798438 142.092031)rotate(-90)scale(0.1 -0.1)\">\n      <use xlink:href=\"#DejaVuSans-4c\"/>\n      <use x=\"55.697266\" xlink:href=\"#DejaVuSans-6f\"/>\n      <use x=\"116.878906\" xlink:href=\"#DejaVuSans-73\"/>\n      <use x=\"168.978516\" xlink:href=\"#DejaVuSans-73\"/>\n     </g>\n    </g>\n   </g>\n   <g id=\"line2d_13\">\n    <path clip-path=\"url(#p016bebe675)\" d=\"M 65.361932 32.201761 \nL 68.436312 147.759975 \nL 71.510692 167.383479 \nL 74.585072 177.41859 \nL 77.659452 183.90497 \nL 80.733833 188.60929 \nL 83.808213 192.260069 \nL 86.882593 195.202682 \nL 89.956973 197.63969 \nL 93.031353 199.712823 \nL 96.105733 201.511648 \nL 99.180114 203.09395 \nL 102.254494 204.498352 \nL 105.328874 205.76008 \nL 108.403254 206.903677 \nL 111.477634 207.946509 \nL 114.552014 208.900369 \nL 117.626395 209.783784 \nL 120.700775 210.603697 \nL 123.775155 211.367525 \nL 126.849535 212.083821 \nL 129.923915 212.756347 \nL 132.998295 213.388177 \nL 136.072676 213.984708 \nL 139.147056 214.549086 \nL 142.221436 215.084381 \nL 145.295816 215.59289 \nL 148.370196 216.077041 \nL 151.444576 216.537622 \nL 154.518957 216.978535 \nL 157.593337 217.400703 \nL 160.667717 217.806166 \nL 163.742097 218.19558 \nL 166.816477 218.570146 \nL 169.890857 218.930327 \nL 172.965238 219.276573 \nL 176.039618 219.609975 \nL 179.113998 219.932105 \nL 182.188378 220.242641 \nL 185.262758 220.54316 \nL 188.337138 220.833842 \nL 191.411519 221.115557 \nL 194.485899 221.388334 \nL 197.560279 221.653026 \nL 200.634659 221.909349 \nL 203.709039 222.158237 \nL 206.783419 222.399716 \nL 209.8578 222.634337 \nL 212.93218 222.86258 \nL 216.00656 223.08442 \nL 219.08094 223.300969 \nL 222.15532 223.511923 \nL 225.2297 223.717265 \nL 228.304081 223.91753 \nL 231.378461 224.113157 \nL 234.452841 224.303329 \nL 237.527221 224.489398 \nL 240.601601 224.671178 \nL 243.675981 224.848659 \nL 246.750362 225.022221 \nL 249.824742 225.191657 \nL 252.899122 225.3574 \nL 255.973502 225.519941 \nL 259.047882 225.679584 \nL 262.122262 225.835662 \nL 265.196643 225.988549 \nL 268.271023 226.138251 \nL 271.345403 226.285 \nL 274.419783 226.42892 \nL 277.494163 226.570056 \nL 280.568543 226.708834 \nL 283.642924 226.844834 \nL 286.717304 226.97809 \nL 289.791684 227.109036 \nL 292.866064 227.237744 \nL 295.940444 227.364173 \nL 299.014824 227.488524 \nL 302.089205 227.610678 \nL 305.163585 227.730876 \nL 308.237965 227.849073 \nL 311.312345 227.965552 \nL 314.386725 228.080087 \nL 317.461105 228.192763 \nL 320.535486 228.303406 \nL 323.609866 228.412922 \nL 326.684246 228.520503 \nL 329.758626 228.626485 \nL 332.833006 228.730793 \nL 335.907386 228.833749 \nL 338.981767 228.935114 \nL 342.056147 229.035118 \nL 345.130527 229.133744 \nL 348.204907 229.231013 \nL 351.279287 229.326719 \nL 354.353667 229.421125 \nL 357.428048 229.514319 \nL 360.502428 229.606274 \nL 363.576808 229.697155 \nL 366.651188 229.786347 \nL 369.725568 229.874489 \n\" style=\"fill:none;stroke:#ff0000;stroke-linecap:square;stroke-width:1.5;\"/>\n   </g>\n   <g id=\"patch_3\">\n    <path d=\"M 50.14375 239.758125 \nL 50.14375 22.318125 \n\" style=\"fill:none;stroke:#000000;stroke-linecap:square;stroke-linejoin:miter;stroke-width:0.8;\"/>\n   </g>\n   <g id=\"patch_4\">\n    <path d=\"M 384.94375 239.758125 \nL 384.94375 22.318125 \n\" style=\"fill:none;stroke:#000000;stroke-linecap:square;stroke-linejoin:miter;stroke-width:0.8;\"/>\n   </g>\n   <g id=\"patch_5\">\n    <path d=\"M 50.14375 239.758125 \nL 384.94375 239.758125 \n\" style=\"fill:none;stroke:#000000;stroke-linecap:square;stroke-linejoin:miter;stroke-width:0.8;\"/>\n   </g>\n   <g id=\"patch_6\">\n    <path d=\"M 50.14375 22.318125 \nL 384.94375 22.318125 \n\" style=\"fill:none;stroke:#000000;stroke-linecap:square;stroke-linejoin:miter;stroke-width:0.8;\"/>\n   </g>\n   <g id=\"text_15\">\n    <!-- Loss of model -->\n    <defs>\n     <path id=\"DejaVuSans-20\"/>\n     <path d=\"M 37.109375 75.984375 \nL 37.109375 68.5 \nL 28.515625 68.5 \nQ 23.6875 68.5 21.796875 66.546875 \nQ 19.921875 64.59375 19.921875 59.515625 \nL 19.921875 54.6875 \nL 34.71875 54.6875 \nL 34.71875 47.703125 \nL 19.921875 47.703125 \nL 19.921875 0 \nL 10.890625 0 \nL 10.890625 47.703125 \nL 2.296875 47.703125 \nL 2.296875 54.6875 \nL 10.890625 54.6875 \nL 10.890625 58.5 \nQ 10.890625 67.625 15.140625 71.796875 \nQ 19.390625 75.984375 28.609375 75.984375 \nz\n\" id=\"DejaVuSans-66\"/>\n     <path d=\"M 52 44.1875 \nQ 55.375 50.25 60.0625 53.125 \nQ 64.75 56 71.09375 56 \nQ 79.640625 56 84.28125 50.015625 \nQ 88.921875 44.046875 88.921875 33.015625 \nL 88.921875 0 \nL 79.890625 0 \nL 79.890625 32.71875 \nQ 79.890625 40.578125 77.09375 44.375 \nQ 74.3125 48.1875 68.609375 48.1875 \nQ 61.625 48.1875 57.5625 43.546875 \nQ 53.515625 38.921875 53.515625 30.90625 \nL 53.515625 0 \nL 44.484375 0 \nL 44.484375 32.71875 \nQ 44.484375 40.625 41.703125 44.40625 \nQ 38.921875 48.1875 33.109375 48.1875 \nQ 26.21875 48.1875 22.15625 43.53125 \nQ 18.109375 38.875 18.109375 30.90625 \nL 18.109375 0 \nL 9.078125 0 \nL 9.078125 54.6875 \nL 18.109375 54.6875 \nL 18.109375 46.1875 \nQ 21.1875 51.21875 25.484375 53.609375 \nQ 29.78125 56 35.6875 56 \nQ 41.65625 56 45.828125 52.96875 \nQ 50 49.953125 52 44.1875 \nz\n\" id=\"DejaVuSans-6d\"/>\n     <path d=\"M 45.40625 46.390625 \nL 45.40625 75.984375 \nL 54.390625 75.984375 \nL 54.390625 0 \nL 45.40625 0 \nL 45.40625 8.203125 \nQ 42.578125 3.328125 38.25 0.953125 \nQ 33.9375 -1.421875 27.875 -1.421875 \nQ 17.96875 -1.421875 11.734375 6.484375 \nQ 5.515625 14.40625 5.515625 27.296875 \nQ 5.515625 40.1875 11.734375 48.09375 \nQ 17.96875 56 27.875 56 \nQ 33.9375 56 38.25 53.625 \nQ 42.578125 51.265625 45.40625 46.390625 \nz\nM 14.796875 27.296875 \nQ 14.796875 17.390625 18.875 11.75 \nQ 22.953125 6.109375 30.078125 6.109375 \nQ 37.203125 6.109375 41.296875 11.75 \nQ 45.40625 17.390625 45.40625 27.296875 \nQ 45.40625 37.203125 41.296875 42.84375 \nQ 37.203125 48.484375 30.078125 48.484375 \nQ 22.953125 48.484375 18.875 42.84375 \nQ 14.796875 37.203125 14.796875 27.296875 \nz\n\" id=\"DejaVuSans-64\"/>\n     <path d=\"M 56.203125 29.59375 \nL 56.203125 25.203125 \nL 14.890625 25.203125 \nQ 15.484375 15.921875 20.484375 11.0625 \nQ 25.484375 6.203125 34.421875 6.203125 \nQ 39.59375 6.203125 44.453125 7.46875 \nQ 49.3125 8.734375 54.109375 11.28125 \nL 54.109375 2.78125 \nQ 49.265625 0.734375 44.1875 -0.34375 \nQ 39.109375 -1.421875 33.890625 -1.421875 \nQ 20.796875 -1.421875 13.15625 6.1875 \nQ 5.515625 13.8125 5.515625 26.8125 \nQ 5.515625 40.234375 12.765625 48.109375 \nQ 20.015625 56 32.328125 56 \nQ 43.359375 56 49.78125 48.890625 \nQ 56.203125 41.796875 56.203125 29.59375 \nz\nM 47.21875 32.234375 \nQ 47.125 39.59375 43.09375 43.984375 \nQ 39.0625 48.390625 32.421875 48.390625 \nQ 24.90625 48.390625 20.390625 44.140625 \nQ 15.875 39.890625 15.1875 32.171875 \nz\n\" id=\"DejaVuSans-65\"/>\n     <path d=\"M 9.421875 75.984375 \nL 18.40625 75.984375 \nL 18.40625 0 \nL 9.421875 0 \nz\n\" id=\"DejaVuSans-6c\"/>\n    </defs>\n    <g transform=\"translate(175.998438 16.318125)scale(0.12 -0.12)\">\n     <use xlink:href=\"#DejaVuSans-4c\"/>\n     <use x=\"55.697266\" xlink:href=\"#DejaVuSans-6f\"/>\n     <use x=\"116.878906\" xlink:href=\"#DejaVuSans-73\"/>\n     <use x=\"168.978516\" xlink:href=\"#DejaVuSans-73\"/>\n     <use x=\"221.078125\" xlink:href=\"#DejaVuSans-20\"/>\n     <use x=\"252.865234\" xlink:href=\"#DejaVuSans-6f\"/>\n     <use x=\"314.046875\" xlink:href=\"#DejaVuSans-66\"/>\n     <use x=\"349.251953\" xlink:href=\"#DejaVuSans-20\"/>\n     <use x=\"381.039062\" xlink:href=\"#DejaVuSans-6d\"/>\n     <use x=\"478.451172\" xlink:href=\"#DejaVuSans-6f\"/>\n     <use x=\"539.632812\" xlink:href=\"#DejaVuSans-64\"/>\n     <use x=\"603.109375\" xlink:href=\"#DejaVuSans-65\"/>\n     <use x=\"664.632812\" xlink:href=\"#DejaVuSans-6c\"/>\n    </g>\n   </g>\n   <g id=\"legend_1\">\n    <g id=\"patch_7\">\n     <path d=\"M 323.835938 44.99625 \nL 377.94375 44.99625 \nQ 379.94375 44.99625 379.94375 42.99625 \nL 379.94375 29.318125 \nQ 379.94375 27.318125 377.94375 27.318125 \nL 323.835938 27.318125 \nQ 321.835938 27.318125 321.835938 29.318125 \nL 321.835938 42.99625 \nQ 321.835938 44.99625 323.835938 44.99625 \nz\n\" style=\"fill:#ffffff;opacity:0.8;stroke:#cccccc;stroke-linejoin:miter;\"/>\n    </g>\n    <g id=\"line2d_14\">\n     <path d=\"M 325.835938 35.416562 \nL 345.835938 35.416562 \n\" style=\"fill:none;stroke:#ff0000;stroke-linecap:square;stroke-width:1.5;\"/>\n    </g>\n    <g id=\"line2d_15\"/>\n    <g id=\"text_16\">\n     <!-- Loss -->\n     <g transform=\"translate(353.835938 38.916562)scale(0.1 -0.1)\">\n      <use xlink:href=\"#DejaVuSans-4c\"/>\n      <use x=\"55.697266\" xlink:href=\"#DejaVuSans-6f\"/>\n      <use x=\"116.878906\" xlink:href=\"#DejaVuSans-73\"/>\n      <use x=\"168.978516\" xlink:href=\"#DejaVuSans-73\"/>\n     </g>\n    </g>\n   </g>\n  </g>\n </g>\n <defs>\n  <clipPath id=\"p016bebe675\">\n   <rect height=\"217.44\" width=\"334.8\" x=\"50.14375\" y=\"22.318125\"/>\n  </clipPath>\n </defs>\n</svg>\n"
     },
     "metadata": {
      "needs_background": "light"
     }
    }
   ],
   "source": [
    "# make_loss_curve(loss_file, file_type)\n",
    "val.make_loss_curve(\n",
    "    loss_file = '../model/adv_train/FGSM_mnist_ResNet18_ResNet18/loss.txt',\n",
    "    file_type = 'adv_train')"
   ]
  },
  {
   "cell_type": "code",
   "execution_count": 10,
   "metadata": {},
   "outputs": [],
   "source": [
    "import tst"
   ]
  },
  {
   "cell_type": "code",
   "execution_count": 11,
   "metadata": {},
   "outputs": [
    {
     "output_type": "stream",
     "name": "stdout",
     "text": [
      "accuracy:99.360000%\n"
     ]
    }
   ],
   "source": [
    "tst.accuracy_test(\n",
    "    model = adv_model, \n",
    "    data_set = 'mnist'\n",
    "    )"
   ]
  },
  {
   "source": [
    "## FGSM"
   ],
   "cell_type": "markdown",
   "metadata": {}
  },
  {
   "cell_type": "code",
   "execution_count": 12,
   "metadata": {},
   "outputs": [
    {
     "output_type": "stream",
     "name": "stdout",
     "text": [
      "fooling_rate:0.840000%\n"
     ]
    }
   ],
   "source": [
    "# robustness_test(model, adv_sample_path, sample_num, sample_shape):\n",
    "tst.robustness_test(\n",
    "    model = adv_model,\n",
    "    adv_sample_path = '../sample/FGSM_mnist_FNN/test',\n",
    "    sample_num = 10000,\n",
    "    sample_shape = [1,28,28]\n",
    ")"
   ]
  },
  {
   "cell_type": "code",
   "execution_count": 13,
   "metadata": {},
   "outputs": [
    {
     "output_type": "stream",
     "name": "stdout",
     "text": [
      "fooling_rate:1.150000%\n"
     ]
    }
   ],
   "source": [
    "# robustness_test(model, adv_sample_path, sample_num, sample_shape):\n",
    "tst.robustness_test(\n",
    "    model = adv_model,\n",
    "    adv_sample_path = '../sample/FGSM_mnist_LeNet/test',\n",
    "    sample_num = 10000,\n",
    "    sample_shape = [1,28,28]\n",
    ")"
   ]
  },
  {
   "cell_type": "code",
   "execution_count": 14,
   "metadata": {},
   "outputs": [
    {
     "output_type": "stream",
     "name": "stdout",
     "text": [
      "fooling_rate:0.540000%\n"
     ]
    }
   ],
   "source": [
    "# robustness_test(model, adv_sample_path, sample_num, sample_shape):\n",
    "tst.robustness_test(\n",
    "    model = adv_model,\n",
    "    adv_sample_path = '../sample/FGSM_mnist_ResNet18/test',\n",
    "    sample_num = 10000,\n",
    "    sample_shape = [1,28,28]\n",
    ")"
   ]
  },
  {
   "source": [
    "## JSMA"
   ],
   "cell_type": "markdown",
   "metadata": {}
  },
  {
   "cell_type": "code",
   "execution_count": 15,
   "metadata": {},
   "outputs": [
    {
     "output_type": "stream",
     "name": "stdout",
     "text": [
      "fooling_rate:10.550000%\n"
     ]
    }
   ],
   "source": [
    "# robustness_test(model, adv_sample_path, sample_num, sample_shape):\n",
    "tst.robustness_test(\n",
    "    model = adv_model,\n",
    "    adv_sample_path = '../sample/JSMA_mnist_FNN/test',\n",
    "    sample_num = 10000,\n",
    "    sample_shape = [1,28,28]\n",
    ")"
   ]
  },
  {
   "cell_type": "code",
   "execution_count": 16,
   "metadata": {},
   "outputs": [
    {
     "output_type": "stream",
     "name": "stdout",
     "text": [
      "fooling_rate:8.990000%\n"
     ]
    }
   ],
   "source": [
    "# robustness_test(model, adv_sample_path, sample_num, sample_shape):\n",
    "tst.robustness_test(\n",
    "    model = adv_model,\n",
    "    adv_sample_path = '../sample/JSMA_mnist_LeNet/test',\n",
    "    sample_num = 10000,\n",
    "    sample_shape = [1,28,28]\n",
    ")"
   ]
  },
  {
   "cell_type": "code",
   "execution_count": 17,
   "metadata": {},
   "outputs": [
    {
     "output_type": "stream",
     "name": "stdout",
     "text": [
      "fooling_rate:3.220000%\n"
     ]
    }
   ],
   "source": [
    "# robustness_test(model, adv_sample_path, sample_num, sample_shape):\n",
    "tst.robustness_test(\n",
    "    model = adv_model,\n",
    "    adv_sample_path = '../sample/JSMA_mnist_ResNet18/test',\n",
    "    sample_num = 10000,\n",
    "    sample_shape = [1,28,28]\n",
    ")"
   ]
  },
  {
   "source": [
    "## DEEPFOOL"
   ],
   "cell_type": "markdown",
   "metadata": {}
  },
  {
   "cell_type": "code",
   "execution_count": 18,
   "metadata": {},
   "outputs": [
    {
     "output_type": "stream",
     "name": "stdout",
     "text": [
      "fooling_rate:20.690000%\n"
     ]
    }
   ],
   "source": [
    "# robustness_test(model, adv_sample_path, sample_num, sample_shape):\n",
    "tst.robustness_test(\n",
    "    model = adv_model,\n",
    "    adv_sample_path = '../sample/DEEPFOOL_mnist_FNN/test',\n",
    "    sample_num = 10000,\n",
    "    sample_shape = [1,28,28]\n",
    ")"
   ]
  },
  {
   "cell_type": "code",
   "execution_count": 19,
   "metadata": {},
   "outputs": [
    {
     "output_type": "stream",
     "name": "stdout",
     "text": [
      "fooling_rate:11.350000%\n"
     ]
    }
   ],
   "source": [
    "# robustness_test(model, adv_sample_path, sample_num, sample_shape):\n",
    "tst.robustness_test(\n",
    "    model = adv_model,\n",
    "    adv_sample_path = '../sample/DEEPFOOL_mnist_LeNet/test',\n",
    "    sample_num = 10000,\n",
    "    sample_shape = [1,28,28]\n",
    ")"
   ]
  },
  {
   "cell_type": "code",
   "execution_count": 20,
   "metadata": {},
   "outputs": [
    {
     "output_type": "stream",
     "name": "stdout",
     "text": [
      "fooling_rate:0.700000%\n"
     ]
    }
   ],
   "source": [
    "# robustness_test(model, adv_sample_path, sample_num, sample_shape):\n",
    "tst.robustness_test(\n",
    "    model = adv_model,\n",
    "    adv_sample_path = '../sample/DEEPFOOL_mnist_ResNet18/test',\n",
    "    sample_num = 10000,\n",
    "    sample_shape = [1,28,28]\n",
    ")"
   ]
  },
  {
   "source": [
    "## PGD"
   ],
   "cell_type": "markdown",
   "metadata": {}
  },
  {
   "cell_type": "code",
   "execution_count": 21,
   "metadata": {},
   "outputs": [
    {
     "output_type": "stream",
     "name": "stdout",
     "text": [
      "fooling_rate:2.000000%\n"
     ]
    }
   ],
   "source": [
    "# robustness_test(model, adv_sample_path, sample_num, sample_shape):\n",
    "tst.robustness_test(\n",
    "    model = adv_model,\n",
    "    adv_sample_path = '../sample/PGD_mnist_FNN/test',\n",
    "    sample_num = 10000,\n",
    "    sample_shape = [1,28,28]\n",
    ")"
   ]
  },
  {
   "cell_type": "code",
   "execution_count": 22,
   "metadata": {},
   "outputs": [
    {
     "output_type": "stream",
     "name": "stdout",
     "text": [
      "fooling_rate:2.940000%\n"
     ]
    }
   ],
   "source": [
    "# robustness_test(model, adv_sample_path, sample_num, sample_shape):\n",
    "tst.robustness_test(\n",
    "    model = adv_model,\n",
    "    adv_sample_path = '../sample/PGD_mnist_LeNet/test',\n",
    "    sample_num = 10000,\n",
    "    sample_shape = [1,28,28]\n",
    ")"
   ]
  },
  {
   "cell_type": "code",
   "execution_count": 23,
   "metadata": {},
   "outputs": [
    {
     "output_type": "stream",
     "name": "stdout",
     "text": [
      "fooling_rate:0.840000%\n"
     ]
    }
   ],
   "source": [
    "# robustness_test(model, adv_sample_path, sample_num, sample_shape):\n",
    "tst.robustness_test(\n",
    "    model = adv_model,\n",
    "    adv_sample_path = '../sample/PGD_mnist_ResNet18/test',\n",
    "    sample_num = 10000,\n",
    "    sample_shape = [1,28,28]\n",
    ")"
   ]
  },
  {
   "source": [
    "## THREAT"
   ],
   "cell_type": "markdown",
   "metadata": {}
  },
  {
   "cell_type": "code",
   "execution_count": 24,
   "metadata": {},
   "outputs": [
    {
     "output_type": "stream",
     "name": "stdout",
     "text": [
      "fooling_rate:37.300000%\n"
     ]
    }
   ],
   "source": [
    "# robustness_test(model, adv_sample_path, sample_num, sample_shape):\n",
    "tst.robustness_test(\n",
    "    model = adv_model,\n",
    "    adv_sample_path = '../sample/THREAT_mnist/test',\n",
    "    sample_num = 10000,\n",
    "    sample_shape = [1,28,28]\n",
    ")"
   ]
  }
 ]
}