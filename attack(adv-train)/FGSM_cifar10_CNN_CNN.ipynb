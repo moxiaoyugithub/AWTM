{
 "metadata": {
  "language_info": {
   "codemirror_mode": {
    "name": "ipython",
    "version": 3
   },
   "file_extension": ".py",
   "mimetype": "text/x-python",
   "name": "python",
   "nbconvert_exporter": "python",
   "pygments_lexer": "ipython3",
   "version": "2.7.18-final"
  },
  "orig_nbformat": 2,
  "kernelspec": {
   "name": "Python 2.7.18 64-bit ('exp27': conda)",
   "display_name": "Python 2.7.18 64-bit ('exp27': conda)",
   "metadata": {
    "interpreter": {
     "hash": "94b498c9aad39d14fe2eef1427b4eed5fb73bba001ef4744562740919eaae58d"
    }
   }
  }
 },
 "nbformat": 4,
 "nbformat_minor": 2,
 "cells": [
  {
   "cell_type": "code",
   "execution_count": 1,
   "metadata": {},
   "outputs": [],
   "source": [
    "import sys\n",
    "sys.path.append(\"../../code\")"
   ]
  },
  {
   "cell_type": "code",
   "execution_count": 2,
   "metadata": {},
   "outputs": [],
   "source": [
    "import gen"
   ]
  },
  {
   "cell_type": "code",
   "execution_count": 3,
   "metadata": {},
   "outputs": [],
   "source": [
    "import torch\n",
    "import torch.nn as nn\n",
    "import torch.optim as optim"
   ]
  },
  {
   "cell_type": "code",
   "execution_count": 4,
   "metadata": {},
   "outputs": [],
   "source": [
    "class CNN(nn.Module):\n",
    "    def __init__(self):\n",
    "        super(CNN, self).__init__()\n",
    "        #network architecture\n",
    "        self.conv_layer = nn.Sequential(\n",
    "            # Conv Layer Block 1: conv-bn-relu-conv-bn-relu-pool\n",
    "            nn.Conv2d(in_channels=3, out_channels=32, kernel_size=7, stride=1, padding=3),  # 32\n",
    "            nn.BatchNorm2d(32),\n",
    "            nn.ReLU(inplace=True),\n",
    "            nn.Conv2d(32, 32, kernel_size=7, stride=1, padding=3),  # 32\n",
    "            nn.BatchNorm2d(32),\n",
    "            nn.ReLU(inplace=True),\n",
    "            nn.MaxPool2d(2, stride=2),  # 16\n",
    "\n",
    "            # Conv Layer Block 2: conv-bn-relu-conv-bn-relu-pool\n",
    "            nn.Conv2d(32, 64, kernel_size=5, stride=1, padding=2),  # 16\n",
    "            nn.BatchNorm2d(64),\n",
    "            nn.ReLU(inplace=True),\n",
    "            nn.Conv2d(64, 64, kernel_size=5, stride=1, padding=2),  # 16\n",
    "            nn.BatchNorm2d(64),\n",
    "            nn.ReLU(inplace=True),\n",
    "            nn.MaxPool2d(2, stride=2),  # 8\n",
    "            #     nn.Dropout2d(p=0.05),\n",
    "\n",
    "            # Conv Layer Block 3: conv-bn-relu-conv-bn-relu-pool\n",
    "            nn.Conv2d(64, 128, kernel_size=3, stride=1, padding=1), # 8\n",
    "            nn.BatchNorm2d(128),\n",
    "            nn.ReLU(inplace=True),\n",
    "            nn.Conv2d(128, 128, kernel_size=3, stride=1, padding=1),  # 8\n",
    "            nn.BatchNorm2d(128),\n",
    "            nn.ReLU(inplace=True),\n",
    "            nn.MaxPool2d(2, stride=2)   # 4\n",
    "        )\n",
    "\n",
    "        self.fc_layer = nn.Sequential(\n",
    "            nn.Linear(4 * 4 * 128, 512),\n",
    "            nn.BatchNorm1d(512),\n",
    "            nn.ReLU(inplace=True),\n",
    "            #     nn.Dropout(p=0.1),\n",
    "            nn.Linear(512, 10)\n",
    "        )\n",
    "    def forward(self, x):\n",
    "        x = self.conv_layer(x)\n",
    "        \n",
    "        # flatten\n",
    "        x = x.view(x.size(0), -1)\n",
    "        \n",
    "        # fc layer\n",
    "        x = self.fc_layer(x)\n",
    "\n",
    "        return x"
   ]
  },
  {
   "cell_type": "code",
   "execution_count": 5,
   "metadata": {},
   "outputs": [],
   "source": [
    "train_model = CNN()"
   ]
  },
  {
   "cell_type": "code",
   "execution_count": 6,
   "metadata": {},
   "outputs": [],
   "source": [
    "#adv_train(data_set, adv_sample_path, sample_num, sample_shape, train_model, model_lossfun, model_optimizer, config, METHOD_dataset_NET_TNET)\n",
    "data_set = 'cifar10'\n",
    "adv_sample_path = '../sample/FGSM_cifar10_CNN/train'\n",
    "sample_num = 50000\n",
    "sample_shape = [3,32,32]\n",
    "model_lossfun = nn.CrossEntropyLoss()\n",
    "model_optimizer = optim.SGD(train_model.parameters(), lr=0.001, momentum=0.9, weight_decay=1e-4)\n",
    "config = 'FGSM_cifar10_CNN_CNN.json'\n",
    "METHOD_dataset_NET_TNET = 'FGSM_cifar10_CNN_CNN'"
   ]
  },
  {
   "cell_type": "code",
   "execution_count": 7,
   "metadata": {},
   "outputs": [
    {
     "output_type": "stream",
     "name": "stdout",
     "text": [
      "epoch:0/100\n",
      "loss:14.02005100,cost:28.9171s\n",
      "epoch:1/100\n",
      "loss:9.07260609,cost:29.5432s\n",
      "epoch:2/100\n",
      "loss:6.46966410,cost:29.6346s\n",
      "epoch:3/100\n",
      "loss:4.47224712,cost:28.6378s\n",
      "epoch:4/100\n",
      "loss:2.87735510,cost:28.1968s\n",
      "epoch:5/100\n",
      "loss:1.81803858,cost:28.0238s\n",
      "epoch:6/100\n",
      "loss:1.13479209,cost:28.9159s\n",
      "epoch:7/100\n",
      "loss:0.66860199,cost:30.5887s\n",
      "epoch:8/100\n",
      "loss:0.32730919,cost:28.4284s\n",
      "epoch:9/100\n",
      "loss:0.14186290,cost:29.0809s\n",
      "epoch:10/100\n",
      "loss:0.06215860,cost:28.2163s\n",
      "epoch:11/100\n",
      "loss:0.03730533,cost:28.6021s\n",
      "epoch:12/100\n",
      "loss:0.02924941,cost:30.5319s\n",
      "epoch:13/100\n",
      "loss:0.02483355,cost:28.6841s\n",
      "epoch:14/100\n",
      "loss:0.02175158,cost:28.7853s\n",
      "epoch:15/100\n",
      "loss:0.01944074,cost:29.1418s\n",
      "epoch:16/100\n",
      "loss:0.01762674,cost:28.4660s\n",
      "epoch:17/100\n",
      "loss:0.01615378,cost:28.0524s\n",
      "epoch:18/100\n",
      "loss:0.01493059,cost:28.5505s\n",
      "epoch:19/100\n",
      "loss:0.01389838,cost:29.2216s\n",
      "epoch:20/100\n",
      "loss:0.01301043,cost:29.0089s\n",
      "epoch:21/100\n",
      "loss:0.01224277,cost:28.7308s\n",
      "epoch:22/100\n",
      "loss:0.01157105,cost:29.6260s\n",
      "epoch:23/100\n",
      "loss:0.01097632,cost:28.8619s\n",
      "epoch:24/100\n",
      "loss:0.01044503,cost:28.8904s\n",
      "epoch:25/100\n",
      "loss:0.00996982,cost:28.4910s\n",
      "epoch:26/100\n",
      "loss:0.00954002,cost:29.2332s\n",
      "epoch:27/100\n",
      "loss:0.00915119,cost:29.2205s\n",
      "epoch:28/100\n",
      "loss:0.00879687,cost:29.0069s\n",
      "epoch:29/100\n",
      "loss:0.00847184,cost:29.0107s\n",
      "epoch:30/100\n",
      "loss:0.00817437,cost:29.4517s\n",
      "epoch:31/100\n",
      "loss:0.00790041,cost:29.7664s\n",
      "epoch:32/100\n",
      "loss:0.00764686,cost:30.4733s\n",
      "epoch:33/100\n",
      "loss:0.00741188,cost:30.5012s\n",
      "epoch:34/100\n",
      "loss:0.00719313,cost:30.9602s\n",
      "epoch:35/100\n",
      "loss:0.00698908,cost:30.0827s\n",
      "epoch:36/100\n",
      "loss:0.00679910,cost:30.2847s\n",
      "epoch:37/100\n",
      "loss:0.00662123,cost:30.5867s\n",
      "epoch:38/100\n",
      "loss:0.00645429,cost:30.3134s\n",
      "epoch:39/100\n",
      "loss:0.00629717,cost:29.8632s\n",
      "epoch:40/100\n",
      "loss:0.00614915,cost:31.6893s\n",
      "epoch:41/100\n",
      "loss:0.00600988,cost:30.6698s\n",
      "epoch:42/100\n",
      "loss:0.00587793,cost:30.2141s\n",
      "epoch:43/100\n",
      "loss:0.00575298,cost:29.4098s\n",
      "epoch:44/100\n",
      "loss:0.00563485,cost:30.2824s\n",
      "epoch:45/100\n",
      "loss:0.00552307,cost:29.1955s\n",
      "epoch:46/100\n",
      "loss:0.00541677,cost:30.4069s\n",
      "epoch:47/100\n",
      "loss:0.00531581,cost:29.9307s\n",
      "epoch:48/100\n",
      "loss:0.00521948,cost:30.5851s\n",
      "epoch:49/100\n",
      "loss:0.00512775,cost:29.5192s\n",
      "epoch:50/100\n",
      "loss:0.00504063,cost:29.6391s\n",
      "epoch:51/100\n",
      "loss:0.00495730,cost:30.5495s\n",
      "epoch:52/100\n",
      "loss:0.00487731,cost:30.2092s\n",
      "epoch:53/100\n",
      "loss:0.00480118,cost:29.8954s\n",
      "epoch:54/100\n",
      "loss:0.00472804,cost:30.3793s\n",
      "epoch:55/100\n",
      "loss:0.00465807,cost:30.2858s\n",
      "epoch:56/100\n",
      "loss:0.00459124,cost:30.4528s\n",
      "epoch:57/100\n",
      "loss:0.00452654,cost:30.1174s\n",
      "epoch:58/100\n",
      "loss:0.00446486,cost:29.9177s\n",
      "epoch:59/100\n",
      "loss:0.00440553,cost:30.5233s\n",
      "epoch:60/100\n",
      "loss:0.00434838,cost:29.9745s\n",
      "epoch:61/100\n",
      "loss:0.00429347,cost:30.1584s\n",
      "epoch:62/100\n",
      "loss:0.00424038,cost:30.1677s\n",
      "epoch:63/100\n",
      "loss:0.00418936,cost:30.6439s\n",
      "epoch:64/100\n",
      "loss:0.00414020,cost:30.8501s\n",
      "epoch:65/100\n",
      "loss:0.00409284,cost:30.3512s\n",
      "epoch:66/100\n",
      "loss:0.00404698,cost:30.6805s\n",
      "epoch:67/100\n",
      "loss:0.00400272,cost:30.8944s\n",
      "epoch:68/100\n",
      "loss:0.00396001,cost:31.0161s\n",
      "epoch:69/100\n",
      "loss:0.00391901,cost:30.8068s\n",
      "epoch:70/100\n",
      "loss:0.00387905,cost:30.9095s\n",
      "epoch:71/100\n",
      "loss:0.00384036,cost:30.3098s\n",
      "epoch:72/100\n",
      "loss:0.00380301,cost:30.3515s\n",
      "epoch:73/100\n",
      "loss:0.00376688,cost:30.7150s\n",
      "epoch:74/100\n",
      "loss:0.00373179,cost:29.9259s\n",
      "epoch:75/100\n",
      "loss:0.00369776,cost:30.8272s\n",
      "epoch:76/100\n",
      "loss:0.00366489,cost:30.6955s\n",
      "epoch:77/100\n",
      "loss:0.00363312,cost:29.7957s\n",
      "epoch:78/100\n",
      "loss:0.00360210,cost:29.9946s\n",
      "epoch:79/100\n",
      "loss:0.00357188,cost:30.5504s\n",
      "epoch:80/100\n",
      "loss:0.00354282,cost:30.1559s\n",
      "epoch:81/100\n",
      "loss:0.00351424,cost:30.4741s\n",
      "epoch:82/100\n",
      "loss:0.00348663,cost:30.1437s\n",
      "epoch:83/100\n",
      "loss:0.00345997,cost:30.3376s\n",
      "epoch:84/100\n",
      "loss:0.00343365,cost:30.6252s\n",
      "epoch:85/100\n",
      "loss:0.00340836,cost:30.9328s\n",
      "epoch:86/100\n",
      "loss:0.00338383,cost:30.7354s\n",
      "epoch:87/100\n",
      "loss:0.00335997,cost:30.4855s\n",
      "epoch:88/100\n",
      "loss:0.00333679,cost:28.2531s\n",
      "epoch:89/100\n",
      "loss:0.00331395,cost:28.1221s\n",
      "epoch:90/100\n",
      "loss:0.00329186,cost:27.6658s\n",
      "epoch:91/100\n",
      "loss:0.00327041,cost:27.7522s\n",
      "epoch:92/100\n",
      "loss:0.00324964,cost:27.8604s\n",
      "epoch:93/100\n",
      "loss:0.00322924,cost:27.8319s\n",
      "epoch:94/100\n",
      "loss:0.00320917,cost:27.5658s\n",
      "epoch:95/100\n",
      "loss:0.00318992,cost:27.8000s\n",
      "epoch:96/100\n",
      "loss:0.00317106,cost:27.6329s\n",
      "epoch:97/100\n",
      "loss:0.00315261,cost:27.7243s\n",
      "epoch:98/100\n",
      "loss:0.00313435,cost:28.2971s\n",
      "epoch:99/100\n",
      "loss:0.00311703,cost:29.7430s\n",
      "saving model...\n",
      "-complete-\n",
      "saving loss...\n",
      "-complete-\n"
     ]
    }
   ],
   "source": [
    "gen.adv_train(\n",
    "    data_set, \n",
    "    adv_sample_path, \n",
    "    sample_num, \n",
    "    sample_shape, \n",
    "    train_model, \n",
    "    model_lossfun, \n",
    "    model_optimizer, \n",
    "    config, \n",
    "    METHOD_dataset_NET_TNET)"
   ]
  },
  {
   "cell_type": "code",
   "execution_count": 7,
   "metadata": {},
   "outputs": [],
   "source": [
    "import val"
   ]
  },
  {
   "cell_type": "code",
   "execution_count": 8,
   "metadata": {},
   "outputs": [],
   "source": [
    "adv_model = torch.load('../model/adv_train/FGSM_cifar10_CNN_CNN/model.pkl')"
   ]
  },
  {
   "cell_type": "code",
   "execution_count": 9,
   "metadata": {},
   "outputs": [
    {
     "output_type": "display_data",
     "data": {
      "image/png": "[encoded data removed]",
      "text/plain": "<Figure size 432x288 with 1 Axes>",
      "image/svg+xml": "<?xml version=\"1.0\" encoding=\"utf-8\" standalone=\"no\"?>\n<!DOCTYPE svg PUBLIC \"-//W3C//DTD SVG 1.1//EN\"\n  \"http://www.w3.org/Graphics/SVG/1.1/DTD/svg11.dtd\">\n<!-- Created with matplotlib (http://matplotlib.org/) -->\n<svg height=\"277.314375pt\" version=\"1.1\" viewBox=\"0 0 386.103125 277.314375\" width=\"386.103125pt\" xmlns=\"http://www.w3.org/2000/svg\" xmlns:xlink=\"http://www.w3.org/1999/xlink\">\n <defs>\n  <style type=\"text/css\">\n*{stroke-linecap:butt;stroke-linejoin:round;}\n  </style>\n </defs>\n <g id=\"figure_1\">\n  <g id=\"patch_1\">\n   <path d=\"M 0 277.314375 \nL 386.103125 277.314375 \nL 386.103125 0 \nL 0 0 \nz\n\" style=\"fill:none;\"/>\n  </g>\n  <g id=\"axes_1\">\n   <g id=\"patch_2\">\n    <path d=\"M 40.603125 239.758125 \nL 375.403125 239.758125 \nL 375.403125 22.318125 \nL 40.603125 22.318125 \nz\n\" style=\"fill:#ffffff;\"/>\n   </g>\n   <g id=\"matplotlib.axis_1\">\n    <g id=\"xtick_1\">\n     <g id=\"line2d_1\">\n      <defs>\n       <path d=\"M 0 0 \nL 0 3.5 \n\" id=\"m0727e20690\" style=\"stroke:#000000;stroke-width:0.8;\"/>\n      </defs>\n      <g>\n       <use style=\"stroke:#000000;stroke-width:0.8;\" x=\"55.821307\" xlink:href=\"#m0727e20690\" y=\"239.758125\"/>\n      </g>\n     </g>\n     <g id=\"text_1\">\n      <!-- 0 -->\n      <defs>\n       <path d=\"M 31.78125 66.40625 \nQ 24.171875 66.40625 20.328125 58.90625 \nQ 16.5 51.421875 16.5 36.375 \nQ 16.5 21.390625 20.328125 13.890625 \nQ 24.171875 6.390625 31.78125 6.390625 \nQ 39.453125 6.390625 43.28125 13.890625 \nQ 47.125 21.390625 47.125 36.375 \nQ 47.125 51.421875 43.28125 58.90625 \nQ 39.453125 66.40625 31.78125 66.40625 \nz\nM 31.78125 74.21875 \nQ 44.046875 74.21875 50.515625 64.515625 \nQ 56.984375 54.828125 56.984375 36.375 \nQ 56.984375 17.96875 50.515625 8.265625 \nQ 44.046875 -1.421875 31.78125 -1.421875 \nQ 19.53125 -1.421875 13.0625 8.265625 \nQ 6.59375 17.96875 6.59375 36.375 \nQ 6.59375 54.828125 13.0625 64.515625 \nQ 19.53125 74.21875 31.78125 74.21875 \nz\n\" id=\"DejaVuSans-30\"/>\n      </defs>\n      <g transform=\"translate(52.640057 254.356562)scale(0.1 -0.1)\">\n       <use xlink:href=\"#DejaVuSans-30\"/>\n      </g>\n     </g>\n    </g>\n    <g id=\"xtick_2\">\n     <g id=\"line2d_2\">\n      <g>\n       <use style=\"stroke:#000000;stroke-width:0.8;\" x=\"117.30891\" xlink:href=\"#m0727e20690\" y=\"239.758125\"/>\n      </g>\n     </g>\n     <g id=\"text_2\">\n      <!-- 20 -->\n      <defs>\n       <path d=\"M 19.1875 8.296875 \nL 53.609375 8.296875 \nL 53.609375 0 \nL 7.328125 0 \nL 7.328125 8.296875 \nQ 12.9375 14.109375 22.625 23.890625 \nQ 32.328125 33.6875 34.8125 36.53125 \nQ 39.546875 41.84375 41.421875 45.53125 \nQ 43.3125 49.21875 43.3125 52.78125 \nQ 43.3125 58.59375 39.234375 62.25 \nQ 35.15625 65.921875 28.609375 65.921875 \nQ 23.96875 65.921875 18.8125 64.3125 \nQ 13.671875 62.703125 7.8125 59.421875 \nL 7.8125 69.390625 \nQ 13.765625 71.78125 18.9375 73 \nQ 24.125 74.21875 28.421875 74.21875 \nQ 39.75 74.21875 46.484375 68.546875 \nQ 53.21875 62.890625 53.21875 53.421875 \nQ 53.21875 48.921875 51.53125 44.890625 \nQ 49.859375 40.875 45.40625 35.40625 \nQ 44.1875 33.984375 37.640625 27.21875 \nQ 31.109375 20.453125 19.1875 8.296875 \nz\n\" id=\"DejaVuSans-32\"/>\n      </defs>\n      <g transform=\"translate(110.94641 254.356562)scale(0.1 -0.1)\">\n       <use xlink:href=\"#DejaVuSans-32\"/>\n       <use x=\"63.623047\" xlink:href=\"#DejaVuSans-30\"/>\n      </g>\n     </g>\n    </g>\n    <g id=\"xtick_3\">\n     <g id=\"line2d_3\">\n      <g>\n       <use style=\"stroke:#000000;stroke-width:0.8;\" x=\"178.796513\" xlink:href=\"#m0727e20690\" y=\"239.758125\"/>\n      </g>\n     </g>\n     <g id=\"text_3\">\n      <!-- 40 -->\n      <defs>\n       <path d=\"M 37.796875 64.3125 \nL 12.890625 25.390625 \nL 37.796875 25.390625 \nz\nM 35.203125 72.90625 \nL 47.609375 72.90625 \nL 47.609375 25.390625 \nL 58.015625 25.390625 \nL 58.015625 17.1875 \nL 47.609375 17.1875 \nL 47.609375 0 \nL 37.796875 0 \nL 37.796875 17.1875 \nL 4.890625 17.1875 \nL 4.890625 26.703125 \nz\n\" id=\"DejaVuSans-34\"/>\n      </defs>\n      <g transform=\"translate(172.434013 254.356562)scale(0.1 -0.1)\">\n       <use xlink:href=\"#DejaVuSans-34\"/>\n       <use x=\"63.623047\" xlink:href=\"#DejaVuSans-30\"/>\n      </g>\n     </g>\n    </g>\n    <g id=\"xtick_4\">\n     <g id=\"line2d_4\">\n      <g>\n       <use style=\"stroke:#000000;stroke-width:0.8;\" x=\"240.284117\" xlink:href=\"#m0727e20690\" y=\"239.758125\"/>\n      </g>\n     </g>\n     <g id=\"text_4\">\n      <!-- 60 -->\n      <defs>\n       <path d=\"M 33.015625 40.375 \nQ 26.375 40.375 22.484375 35.828125 \nQ 18.609375 31.296875 18.609375 23.390625 \nQ 18.609375 15.53125 22.484375 10.953125 \nQ 26.375 6.390625 33.015625 6.390625 \nQ 39.65625 6.390625 43.53125 10.953125 \nQ 47.40625 15.53125 47.40625 23.390625 \nQ 47.40625 31.296875 43.53125 35.828125 \nQ 39.65625 40.375 33.015625 40.375 \nz\nM 52.59375 71.296875 \nL 52.59375 62.3125 \nQ 48.875 64.0625 45.09375 64.984375 \nQ 41.3125 65.921875 37.59375 65.921875 \nQ 27.828125 65.921875 22.671875 59.328125 \nQ 17.53125 52.734375 16.796875 39.40625 \nQ 19.671875 43.65625 24.015625 45.921875 \nQ 28.375 48.1875 33.59375 48.1875 \nQ 44.578125 48.1875 50.953125 41.515625 \nQ 57.328125 34.859375 57.328125 23.390625 \nQ 57.328125 12.15625 50.6875 5.359375 \nQ 44.046875 -1.421875 33.015625 -1.421875 \nQ 20.359375 -1.421875 13.671875 8.265625 \nQ 6.984375 17.96875 6.984375 36.375 \nQ 6.984375 53.65625 15.1875 63.9375 \nQ 23.390625 74.21875 37.203125 74.21875 \nQ 40.921875 74.21875 44.703125 73.484375 \nQ 48.484375 72.75 52.59375 71.296875 \nz\n\" id=\"DejaVuSans-36\"/>\n      </defs>\n      <g transform=\"translate(233.921617 254.356562)scale(0.1 -0.1)\">\n       <use xlink:href=\"#DejaVuSans-36\"/>\n       <use x=\"63.623047\" xlink:href=\"#DejaVuSans-30\"/>\n      </g>\n     </g>\n    </g>\n    <g id=\"xtick_5\">\n     <g id=\"line2d_5\">\n      <g>\n       <use style=\"stroke:#000000;stroke-width:0.8;\" x=\"301.77172\" xlink:href=\"#m0727e20690\" y=\"239.758125\"/>\n      </g>\n     </g>\n     <g id=\"text_5\">\n      <!-- 80 -->\n      <defs>\n       <path d=\"M 31.78125 34.625 \nQ 24.75 34.625 20.71875 30.859375 \nQ 16.703125 27.09375 16.703125 20.515625 \nQ 16.703125 13.921875 20.71875 10.15625 \nQ 24.75 6.390625 31.78125 6.390625 \nQ 38.8125 6.390625 42.859375 10.171875 \nQ 46.921875 13.96875 46.921875 20.515625 \nQ 46.921875 27.09375 42.890625 30.859375 \nQ 38.875 34.625 31.78125 34.625 \nz\nM 21.921875 38.8125 \nQ 15.578125 40.375 12.03125 44.71875 \nQ 8.5 49.078125 8.5 55.328125 \nQ 8.5 64.0625 14.71875 69.140625 \nQ 20.953125 74.21875 31.78125 74.21875 \nQ 42.671875 74.21875 48.875 69.140625 \nQ 55.078125 64.0625 55.078125 55.328125 \nQ 55.078125 49.078125 51.53125 44.71875 \nQ 48 40.375 41.703125 38.8125 \nQ 48.828125 37.15625 52.796875 32.3125 \nQ 56.78125 27.484375 56.78125 20.515625 \nQ 56.78125 9.90625 50.3125 4.234375 \nQ 43.84375 -1.421875 31.78125 -1.421875 \nQ 19.734375 -1.421875 13.25 4.234375 \nQ 6.78125 9.90625 6.78125 20.515625 \nQ 6.78125 27.484375 10.78125 32.3125 \nQ 14.796875 37.15625 21.921875 38.8125 \nz\nM 18.3125 54.390625 \nQ 18.3125 48.734375 21.84375 45.5625 \nQ 25.390625 42.390625 31.78125 42.390625 \nQ 38.140625 42.390625 41.71875 45.5625 \nQ 45.3125 48.734375 45.3125 54.390625 \nQ 45.3125 60.0625 41.71875 63.234375 \nQ 38.140625 66.40625 31.78125 66.40625 \nQ 25.390625 66.40625 21.84375 63.234375 \nQ 18.3125 60.0625 18.3125 54.390625 \nz\n\" id=\"DejaVuSans-38\"/>\n      </defs>\n      <g transform=\"translate(295.40922 254.356562)scale(0.1 -0.1)\">\n       <use xlink:href=\"#DejaVuSans-38\"/>\n       <use x=\"63.623047\" xlink:href=\"#DejaVuSans-30\"/>\n      </g>\n     </g>\n    </g>\n    <g id=\"xtick_6\">\n     <g id=\"line2d_6\">\n      <g>\n       <use style=\"stroke:#000000;stroke-width:0.8;\" x=\"363.259323\" xlink:href=\"#m0727e20690\" y=\"239.758125\"/>\n      </g>\n     </g>\n     <g id=\"text_6\">\n      <!-- 100 -->\n      <defs>\n       <path d=\"M 12.40625 8.296875 \nL 28.515625 8.296875 \nL 28.515625 63.921875 \nL 10.984375 60.40625 \nL 10.984375 69.390625 \nL 28.421875 72.90625 \nL 38.28125 72.90625 \nL 38.28125 8.296875 \nL 54.390625 8.296875 \nL 54.390625 0 \nL 12.40625 0 \nz\n\" id=\"DejaVuSans-31\"/>\n      </defs>\n      <g transform=\"translate(353.715573 254.356562)scale(0.1 -0.1)\">\n       <use xlink:href=\"#DejaVuSans-31\"/>\n       <use x=\"63.623047\" xlink:href=\"#DejaVuSans-30\"/>\n       <use x=\"127.246094\" xlink:href=\"#DejaVuSans-30\"/>\n      </g>\n     </g>\n    </g>\n    <g id=\"text_7\">\n     <!-- Epoch -->\n     <defs>\n      <path d=\"M 9.8125 72.90625 \nL 55.90625 72.90625 \nL 55.90625 64.59375 \nL 19.671875 64.59375 \nL 19.671875 43.015625 \nL 54.390625 43.015625 \nL 54.390625 34.71875 \nL 19.671875 34.71875 \nL 19.671875 8.296875 \nL 56.78125 8.296875 \nL 56.78125 0 \nL 9.8125 0 \nz\n\" id=\"DejaVuSans-45\"/>\n      <path d=\"M 18.109375 8.203125 \nL 18.109375 -20.796875 \nL 9.078125 -20.796875 \nL 9.078125 54.6875 \nL 18.109375 54.6875 \nL 18.109375 46.390625 \nQ 20.953125 51.265625 25.265625 53.625 \nQ 29.59375 56 35.59375 56 \nQ 45.5625 56 51.78125 48.09375 \nQ 58.015625 40.1875 58.015625 27.296875 \nQ 58.015625 14.40625 51.78125 6.484375 \nQ 45.5625 -1.421875 35.59375 -1.421875 \nQ 29.59375 -1.421875 25.265625 0.953125 \nQ 20.953125 3.328125 18.109375 8.203125 \nz\nM 48.6875 27.296875 \nQ 48.6875 37.203125 44.609375 42.84375 \nQ 40.53125 48.484375 33.40625 48.484375 \nQ 26.265625 48.484375 22.1875 42.84375 \nQ 18.109375 37.203125 18.109375 27.296875 \nQ 18.109375 17.390625 22.1875 11.75 \nQ 26.265625 6.109375 33.40625 6.109375 \nQ 40.53125 6.109375 44.609375 11.75 \nQ 48.6875 17.390625 48.6875 27.296875 \nz\n\" id=\"DejaVuSans-70\"/>\n      <path d=\"M 30.609375 48.390625 \nQ 23.390625 48.390625 19.1875 42.75 \nQ 14.984375 37.109375 14.984375 27.296875 \nQ 14.984375 17.484375 19.15625 11.84375 \nQ 23.34375 6.203125 30.609375 6.203125 \nQ 37.796875 6.203125 41.984375 11.859375 \nQ 46.1875 17.53125 46.1875 27.296875 \nQ 46.1875 37.015625 41.984375 42.703125 \nQ 37.796875 48.390625 30.609375 48.390625 \nz\nM 30.609375 56 \nQ 42.328125 56 49.015625 48.375 \nQ 55.71875 40.765625 55.71875 27.296875 \nQ 55.71875 13.875 49.015625 6.21875 \nQ 42.328125 -1.421875 30.609375 -1.421875 \nQ 18.84375 -1.421875 12.171875 6.21875 \nQ 5.515625 13.875 5.515625 27.296875 \nQ 5.515625 40.765625 12.171875 48.375 \nQ 18.84375 56 30.609375 56 \nz\n\" id=\"DejaVuSans-6f\"/>\n      <path d=\"M 48.78125 52.59375 \nL 48.78125 44.1875 \nQ 44.96875 46.296875 41.140625 47.34375 \nQ 37.3125 48.390625 33.40625 48.390625 \nQ 24.65625 48.390625 19.8125 42.84375 \nQ 14.984375 37.3125 14.984375 27.296875 \nQ 14.984375 17.28125 19.8125 11.734375 \nQ 24.65625 6.203125 33.40625 6.203125 \nQ 37.3125 6.203125 41.140625 7.25 \nQ 44.96875 8.296875 48.78125 10.40625 \nL 48.78125 2.09375 \nQ 45.015625 0.34375 40.984375 -0.53125 \nQ 36.96875 -1.421875 32.421875 -1.421875 \nQ 20.0625 -1.421875 12.78125 6.34375 \nQ 5.515625 14.109375 5.515625 27.296875 \nQ 5.515625 40.671875 12.859375 48.328125 \nQ 20.21875 56 33.015625 56 \nQ 37.15625 56 41.109375 55.140625 \nQ 45.0625 54.296875 48.78125 52.59375 \nz\n\" id=\"DejaVuSans-63\"/>\n      <path d=\"M 54.890625 33.015625 \nL 54.890625 0 \nL 45.90625 0 \nL 45.90625 32.71875 \nQ 45.90625 40.484375 42.875 44.328125 \nQ 39.84375 48.1875 33.796875 48.1875 \nQ 26.515625 48.1875 22.3125 43.546875 \nQ 18.109375 38.921875 18.109375 30.90625 \nL 18.109375 0 \nL 9.078125 0 \nL 9.078125 75.984375 \nL 18.109375 75.984375 \nL 18.109375 46.1875 \nQ 21.34375 51.125 25.703125 53.5625 \nQ 30.078125 56 35.796875 56 \nQ 45.21875 56 50.046875 50.171875 \nQ 54.890625 44.34375 54.890625 33.015625 \nz\n\" id=\"DejaVuSans-68\"/>\n     </defs>\n     <g transform=\"translate(192.692187 268.034687)scale(0.1 -0.1)\">\n      <use xlink:href=\"#DejaVuSans-45\"/>\n      <use x=\"63.183594\" xlink:href=\"#DejaVuSans-70\"/>\n      <use x=\"126.660156\" xlink:href=\"#DejaVuSans-6f\"/>\n      <use x=\"187.841797\" xlink:href=\"#DejaVuSans-63\"/>\n      <use x=\"242.822266\" xlink:href=\"#DejaVuSans-68\"/>\n     </g>\n    </g>\n   </g>\n   <g id=\"matplotlib.axis_2\">\n    <g id=\"ytick_1\">\n     <g id=\"line2d_7\">\n      <defs>\n       <path d=\"M 0 0 \nL -3.5 0 \n\" id=\"mbdb1f20d7c\" style=\"stroke:#000000;stroke-width:0.8;\"/>\n      </defs>\n      <g>\n       <use style=\"stroke:#000000;stroke-width:0.8;\" x=\"40.603125\" xlink:href=\"#mbdb1f20d7c\" y=\"229.918446\"/>\n      </g>\n     </g>\n     <g id=\"text_8\">\n      <!-- 0 -->\n      <g transform=\"translate(27.240625 233.717665)scale(0.1 -0.1)\">\n       <use xlink:href=\"#DejaVuSans-30\"/>\n      </g>\n     </g>\n    </g>\n    <g id=\"ytick_2\">\n     <g id=\"line2d_8\">\n      <g>\n       <use style=\"stroke:#000000;stroke-width:0.8;\" x=\"40.603125\" xlink:href=\"#mbdb1f20d7c\" y=\"201.713601\"/>\n      </g>\n     </g>\n     <g id=\"text_9\">\n      <!-- 2 -->\n      <g transform=\"translate(27.240625 205.51282)scale(0.1 -0.1)\">\n       <use xlink:href=\"#DejaVuSans-32\"/>\n      </g>\n     </g>\n    </g>\n    <g id=\"ytick_3\">\n     <g id=\"line2d_9\">\n      <g>\n       <use style=\"stroke:#000000;stroke-width:0.8;\" x=\"40.603125\" xlink:href=\"#mbdb1f20d7c\" y=\"173.508756\"/>\n      </g>\n     </g>\n     <g id=\"text_10\">\n      <!-- 4 -->\n      <g transform=\"translate(27.240625 177.307974)scale(0.1 -0.1)\">\n       <use xlink:href=\"#DejaVuSans-34\"/>\n      </g>\n     </g>\n    </g>\n    <g id=\"ytick_4\">\n     <g id=\"line2d_10\">\n      <g>\n       <use style=\"stroke:#000000;stroke-width:0.8;\" x=\"40.603125\" xlink:href=\"#mbdb1f20d7c\" y=\"145.30391\"/>\n      </g>\n     </g>\n     <g id=\"text_11\">\n      <!-- 6 -->\n      <g transform=\"translate(27.240625 149.103129)scale(0.1 -0.1)\">\n       <use xlink:href=\"#DejaVuSans-36\"/>\n      </g>\n     </g>\n    </g>\n    <g id=\"ytick_5\">\n     <g id=\"line2d_11\">\n      <g>\n       <use style=\"stroke:#000000;stroke-width:0.8;\" x=\"40.603125\" xlink:href=\"#mbdb1f20d7c\" y=\"117.099065\"/>\n      </g>\n     </g>\n     <g id=\"text_12\">\n      <!-- 8 -->\n      <g transform=\"translate(27.240625 120.898284)scale(0.1 -0.1)\">\n       <use xlink:href=\"#DejaVuSans-38\"/>\n      </g>\n     </g>\n    </g>\n    <g id=\"ytick_6\">\n     <g id=\"line2d_12\">\n      <g>\n       <use style=\"stroke:#000000;stroke-width:0.8;\" x=\"40.603125\" xlink:href=\"#mbdb1f20d7c\" y=\"88.89422\"/>\n      </g>\n     </g>\n     <g id=\"text_13\">\n      <!-- 10 -->\n      <g transform=\"translate(20.878125 92.693438)scale(0.1 -0.1)\">\n       <use xlink:href=\"#DejaVuSans-31\"/>\n       <use x=\"63.623047\" xlink:href=\"#DejaVuSans-30\"/>\n      </g>\n     </g>\n    </g>\n    <g id=\"ytick_7\">\n     <g id=\"line2d_13\">\n      <g>\n       <use style=\"stroke:#000000;stroke-width:0.8;\" x=\"40.603125\" xlink:href=\"#mbdb1f20d7c\" y=\"60.689374\"/>\n      </g>\n     </g>\n     <g id=\"text_14\">\n      <!-- 12 -->\n      <g transform=\"translate(20.878125 64.488593)scale(0.1 -0.1)\">\n       <use xlink:href=\"#DejaVuSans-31\"/>\n       <use x=\"63.623047\" xlink:href=\"#DejaVuSans-32\"/>\n      </g>\n     </g>\n    </g>\n    <g id=\"ytick_8\">\n     <g id=\"line2d_14\">\n      <g>\n       <use style=\"stroke:#000000;stroke-width:0.8;\" x=\"40.603125\" xlink:href=\"#mbdb1f20d7c\" y=\"32.484529\"/>\n      </g>\n     </g>\n     <g id=\"text_15\">\n      <!-- 14 -->\n      <g transform=\"translate(20.878125 36.283748)scale(0.1 -0.1)\">\n       <use xlink:href=\"#DejaVuSans-31\"/>\n       <use x=\"63.623047\" xlink:href=\"#DejaVuSans-34\"/>\n      </g>\n     </g>\n    </g>\n    <g id=\"text_16\">\n     <!-- Loss -->\n     <defs>\n      <path d=\"M 9.8125 72.90625 \nL 19.671875 72.90625 \nL 19.671875 8.296875 \nL 55.171875 8.296875 \nL 55.171875 0 \nL 9.8125 0 \nz\n\" id=\"DejaVuSans-4c\"/>\n      <path d=\"M 44.28125 53.078125 \nL 44.28125 44.578125 \nQ 40.484375 46.53125 36.375 47.5 \nQ 32.28125 48.484375 27.875 48.484375 \nQ 21.1875 48.484375 17.84375 46.4375 \nQ 14.5 44.390625 14.5 40.28125 \nQ 14.5 37.15625 16.890625 35.375 \nQ 19.28125 33.59375 26.515625 31.984375 \nL 29.59375 31.296875 \nQ 39.15625 29.25 43.1875 25.515625 \nQ 47.21875 21.78125 47.21875 15.09375 \nQ 47.21875 7.46875 41.1875 3.015625 \nQ 35.15625 -1.421875 24.609375 -1.421875 \nQ 20.21875 -1.421875 15.453125 -0.5625 \nQ 10.6875 0.296875 5.421875 2 \nL 5.421875 11.28125 \nQ 10.40625 8.6875 15.234375 7.390625 \nQ 20.0625 6.109375 24.8125 6.109375 \nQ 31.15625 6.109375 34.5625 8.28125 \nQ 37.984375 10.453125 37.984375 14.40625 \nQ 37.984375 18.0625 35.515625 20.015625 \nQ 33.0625 21.96875 24.703125 23.78125 \nL 21.578125 24.515625 \nQ 13.234375 26.265625 9.515625 29.90625 \nQ 5.8125 33.546875 5.8125 39.890625 \nQ 5.8125 47.609375 11.28125 51.796875 \nQ 16.75 56 26.8125 56 \nQ 31.78125 56 36.171875 55.265625 \nQ 40.578125 54.546875 44.28125 53.078125 \nz\n\" id=\"DejaVuSans-73\"/>\n     </defs>\n     <g transform=\"translate(14.798438 142.092031)rotate(-90)scale(0.1 -0.1)\">\n      <use xlink:href=\"#DejaVuSans-4c\"/>\n      <use x=\"55.697266\" xlink:href=\"#DejaVuSans-6f\"/>\n      <use x=\"116.878906\" xlink:href=\"#DejaVuSans-73\"/>\n      <use x=\"168.978516\" xlink:href=\"#DejaVuSans-73\"/>\n     </g>\n    </g>\n   </g>\n   <g id=\"line2d_15\">\n    <path clip-path=\"url(#p49bf8ed87a)\" d=\"M 55.821307 32.201761 \nL 58.895687 101.972721 \nL 61.970067 138.680509 \nL 65.044447 166.848927 \nL 68.118827 189.340769 \nL 71.193208 204.279698 \nL 74.267588 213.915129 \nL 77.341968 220.489538 \nL 80.416348 225.302594 \nL 83.490728 227.917836 \nL 86.565108 229.041859 \nL 89.639489 229.392351 \nL 92.713869 229.505959 \nL 95.788249 229.568233 \nL 98.862629 229.611696 \nL 101.937009 229.644285 \nL 105.011389 229.669867 \nL 108.08577 229.690639 \nL 111.16015 229.707889 \nL 114.23453 229.722445 \nL 117.30891 229.734968 \nL 120.38329 229.745794 \nL 123.45767 229.755266 \nL 126.532051 229.763654 \nL 129.606431 229.771146 \nL 132.680811 229.777848 \nL 135.755191 229.783909 \nL 138.829571 229.789392 \nL 141.903951 229.794389 \nL 144.978332 229.798973 \nL 148.052712 229.803168 \nL 151.127092 229.807031 \nL 154.201472 229.810607 \nL 157.275852 229.813921 \nL 160.350232 229.817006 \nL 163.424613 229.819883 \nL 166.498993 229.822563 \nL 169.573373 229.825071 \nL 172.647753 229.827425 \nL 175.722133 229.829641 \nL 178.796513 229.831728 \nL 181.870894 229.833692 \nL 184.945274 229.835553 \nL 188.019654 229.837315 \nL 191.094034 229.838981 \nL 194.168414 229.840558 \nL 197.242794 229.842057 \nL 200.317175 229.84348 \nL 203.391555 229.844839 \nL 206.465935 229.846133 \nL 209.540315 229.847361 \nL 212.614695 229.848536 \nL 215.689075 229.849664 \nL 218.763456 229.850738 \nL 221.837836 229.851769 \nL 224.912216 229.852756 \nL 227.986596 229.853699 \nL 231.060976 229.854611 \nL 234.135356 229.855481 \nL 237.209737 229.856318 \nL 240.284117 229.857124 \nL 243.358497 229.857898 \nL 246.432877 229.858647 \nL 249.507257 229.859366 \nL 252.581637 229.860059 \nL 255.656018 229.860727 \nL 258.730398 229.861374 \nL 261.804778 229.861998 \nL 264.879158 229.862601 \nL 267.953538 229.863179 \nL 271.027918 229.863742 \nL 274.102299 229.864288 \nL 277.176679 229.864815 \nL 280.251059 229.865324 \nL 283.325439 229.865819 \nL 286.399819 229.866299 \nL 289.474199 229.866762 \nL 292.54858 229.867211 \nL 295.62296 229.867648 \nL 298.69734 229.868074 \nL 301.77172 229.868484 \nL 304.8461 229.868887 \nL 307.92048 229.869276 \nL 310.994861 229.869652 \nL 314.069241 229.870023 \nL 317.143621 229.87038 \nL 320.218001 229.870726 \nL 323.292381 229.871063 \nL 326.366761 229.871389 \nL 329.441142 229.871712 \nL 332.515522 229.872023 \nL 335.589902 229.872326 \nL 338.664282 229.872619 \nL 341.738662 229.872906 \nL 344.813042 229.873189 \nL 347.887423 229.873461 \nL 350.961803 229.873727 \nL 354.036183 229.873987 \nL 357.110563 229.874244 \nL 360.184943 229.874489 \n\" style=\"fill:none;stroke:#ff0000;stroke-linecap:square;stroke-width:1.5;\"/>\n   </g>\n   <g id=\"patch_3\">\n    <path d=\"M 40.603125 239.758125 \nL 40.603125 22.318125 \n\" style=\"fill:none;stroke:#000000;stroke-linecap:square;stroke-linejoin:miter;stroke-width:0.8;\"/>\n   </g>\n   <g id=\"patch_4\">\n    <path d=\"M 375.403125 239.758125 \nL 375.403125 22.318125 \n\" style=\"fill:none;stroke:#000000;stroke-linecap:square;stroke-linejoin:miter;stroke-width:0.8;\"/>\n   </g>\n   <g id=\"patch_5\">\n    <path d=\"M 40.603125 239.758125 \nL 375.403125 239.758125 \n\" style=\"fill:none;stroke:#000000;stroke-linecap:square;stroke-linejoin:miter;stroke-width:0.8;\"/>\n   </g>\n   <g id=\"patch_6\">\n    <path d=\"M 40.603125 22.318125 \nL 375.403125 22.318125 \n\" style=\"fill:none;stroke:#000000;stroke-linecap:square;stroke-linejoin:miter;stroke-width:0.8;\"/>\n   </g>\n   <g id=\"text_17\">\n    <!-- Loss of model -->\n    <defs>\n     <path id=\"DejaVuSans-20\"/>\n     <path d=\"M 37.109375 75.984375 \nL 37.109375 68.5 \nL 28.515625 68.5 \nQ 23.6875 68.5 21.796875 66.546875 \nQ 19.921875 64.59375 19.921875 59.515625 \nL 19.921875 54.6875 \nL 34.71875 54.6875 \nL 34.71875 47.703125 \nL 19.921875 47.703125 \nL 19.921875 0 \nL 10.890625 0 \nL 10.890625 47.703125 \nL 2.296875 47.703125 \nL 2.296875 54.6875 \nL 10.890625 54.6875 \nL 10.890625 58.5 \nQ 10.890625 67.625 15.140625 71.796875 \nQ 19.390625 75.984375 28.609375 75.984375 \nz\n\" id=\"DejaVuSans-66\"/>\n     <path d=\"M 52 44.1875 \nQ 55.375 50.25 60.0625 53.125 \nQ 64.75 56 71.09375 56 \nQ 79.640625 56 84.28125 50.015625 \nQ 88.921875 44.046875 88.921875 33.015625 \nL 88.921875 0 \nL 79.890625 0 \nL 79.890625 32.71875 \nQ 79.890625 40.578125 77.09375 44.375 \nQ 74.3125 48.1875 68.609375 48.1875 \nQ 61.625 48.1875 57.5625 43.546875 \nQ 53.515625 38.921875 53.515625 30.90625 \nL 53.515625 0 \nL 44.484375 0 \nL 44.484375 32.71875 \nQ 44.484375 40.625 41.703125 44.40625 \nQ 38.921875 48.1875 33.109375 48.1875 \nQ 26.21875 48.1875 22.15625 43.53125 \nQ 18.109375 38.875 18.109375 30.90625 \nL 18.109375 0 \nL 9.078125 0 \nL 9.078125 54.6875 \nL 18.109375 54.6875 \nL 18.109375 46.1875 \nQ 21.1875 51.21875 25.484375 53.609375 \nQ 29.78125 56 35.6875 56 \nQ 41.65625 56 45.828125 52.96875 \nQ 50 49.953125 52 44.1875 \nz\n\" id=\"DejaVuSans-6d\"/>\n     <path d=\"M 45.40625 46.390625 \nL 45.40625 75.984375 \nL 54.390625 75.984375 \nL 54.390625 0 \nL 45.40625 0 \nL 45.40625 8.203125 \nQ 42.578125 3.328125 38.25 0.953125 \nQ 33.9375 -1.421875 27.875 -1.421875 \nQ 17.96875 -1.421875 11.734375 6.484375 \nQ 5.515625 14.40625 5.515625 27.296875 \nQ 5.515625 40.1875 11.734375 48.09375 \nQ 17.96875 56 27.875 56 \nQ 33.9375 56 38.25 53.625 \nQ 42.578125 51.265625 45.40625 46.390625 \nz\nM 14.796875 27.296875 \nQ 14.796875 17.390625 18.875 11.75 \nQ 22.953125 6.109375 30.078125 6.109375 \nQ 37.203125 6.109375 41.296875 11.75 \nQ 45.40625 17.390625 45.40625 27.296875 \nQ 45.40625 37.203125 41.296875 42.84375 \nQ 37.203125 48.484375 30.078125 48.484375 \nQ 22.953125 48.484375 18.875 42.84375 \nQ 14.796875 37.203125 14.796875 27.296875 \nz\n\" id=\"DejaVuSans-64\"/>\n     <path d=\"M 56.203125 29.59375 \nL 56.203125 25.203125 \nL 14.890625 25.203125 \nQ 15.484375 15.921875 20.484375 11.0625 \nQ 25.484375 6.203125 34.421875 6.203125 \nQ 39.59375 6.203125 44.453125 7.46875 \nQ 49.3125 8.734375 54.109375 11.28125 \nL 54.109375 2.78125 \nQ 49.265625 0.734375 44.1875 -0.34375 \nQ 39.109375 -1.421875 33.890625 -1.421875 \nQ 20.796875 -1.421875 13.15625 6.1875 \nQ 5.515625 13.8125 5.515625 26.8125 \nQ 5.515625 40.234375 12.765625 48.109375 \nQ 20.015625 56 32.328125 56 \nQ 43.359375 56 49.78125 48.890625 \nQ 56.203125 41.796875 56.203125 29.59375 \nz\nM 47.21875 32.234375 \nQ 47.125 39.59375 43.09375 43.984375 \nQ 39.0625 48.390625 32.421875 48.390625 \nQ 24.90625 48.390625 20.390625 44.140625 \nQ 15.875 39.890625 15.1875 32.171875 \nz\n\" id=\"DejaVuSans-65\"/>\n     <path d=\"M 9.421875 75.984375 \nL 18.40625 75.984375 \nL 18.40625 0 \nL 9.421875 0 \nz\n\" id=\"DejaVuSans-6c\"/>\n    </defs>\n    <g transform=\"translate(166.457812 16.318125)scale(0.12 -0.12)\">\n     <use xlink:href=\"#DejaVuSans-4c\"/>\n     <use x=\"55.697266\" xlink:href=\"#DejaVuSans-6f\"/>\n     <use x=\"116.878906\" xlink:href=\"#DejaVuSans-73\"/>\n     <use x=\"168.978516\" xlink:href=\"#DejaVuSans-73\"/>\n     <use x=\"221.078125\" xlink:href=\"#DejaVuSans-20\"/>\n     <use x=\"252.865234\" xlink:href=\"#DejaVuSans-6f\"/>\n     <use x=\"314.046875\" xlink:href=\"#DejaVuSans-66\"/>\n     <use x=\"349.251953\" xlink:href=\"#DejaVuSans-20\"/>\n     <use x=\"381.039062\" xlink:href=\"#DejaVuSans-6d\"/>\n     <use x=\"478.451172\" xlink:href=\"#DejaVuSans-6f\"/>\n     <use x=\"539.632812\" xlink:href=\"#DejaVuSans-64\"/>\n     <use x=\"603.109375\" xlink:href=\"#DejaVuSans-65\"/>\n     <use x=\"664.632812\" xlink:href=\"#DejaVuSans-6c\"/>\n    </g>\n   </g>\n   <g id=\"legend_1\">\n    <g id=\"patch_7\">\n     <path d=\"M 314.295312 44.99625 \nL 368.403125 44.99625 \nQ 370.403125 44.99625 370.403125 42.99625 \nL 370.403125 29.318125 \nQ 370.403125 27.318125 368.403125 27.318125 \nL 314.295312 27.318125 \nQ 312.295312 27.318125 312.295312 29.318125 \nL 312.295312 42.99625 \nQ 312.295312 44.99625 314.295312 44.99625 \nz\n\" style=\"fill:#ffffff;opacity:0.8;stroke:#cccccc;stroke-linejoin:miter;\"/>\n    </g>\n    <g id=\"line2d_16\">\n     <path d=\"M 316.295312 35.416562 \nL 336.295312 35.416562 \n\" style=\"fill:none;stroke:#ff0000;stroke-linecap:square;stroke-width:1.5;\"/>\n    </g>\n    <g id=\"line2d_17\"/>\n    <g id=\"text_18\">\n     <!-- Loss -->\n     <g transform=\"translate(344.295312 38.916562)scale(0.1 -0.1)\">\n      <use xlink:href=\"#DejaVuSans-4c\"/>\n      <use x=\"55.697266\" xlink:href=\"#DejaVuSans-6f\"/>\n      <use x=\"116.878906\" xlink:href=\"#DejaVuSans-73\"/>\n      <use x=\"168.978516\" xlink:href=\"#DejaVuSans-73\"/>\n     </g>\n    </g>\n   </g>\n  </g>\n </g>\n <defs>\n  <clipPath id=\"p49bf8ed87a\">\n   <rect height=\"217.44\" width=\"334.8\" x=\"40.603125\" y=\"22.318125\"/>\n  </clipPath>\n </defs>\n</svg>\n"
     },
     "metadata": {
      "needs_background": "light"
     }
    }
   ],
   "source": [
    "# make_loss_curve(loss_file, file_type)\n",
    "val.make_loss_curve(\n",
    "    loss_file = '../model/adv_train/FGSM_cifar10_CNN_CNN/loss.txt',\n",
    "    file_type = 'adv_train')"
   ]
  },
  {
   "cell_type": "code",
   "execution_count": 10,
   "metadata": {},
   "outputs": [],
   "source": [
    "import tst"
   ]
  },
  {
   "cell_type": "code",
   "execution_count": 11,
   "metadata": {},
   "outputs": [
    {
     "output_type": "stream",
     "name": "stdout",
     "text": [
      "accuracy:73.950000%\n"
     ]
    }
   ],
   "source": [
    "tst.accuracy_test(\n",
    "    model = adv_model, \n",
    "    data_set = 'cifar10'\n",
    "    )"
   ]
  },
  {
   "source": [
    "## FGSM"
   ],
   "cell_type": "markdown",
   "metadata": {}
  },
  {
   "cell_type": "code",
   "execution_count": 12,
   "metadata": {},
   "outputs": [
    {
     "output_type": "stream",
     "name": "stdout",
     "text": [
      "fooling_rate:20.110000%\n"
     ]
    }
   ],
   "source": [
    "# robustness_test(model, adv_sample_path, sample_num, sample_shape):\n",
    "tst.robustness_test(\n",
    "    model = adv_model,\n",
    "    adv_sample_path = '../sample/FGSM_cifar10_CNN/test',\n",
    "    sample_num = 10000,\n",
    "    sample_shape = [3,32,32]\n",
    ")"
   ]
  },
  {
   "cell_type": "code",
   "execution_count": 13,
   "metadata": {},
   "outputs": [
    {
     "output_type": "stream",
     "name": "stdout",
     "text": [
      "fooling_rate:33.580000%\n"
     ]
    }
   ],
   "source": [
    "# robustness_test(model, adv_sample_path, sample_num, sample_shape):\n",
    "tst.robustness_test(\n",
    "    model = adv_model,\n",
    "    adv_sample_path = '../sample/FGSM_cifar10_ResNet9/test',\n",
    "    sample_num = 10000,\n",
    "    sample_shape = [3,32,32]\n",
    ")"
   ]
  },
  {
   "cell_type": "code",
   "execution_count": 14,
   "metadata": {},
   "outputs": [
    {
     "output_type": "stream",
     "name": "stdout",
     "text": [
      "fooling_rate:32.300000%\n"
     ]
    }
   ],
   "source": [
    "# robustness_test(model, adv_sample_path, sample_num, sample_shape):\n",
    "tst.robustness_test(\n",
    "    model = adv_model,\n",
    "    adv_sample_path = '../sample/FGSM_cifar10_ResNet34/test',\n",
    "    sample_num = 10000,\n",
    "    sample_shape = [3,32,32]\n",
    ")"
   ]
  },
  {
   "source": [
    "## JSMA"
   ],
   "cell_type": "markdown",
   "metadata": {}
  },
  {
   "cell_type": "code",
   "execution_count": 16,
   "metadata": {},
   "outputs": [
    {
     "output_type": "stream",
     "name": "stdout",
     "text": [
      "fooling_rate:81.470000%\n"
     ]
    }
   ],
   "source": [
    "# robustness_test(model, adv_sample_path, sample_num, sample_shape):\n",
    "tst.robustness_test(\n",
    "    model = adv_model,\n",
    "    adv_sample_path = '../sample/JSMA_cifar10_CNN/test',\n",
    "    sample_num = 10000,\n",
    "    sample_shape = [3,32,32]\n",
    ")"
   ]
  },
  {
   "cell_type": "code",
   "execution_count": 17,
   "metadata": {},
   "outputs": [
    {
     "output_type": "stream",
     "name": "stdout",
     "text": [
      "fooling_rate:80.440000%\n"
     ]
    }
   ],
   "source": [
    "# robustness_test(model, adv_sample_path, sample_num, sample_shape):\n",
    "tst.robustness_test(\n",
    "    model = adv_model,\n",
    "    adv_sample_path = '../sample/JSMA_cifar10_ResNet9/test',\n",
    "    sample_num = 10000,\n",
    "    sample_shape = [3,32,32]\n",
    ")"
   ]
  },
  {
   "cell_type": "code",
   "execution_count": 18,
   "metadata": {},
   "outputs": [
    {
     "output_type": "stream",
     "name": "stdout",
     "text": [
      "fooling_rate:57.160000%\n"
     ]
    }
   ],
   "source": [
    "# robustness_test(model, adv_sample_path, sample_num, sample_shape):\n",
    "tst.robustness_test(\n",
    "    model = adv_model,\n",
    "    adv_sample_path = '../sample/JSMA_cifar10_ResNet34/test',\n",
    "    sample_num = 10000,\n",
    "    sample_shape = [3,32,32]\n",
    ")"
   ]
  },
  {
   "source": [
    "## DEEPFOOL"
   ],
   "cell_type": "markdown",
   "metadata": {}
  },
  {
   "cell_type": "code",
   "execution_count": 19,
   "metadata": {},
   "outputs": [
    {
     "output_type": "stream",
     "name": "stdout",
     "text": [
      "fooling_rate:25.380000%\n"
     ]
    }
   ],
   "source": [
    "# robustness_test(model, adv_sample_path, sample_num, sample_shape):\n",
    "tst.robustness_test(\n",
    "    model = adv_model,\n",
    "    adv_sample_path = '../sample/DEEPFOOL_cifar10_CNN/test',\n",
    "    sample_num = 10000,\n",
    "    sample_shape = [3,32,32]\n",
    ")"
   ]
  },
  {
   "cell_type": "code",
   "execution_count": 20,
   "metadata": {},
   "outputs": [
    {
     "output_type": "stream",
     "name": "stdout",
     "text": [
      "fooling_rate:29.150000%\n"
     ]
    }
   ],
   "source": [
    "# robustness_test(model, adv_sample_path, sample_num, sample_shape):\n",
    "tst.robustness_test(\n",
    "    model = adv_model,\n",
    "    adv_sample_path = '../sample/DEEPFOOL_cifar10_ResNet9/test',\n",
    "    sample_num = 10000,\n",
    "    sample_shape = [3,32,32]\n",
    ")"
   ]
  },
  {
   "cell_type": "code",
   "execution_count": 21,
   "metadata": {},
   "outputs": [
    {
     "output_type": "stream",
     "name": "stdout",
     "text": [
      "fooling_rate:28.300000%\n"
     ]
    }
   ],
   "source": [
    "# robustness_test(model, adv_sample_path, sample_num, sample_shape):\n",
    "tst.robustness_test(\n",
    "    model = adv_model,\n",
    "    adv_sample_path = '../sample/DEEPFOOL_cifar10_ResNet34/test',\n",
    "    sample_num = 10000,\n",
    "    sample_shape = [3,32,32]\n",
    ")"
   ]
  },
  {
   "source": [
    "## PGD"
   ],
   "cell_type": "markdown",
   "metadata": {}
  },
  {
   "cell_type": "code",
   "execution_count": 22,
   "metadata": {},
   "outputs": [
    {
     "output_type": "stream",
     "name": "stdout",
     "text": [
      "fooling_rate:24.820000%\n"
     ]
    }
   ],
   "source": [
    "# robustness_test(model, adv_sample_path, sample_num, sample_shape):\n",
    "tst.robustness_test(\n",
    "    model = adv_model,\n",
    "    adv_sample_path = '../sample/PGD_cifar10_CNN/test',\n",
    "    sample_num = 10000,\n",
    "    sample_shape = [3,32,32]\n",
    ")"
   ]
  },
  {
   "cell_type": "code",
   "execution_count": 23,
   "metadata": {},
   "outputs": [
    {
     "output_type": "stream",
     "name": "stdout",
     "text": [
      "fooling_rate:26.370000%\n"
     ]
    }
   ],
   "source": [
    "# robustness_test(model, adv_sample_path, sample_num, sample_shape):\n",
    "tst.robustness_test(\n",
    "    model = adv_model,\n",
    "    adv_sample_path = '../sample/PGD_cifar10_ResNet9/test',\n",
    "    sample_num = 10000,\n",
    "    sample_shape = [3,32,32]\n",
    ")"
   ]
  },
  {
   "cell_type": "code",
   "execution_count": 24,
   "metadata": {},
   "outputs": [
    {
     "output_type": "stream",
     "name": "stdout",
     "text": [
      "fooling_rate:26.520000%\n"
     ]
    }
   ],
   "source": [
    "# robustness_test(model, adv_sample_path, sample_num, sample_shape):\n",
    "tst.robustness_test(\n",
    "    model = adv_model,\n",
    "    adv_sample_path = '../sample/PGD_cifar10_ResNet34/test',\n",
    "    sample_num = 10000,\n",
    "    sample_shape = [3,32,32]\n",
    ")"
   ]
  },
  {
   "source": [
    "## THREAT"
   ],
   "cell_type": "markdown",
   "metadata": {}
  },
  {
   "cell_type": "code",
   "execution_count": 15,
   "metadata": {},
   "outputs": [
    {
     "output_type": "stream",
     "name": "stdout",
     "text": [
      "fooling_rate:41.720000%\n"
     ]
    }
   ],
   "source": [
    "# robustness_test(model, adv_sample_path, sample_num, sample_shape):\n",
    "tst.robustness_test(\n",
    "    model = adv_model,\n",
    "    adv_sample_path = '../sample/THREAT_cifar10/test',\n",
    "    sample_num = 10000,\n",
    "    sample_shape = [3,32,32]\n",
    ")"
   ]
  },
  {
   "cell_type": "code",
   "execution_count": null,
   "metadata": {},
   "outputs": [],
   "source": []
  }
 ]
}