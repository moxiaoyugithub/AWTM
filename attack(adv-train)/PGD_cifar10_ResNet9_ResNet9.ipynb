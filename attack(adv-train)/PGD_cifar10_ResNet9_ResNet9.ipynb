{
 "metadata": {
  "language_info": {
   "codemirror_mode": {
    "name": "ipython",
    "version": 3
   },
   "file_extension": ".py",
   "mimetype": "text/x-python",
   "name": "python",
   "nbconvert_exporter": "python",
   "pygments_lexer": "ipython3",
   "version": "2.7.18-final"
  },
  "orig_nbformat": 2,
  "kernelspec": {
   "name": "Python 2.7.18 64-bit ('exp27': conda)",
   "display_name": "Python 2.7.18 64-bit ('exp27': conda)",
   "metadata": {
    "interpreter": {
     "hash": "94b498c9aad39d14fe2eef1427b4eed5fb73bba001ef4744562740919eaae58d"
    }
   }
  },
  "metadata": {
   "interpreter": {
    "hash": "2177775887c1352f755b4a65deaa187d9182d4211043324c54f62bd824f14834"
   }
  }
 },
 "nbformat": 4,
 "nbformat_minor": 2,
 "cells": [
  {
   "cell_type": "code",
   "execution_count": 1,
   "metadata": {},
   "outputs": [],
   "source": [
    "import sys\n",
    "sys.path.append(\"../../code\")"
   ]
  },
  {
   "cell_type": "code",
   "execution_count": 2,
   "metadata": {},
   "outputs": [],
   "source": [
    "import gen"
   ]
  },
  {
   "cell_type": "code",
   "execution_count": 3,
   "metadata": {},
   "outputs": [],
   "source": [
    "import torch\n",
    "import torch.nn as nn\n",
    "import torch.optim as optim"
   ]
  },
  {
   "cell_type": "code",
   "execution_count": 4,
   "metadata": {},
   "outputs": [],
   "source": [
    "import os\n",
    "import math\n",
    "import torch\n",
    "import torch.nn as nn\n",
    "import torch.nn.functional as F\n",
    "\n",
    "def conv3x3(in_planes, out_planes, stride=1):\n",
    "    return nn.Conv2d(in_planes, out_planes, kernel_size=3, stride=stride, padding=1, bias=False)\n",
    "\n",
    "\n",
    "class BasicBlock(nn.Module):\n",
    "    expansion = 1\n",
    "\n",
    "    def __init__(self, in_planes, planes, stride=1):\n",
    "        super(BasicBlock, self).__init__()\n",
    "        self.conv1 = conv3x3(in_planes, planes, stride)\n",
    "        self.bn1 = nn.BatchNorm2d(planes)\n",
    "        self.conv2 = conv3x3(planes, planes)\n",
    "        self.bn2 = nn.BatchNorm2d(planes)\n",
    "\n",
    "        self.shortcut = nn.Sequential()\n",
    "        if stride != 1 or in_planes != self.expansion*planes:\n",
    "            self.shortcut = nn.Sequential(\n",
    "                nn.Conv2d(in_planes, self.expansion*planes, kernel_size=1, stride=stride, bias=False),\n",
    "                nn.BatchNorm2d(self.expansion*planes)\n",
    "            )\n",
    "\n",
    "    def forward(self, x):\n",
    "        out = F.relu(self.bn1(self.conv1(x)))\n",
    "        out = self.bn2(self.conv2(out))\n",
    "        out += self.shortcut(x)\n",
    "        out = F.relu(out)\n",
    "        return out\n",
    "\n",
    "\n",
    "class PreActBlock(nn.Module):\n",
    "    '''Pre-activation version of the BasicBlock.'''\n",
    "    expansion = 1\n",
    "\n",
    "    def __init__(self, in_planes, planes, stride=1):\n",
    "        super(PreActBlock, self).__init__()\n",
    "        self.bn1 = nn.BatchNorm2d(in_planes)\n",
    "        self.conv1 = conv3x3(in_planes, planes, stride)\n",
    "        self.bn2 = nn.BatchNorm2d(planes)\n",
    "        self.conv2 = conv3x3(planes, planes)\n",
    "\n",
    "        if stride != 1 or in_planes != self.expansion*planes:\n",
    "            self.shortcut = nn.Sequential(\n",
    "                nn.Conv2d(in_planes, self.expansion*planes, kernel_size=1, stride=stride, bias=False)\n",
    "            )\n",
    "\n",
    "    def forward(self, x):\n",
    "        out = F.relu(self.bn1(x))\n",
    "        shortcut = self.shortcut(out) if hasattr(self, 'shortcut') else x\n",
    "        out = self.conv1(out)\n",
    "        out = self.conv2(F.relu(self.bn2(out)))\n",
    "        out += shortcut\n",
    "        return out\n",
    "\n",
    "\n",
    "class Bottleneck(nn.Module):\n",
    "    expansion = 4\n",
    "\n",
    "    def __init__(self, in_planes, planes, stride=1):\n",
    "        super(Bottleneck, self).__init__()\n",
    "        self.conv1 = nn.Conv2d(in_planes, planes, kernel_size=1, bias=False)\n",
    "        self.bn1 = nn.BatchNorm2d(planes)\n",
    "        self.conv2 = nn.Conv2d(planes, planes, kernel_size=3, stride=stride, padding=1, bias=False)\n",
    "        self.bn2 = nn.BatchNorm2d(planes)\n",
    "        self.conv3 = nn.Conv2d(planes, self.expansion*planes, kernel_size=1, bias=False)\n",
    "        self.bn3 = nn.BatchNorm2d(self.expansion*planes)\n",
    "\n",
    "        self.shortcut = nn.Sequential()\n",
    "        if stride != 1 or in_planes != self.expansion*planes:\n",
    "            self.shortcut = nn.Sequential(\n",
    "                nn.Conv2d(in_planes, self.expansion*planes, kernel_size=1, stride=stride, bias=False),\n",
    "                nn.BatchNorm2d(self.expansion*planes)\n",
    "            )\n",
    "\n",
    "    def forward(self, x):\n",
    "        out = F.relu(self.bn1(self.conv1(x)))\n",
    "        out = F.relu(self.bn2(self.conv2(out)))\n",
    "        out = self.bn3(self.conv3(out))\n",
    "        out += self.shortcut(x)\n",
    "        out = F.relu(out)\n",
    "        return out\n",
    "\n",
    "\n",
    "class PreActBottleneck(nn.Module):\n",
    "    '''Pre-activation version of the original Bottleneck module.'''\n",
    "    expansion = 4\n",
    "\n",
    "    def __init__(self, in_planes, planes, stride=1):\n",
    "        super(PreActBottleneck, self).__init__()\n",
    "        self.bn1 = nn.BatchNorm2d(in_planes)\n",
    "        self.conv1 = nn.Conv2d(in_planes, planes, kernel_size=1, bias=False)\n",
    "        self.bn2 = nn.BatchNorm2d(planes)\n",
    "        self.conv2 = nn.Conv2d(planes, planes, kernel_size=3, stride=stride, padding=1, bias=False)\n",
    "        self.bn3 = nn.BatchNorm2d(planes)\n",
    "        self.conv3 = nn.Conv2d(planes, self.expansion*planes, kernel_size=1, bias=False)\n",
    "\n",
    "        if stride != 1 or in_planes != self.expansion*planes:\n",
    "            self.shortcut = nn.Sequential(\n",
    "                nn.Conv2d(in_planes, self.expansion*planes, kernel_size=1, stride=stride, bias=False)\n",
    "            )\n",
    "\n",
    "    def forward(self, x):\n",
    "        out = F.relu(self.bn1(x))\n",
    "        shortcut = self.shortcut(out) if hasattr(self, 'shortcut') else x\n",
    "        out = self.conv1(out)\n",
    "        out = self.conv2(F.relu(self.bn2(out)))\n",
    "        out = self.conv3(F.relu(self.bn3(out)))\n",
    "        out += shortcut\n",
    "        return out\n",
    "\n",
    "\n",
    "class ResNet(nn.Module):\n",
    "    def __init__(self, block, num_blocks, num_classes=10):\n",
    "        super(ResNet, self).__init__()\n",
    "        self.in_planes = 64\n",
    "\n",
    "        self.conv1 = conv3x3(3,64)\n",
    "        self.bn1 = nn.BatchNorm2d(64)\n",
    "        self.layer1 = self._make_layer(block, 64, num_blocks[0], stride=1)\n",
    "        self.layer2 = self._make_layer(block, 128, num_blocks[1], stride=2)\n",
    "        self.layer3 = self._make_layer(block, 256, num_blocks[2], stride=2)\n",
    "        self.layer4 = self._make_layer(block, 512, num_blocks[3], stride=2)\n",
    "        self.linear = nn.Linear(512*block.expansion, num_classes)\n",
    "\n",
    "    def _make_layer(self, block, planes, num_blocks, stride):\n",
    "        strides = [stride] + [1]*(num_blocks-1)\n",
    "        layers = []\n",
    "        for stride in strides:\n",
    "            layers.append(block(self.in_planes, planes, stride))\n",
    "            self.in_planes = planes * block.expansion\n",
    "        return nn.Sequential(*layers)\n",
    "    \n",
    "    def forward(self, x):\n",
    "        out = F.relu(self.bn1(self.conv1(x)))\n",
    "        out = self.layer1(out)\n",
    "        out = self.layer2(out)\n",
    "        out = self.layer3(out)\n",
    "        out = self.layer4(out)\n",
    "        out = F.avg_pool2d(out, 4)\n",
    "        out = out.view(out.size(0), -1)\n",
    "        y = self.linear(out)\n",
    "        return y\n",
    "    \n",
    "    # function to extact the multiple features\n",
    "    def feature_list(self, x):\n",
    "        out_list = []\n",
    "        out = F.relu(self.bn1(self.conv1(x)))\n",
    "        out_list.append(out)\n",
    "        out = self.layer1(out)\n",
    "        out_list.append(out)\n",
    "        out = self.layer2(out)\n",
    "        out_list.append(out)\n",
    "        out = self.layer3(out)\n",
    "        out_list.append(out)\n",
    "        out = self.layer4(out)\n",
    "        out_list.append(out)\n",
    "        out = F.avg_pool2d(out, 4)\n",
    "        out = out.view(out.size(0), -1)\n",
    "        y = self.linear(out)\n",
    "        return y, out_list\n",
    "    \n",
    "    # function to extact a specific feature\n",
    "    def intermediate_forward(self, x, layer_index):\n",
    "        out = F.relu(self.bn1(self.conv1(x)))\n",
    "        if layer_index == 1:\n",
    "            out = self.layer1(out)\n",
    "        elif layer_index == 2:\n",
    "            out = self.layer1(out)\n",
    "            out = self.layer2(out)\n",
    "        elif layer_index == 3:\n",
    "            out = self.layer1(out)\n",
    "            out = self.layer2(out)\n",
    "            out = self.layer3(out)\n",
    "        elif layer_index == 4:\n",
    "            out = self.layer1(out)\n",
    "            out = self.layer2(out)\n",
    "            out = self.layer3(out)\n",
    "            out = self.layer4(out)               \n",
    "        return out\n",
    "\n",
    "    # function to extact the penultimate features\n",
    "    def penultimate_forward(self, x):\n",
    "        out = F.relu(self.bn1(self.conv1(x)))\n",
    "        out = self.layer1(out)\n",
    "        out = self.layer2(out)\n",
    "        out = self.layer3(out)\n",
    "        penultimate = self.layer4(out)\n",
    "        out = F.avg_pool2d(penultimate, 4)\n",
    "        out = out.view(out.size(0), -1)\n",
    "        y = self.linear(out)\n",
    "        return y, penultimate\n",
    "\n",
    "def ResNet9():\n",
    "    return ResNet(BasicBlock, [1,1,1,1], num_classes=10)\n",
    "    \n",
    "def ResNet18():\n",
    "    return ResNet(PreActBlock, [2,2,2,2], num_classes=10)\n",
    "\n",
    "def ResNet34():\n",
    "    return ResNet(BasicBlock, [3,4,6,3], num_classes=10)\n",
    "\n",
    "def ResNet50():\n",
    "    return ResNet(Bottleneck, [3,4,6,3], num_classes=10)\n",
    "\n",
    "def ResNet101():\n",
    "    return ResNet(Bottleneck, [3,4,23,3], num_classes=10)\n",
    "\n",
    "def ResNet152():\n",
    "    return ResNet(Bottleneck, [3,8,36,3], num_classes=10)"
   ]
  },
  {
   "cell_type": "code",
   "execution_count": 5,
   "metadata": {},
   "outputs": [],
   "source": [
    "train_model = ResNet9()"
   ]
  },
  {
   "cell_type": "code",
   "execution_count": 6,
   "metadata": {},
   "outputs": [],
   "source": [
    "#adv_train(data_set, adv_sample_path, sample_num, sample_shape, train_model, model_lossfun, model_optimizer, config, METHOD_dataset_NET_TNET)\n",
    "data_set = 'cifar10'\n",
    "adv_sample_path = '../sample/PGD_cifar10_ResNet9/train'\n",
    "sample_num = 50000\n",
    "sample_shape = [3,32,32]\n",
    "model_lossfun = nn.CrossEntropyLoss()\n",
    "model_optimizer = optim.SGD(train_model.parameters(), lr=0.001, momentum=0.9, weight_decay=1e-4)\n",
    "config = 'PGD_cifar10_ResNet9_ResNet9.json'\n",
    "METHOD_dataset_NET_TNET = 'PGD_cifar10_ResNet9_ResNet9'"
   ]
  },
  {
   "cell_type": "code",
   "execution_count": 7,
   "metadata": {},
   "outputs": [
    {
     "output_type": "stream",
     "name": "stdout",
     "text": [
      "epoch:0/100\n",
      "loss:16.63153267,cost:65.2902s\n",
      "epoch:1/100\n",
      "loss:11.37492180,cost:65.2262s\n",
      "epoch:2/100\n",
      "loss:8.91507530,cost:63.0501s\n",
      "epoch:3/100\n",
      "loss:6.82214689,cost:61.9796s\n",
      "epoch:4/100\n",
      "loss:4.83171082,cost:62.4379s\n",
      "epoch:5/100\n",
      "loss:3.26103377,cost:65.2487s\n",
      "epoch:6/100\n",
      "loss:2.22159076,cost:65.8076s\n",
      "epoch:7/100\n",
      "loss:1.51519370,cost:64.6799s\n",
      "epoch:8/100\n",
      "loss:0.98424429,cost:64.8354s\n",
      "epoch:9/100\n",
      "loss:0.58128530,cost:64.9272s\n",
      "epoch:10/100\n",
      "loss:0.29980877,cost:65.8459s\n",
      "epoch:11/100\n",
      "loss:0.10217580,cost:65.4832s\n",
      "epoch:12/100\n",
      "loss:0.03864113,cost:64.9991s\n",
      "epoch:13/100\n",
      "loss:0.02331763,cost:64.6710s\n",
      "epoch:14/100\n",
      "loss:0.01864320,cost:63.1573s\n",
      "epoch:15/100\n",
      "loss:0.01588590,cost:64.0777s\n",
      "epoch:16/100\n",
      "loss:0.01395577,cost:64.6874s\n",
      "epoch:17/100\n",
      "loss:0.01250414,cost:64.0980s\n",
      "epoch:18/100\n",
      "loss:0.01136624,cost:65.6389s\n",
      "epoch:19/100\n",
      "loss:0.01044453,cost:65.2044s\n",
      "epoch:20/100\n",
      "loss:0.00967980,cost:64.8559s\n",
      "epoch:21/100\n",
      "loss:0.00903259,cost:65.0721s\n",
      "epoch:22/100\n",
      "loss:0.00847922,cost:64.8810s\n",
      "epoch:23/100\n",
      "loss:0.00799842,cost:64.3708s\n",
      "epoch:24/100\n",
      "loss:0.00757715,cost:63.0669s\n",
      "epoch:25/100\n",
      "loss:0.00720454,cost:64.5714s\n",
      "epoch:26/100\n",
      "loss:0.00687211,cost:63.1526s\n",
      "epoch:27/100\n",
      "loss:0.00657427,cost:64.0027s\n",
      "epoch:28/100\n",
      "loss:0.00630548,cost:64.9292s\n",
      "epoch:29/100\n",
      "loss:0.00606129,cost:63.0824s\n",
      "epoch:30/100\n",
      "loss:0.00583905,cost:64.5451s\n",
      "epoch:31/100\n",
      "loss:0.00563574,cost:64.9123s\n",
      "epoch:32/100\n",
      "loss:0.00544875,cost:63.4690s\n",
      "epoch:33/100\n",
      "loss:0.00527659,cost:64.3003s\n",
      "epoch:34/100\n",
      "loss:0.00511725,cost:64.1414s\n",
      "epoch:35/100\n",
      "loss:0.00496955,cost:64.1918s\n",
      "epoch:36/100\n",
      "loss:0.00483222,cost:65.5077s\n",
      "epoch:37/100\n",
      "loss:0.00470416,cost:65.1221s\n",
      "epoch:38/100\n",
      "loss:0.00458445,cost:63.9740s\n",
      "epoch:39/100\n",
      "loss:0.00447224,cost:64.1380s\n",
      "epoch:40/100\n",
      "loss:0.00436701,cost:64.2565s\n",
      "epoch:41/100\n",
      "loss:0.00426805,cost:63.9542s\n",
      "epoch:42/100\n",
      "loss:0.00417492,cost:64.3215s\n",
      "epoch:43/100\n",
      "loss:0.00408705,cost:63.3815s\n",
      "epoch:44/100\n",
      "loss:0.00400408,cost:63.4724s\n",
      "epoch:45/100\n",
      "loss:0.00392549,cost:63.3691s\n",
      "epoch:46/100\n",
      "loss:0.00385099,cost:62.9265s\n",
      "epoch:47/100\n",
      "loss:0.00378032,cost:63.3790s\n",
      "epoch:48/100\n",
      "loss:0.00371320,cost:63.2313s\n",
      "epoch:49/100\n",
      "loss:0.00364937,cost:64.8447s\n",
      "epoch:50/100\n",
      "loss:0.00358851,cost:63.5599s\n",
      "epoch:51/100\n",
      "loss:0.00353057,cost:64.2199s\n",
      "epoch:52/100\n",
      "loss:0.00347530,cost:64.5463s\n",
      "epoch:53/100\n",
      "loss:0.00342247,cost:62.7918s\n",
      "epoch:54/100\n",
      "loss:0.00337193,cost:63.7726s\n",
      "epoch:55/100\n",
      "loss:0.00332359,cost:64.3517s\n",
      "epoch:56/100\n",
      "loss:0.00327737,cost:60.6592s\n",
      "epoch:57/100\n",
      "loss:0.00323302,cost:59.5918s\n",
      "epoch:58/100\n",
      "loss:0.00319047,cost:59.5596s\n",
      "epoch:59/100\n",
      "loss:0.00314959,cost:59.8886s\n",
      "epoch:60/100\n",
      "loss:0.00311037,cost:65.1264s\n",
      "epoch:61/100\n",
      "loss:0.00307271,cost:64.8963s\n",
      "epoch:62/100\n",
      "loss:0.00303642,cost:63.9400s\n",
      "epoch:63/100\n",
      "loss:0.00300158,cost:64.1947s\n",
      "epoch:64/100\n",
      "loss:0.00296799,cost:64.3282s\n",
      "epoch:65/100\n",
      "loss:0.00293561,cost:64.6522s\n",
      "epoch:66/100\n",
      "loss:0.00290440,cost:64.9004s\n",
      "epoch:67/100\n",
      "loss:0.00287429,cost:64.4058s\n",
      "epoch:68/100\n",
      "loss:0.00284523,cost:64.5509s\n",
      "epoch:69/100\n",
      "loss:0.00281715,cost:64.6129s\n",
      "epoch:70/100\n",
      "loss:0.00279006,cost:64.4323s\n",
      "epoch:71/100\n",
      "loss:0.00276380,cost:64.0618s\n",
      "epoch:72/100\n",
      "loss:0.00273842,cost:62.7137s\n",
      "epoch:73/100\n",
      "loss:0.00271384,cost:61.5682s\n",
      "epoch:74/100\n",
      "loss:0.00269008,cost:64.5228s\n",
      "epoch:75/100\n",
      "loss:0.00266705,cost:65.0594s\n",
      "epoch:76/100\n",
      "loss:0.00264480,cost:64.2848s\n",
      "epoch:77/100\n",
      "loss:0.00262316,cost:63.5978s\n",
      "epoch:78/100\n",
      "loss:0.00260223,cost:64.7336s\n",
      "epoch:79/100\n",
      "loss:0.00258193,cost:64.9279s\n",
      "epoch:80/100\n",
      "loss:0.00256225,cost:65.1016s\n",
      "epoch:81/100\n",
      "loss:0.00254310,cost:64.8393s\n",
      "epoch:82/100\n",
      "loss:0.00252456,cost:64.7130s\n",
      "epoch:83/100\n",
      "loss:0.00250654,cost:63.8790s\n",
      "epoch:84/100\n",
      "loss:0.00248903,cost:62.3247s\n",
      "epoch:85/100\n",
      "loss:0.00247202,cost:62.8269s\n",
      "epoch:86/100\n",
      "loss:0.00245549,cost:64.8471s\n",
      "epoch:87/100\n",
      "loss:0.00243941,cost:64.8182s\n",
      "epoch:88/100\n",
      "loss:0.00242377,cost:64.8307s\n",
      "epoch:89/100\n",
      "loss:0.00240859,cost:64.6737s\n",
      "epoch:90/100\n",
      "loss:0.00239378,cost:64.7656s\n",
      "epoch:91/100\n",
      "loss:0.00237935,cost:64.7567s\n",
      "epoch:92/100\n",
      "loss:0.00236529,cost:64.9179s\n",
      "epoch:93/100\n",
      "loss:0.00235160,cost:64.6775s\n",
      "epoch:94/100\n",
      "loss:0.00233826,cost:64.7444s\n",
      "epoch:95/100\n",
      "loss:0.00232526,cost:64.7072s\n",
      "epoch:96/100\n",
      "loss:0.00231261,cost:64.7535s\n",
      "epoch:97/100\n",
      "loss:0.00230025,cost:64.8752s\n",
      "epoch:98/100\n",
      "loss:0.00228825,cost:64.7220s\n",
      "epoch:99/100\n",
      "loss:0.00227648,cost:64.9926s\n",
      "saving model...\n",
      "-complete-\n",
      "saving loss...\n",
      "-complete-\n",
      "/home/moxiaoyu/anaconda3/envs/py2/lib/python2.7/site-packages/torch/serialization.py:360: UserWarning: Couldn't retrieve source code for container of type ResNet. It won't be checked for correctness upon loading.\n",
      "  \"type \" + obj.__name__ + \". It won't be checked \"\n",
      "/home/moxiaoyu/anaconda3/envs/py2/lib/python2.7/site-packages/torch/serialization.py:360: UserWarning: Couldn't retrieve source code for container of type BasicBlock. It won't be checked for correctness upon loading.\n",
      "  \"type \" + obj.__name__ + \". It won't be checked \"\n"
     ]
    }
   ],
   "source": [
    "gen.adv_train(\n",
    "    data_set, \n",
    "    adv_sample_path, \n",
    "    sample_num, \n",
    "    sample_shape, \n",
    "    train_model, \n",
    "    model_lossfun, \n",
    "    model_optimizer, \n",
    "    config, \n",
    "    METHOD_dataset_NET_TNET)"
   ]
  },
  {
   "cell_type": "code",
   "execution_count": 7,
   "metadata": {},
   "outputs": [],
   "source": [
    "import val"
   ]
  },
  {
   "cell_type": "code",
   "execution_count": 8,
   "metadata": {},
   "outputs": [],
   "source": [
    "adv_model = torch.load('../model/adv_train/PGD_cifar10_ResNet9_ResNet9/model.pkl')"
   ]
  },
  {
   "cell_type": "code",
   "execution_count": 9,
   "metadata": {},
   "outputs": [
    {
     "output_type": "display_data",
     "data": {
      "image/png": "[encoded data removed]",
      "text/plain": "<Figure size 432x288 with 1 Axes>",
      "image/svg+xml": "<?xml version=\"1.0\" encoding=\"utf-8\" standalone=\"no\"?>\n<!DOCTYPE svg PUBLIC \"-//W3C//DTD SVG 1.1//EN\"\n  \"http://www.w3.org/Graphics/SVG/1.1/DTD/svg11.dtd\">\n<!-- Created with matplotlib (http://matplotlib.org/) -->\n<svg height=\"277.314375pt\" version=\"1.1\" viewBox=\"0 0 395.64375 277.314375\" width=\"395.64375pt\" xmlns=\"http://www.w3.org/2000/svg\" xmlns:xlink=\"http://www.w3.org/1999/xlink\">\n <defs>\n  <style type=\"text/css\">\n*{stroke-linecap:butt;stroke-linejoin:round;}\n  </style>\n </defs>\n <g id=\"figure_1\">\n  <g id=\"patch_1\">\n   <path d=\"M 0 277.314375 \nL 395.64375 277.314375 \nL 395.64375 0 \nL 0 0 \nz\n\" style=\"fill:none;\"/>\n  </g>\n  <g id=\"axes_1\">\n   <g id=\"patch_2\">\n    <path d=\"M 50.14375 239.758125 \nL 384.94375 239.758125 \nL 384.94375 22.318125 \nL 50.14375 22.318125 \nz\n\" style=\"fill:#ffffff;\"/>\n   </g>\n   <g id=\"matplotlib.axis_1\">\n    <g id=\"xtick_1\">\n     <g id=\"line2d_1\">\n      <defs>\n       <path d=\"M 0 0 \nL 0 3.5 \n\" id=\"ma4c1299615\" style=\"stroke:#000000;stroke-width:0.8;\"/>\n      </defs>\n      <g>\n       <use style=\"stroke:#000000;stroke-width:0.8;\" x=\"65.361932\" xlink:href=\"#ma4c1299615\" y=\"239.758125\"/>\n      </g>\n     </g>\n     <g id=\"text_1\">\n      <!-- 0 -->\n      <defs>\n       <path d=\"M 31.78125 66.40625 \nQ 24.171875 66.40625 20.328125 58.90625 \nQ 16.5 51.421875 16.5 36.375 \nQ 16.5 21.390625 20.328125 13.890625 \nQ 24.171875 6.390625 31.78125 6.390625 \nQ 39.453125 6.390625 43.28125 13.890625 \nQ 47.125 21.390625 47.125 36.375 \nQ 47.125 51.421875 43.28125 58.90625 \nQ 39.453125 66.40625 31.78125 66.40625 \nz\nM 31.78125 74.21875 \nQ 44.046875 74.21875 50.515625 64.515625 \nQ 56.984375 54.828125 56.984375 36.375 \nQ 56.984375 17.96875 50.515625 8.265625 \nQ 44.046875 -1.421875 31.78125 -1.421875 \nQ 19.53125 -1.421875 13.0625 8.265625 \nQ 6.59375 17.96875 6.59375 36.375 \nQ 6.59375 54.828125 13.0625 64.515625 \nQ 19.53125 74.21875 31.78125 74.21875 \nz\n\" id=\"DejaVuSans-30\"/>\n      </defs>\n      <g transform=\"translate(62.180682 254.356562)scale(0.1 -0.1)\">\n       <use xlink:href=\"#DejaVuSans-30\"/>\n      </g>\n     </g>\n    </g>\n    <g id=\"xtick_2\">\n     <g id=\"line2d_2\">\n      <g>\n       <use style=\"stroke:#000000;stroke-width:0.8;\" x=\"126.849535\" xlink:href=\"#ma4c1299615\" y=\"239.758125\"/>\n      </g>\n     </g>\n     <g id=\"text_2\">\n      <!-- 20 -->\n      <defs>\n       <path d=\"M 19.1875 8.296875 \nL 53.609375 8.296875 \nL 53.609375 0 \nL 7.328125 0 \nL 7.328125 8.296875 \nQ 12.9375 14.109375 22.625 23.890625 \nQ 32.328125 33.6875 34.8125 36.53125 \nQ 39.546875 41.84375 41.421875 45.53125 \nQ 43.3125 49.21875 43.3125 52.78125 \nQ 43.3125 58.59375 39.234375 62.25 \nQ 35.15625 65.921875 28.609375 65.921875 \nQ 23.96875 65.921875 18.8125 64.3125 \nQ 13.671875 62.703125 7.8125 59.421875 \nL 7.8125 69.390625 \nQ 13.765625 71.78125 18.9375 73 \nQ 24.125 74.21875 28.421875 74.21875 \nQ 39.75 74.21875 46.484375 68.546875 \nQ 53.21875 62.890625 53.21875 53.421875 \nQ 53.21875 48.921875 51.53125 44.890625 \nQ 49.859375 40.875 45.40625 35.40625 \nQ 44.1875 33.984375 37.640625 27.21875 \nQ 31.109375 20.453125 19.1875 8.296875 \nz\n\" id=\"DejaVuSans-32\"/>\n      </defs>\n      <g transform=\"translate(120.487035 254.356562)scale(0.1 -0.1)\">\n       <use xlink:href=\"#DejaVuSans-32\"/>\n       <use x=\"63.623047\" xlink:href=\"#DejaVuSans-30\"/>\n      </g>\n     </g>\n    </g>\n    <g id=\"xtick_3\">\n     <g id=\"line2d_3\">\n      <g>\n       <use style=\"stroke:#000000;stroke-width:0.8;\" x=\"188.337138\" xlink:href=\"#ma4c1299615\" y=\"239.758125\"/>\n      </g>\n     </g>\n     <g id=\"text_3\">\n      <!-- 40 -->\n      <defs>\n       <path d=\"M 37.796875 64.3125 \nL 12.890625 25.390625 \nL 37.796875 25.390625 \nz\nM 35.203125 72.90625 \nL 47.609375 72.90625 \nL 47.609375 25.390625 \nL 58.015625 25.390625 \nL 58.015625 17.1875 \nL 47.609375 17.1875 \nL 47.609375 0 \nL 37.796875 0 \nL 37.796875 17.1875 \nL 4.890625 17.1875 \nL 4.890625 26.703125 \nz\n\" id=\"DejaVuSans-34\"/>\n      </defs>\n      <g transform=\"translate(181.974638 254.356562)scale(0.1 -0.1)\">\n       <use xlink:href=\"#DejaVuSans-34\"/>\n       <use x=\"63.623047\" xlink:href=\"#DejaVuSans-30\"/>\n      </g>\n     </g>\n    </g>\n    <g id=\"xtick_4\">\n     <g id=\"line2d_4\">\n      <g>\n       <use style=\"stroke:#000000;stroke-width:0.8;\" x=\"249.824742\" xlink:href=\"#ma4c1299615\" y=\"239.758125\"/>\n      </g>\n     </g>\n     <g id=\"text_4\">\n      <!-- 60 -->\n      <defs>\n       <path d=\"M 33.015625 40.375 \nQ 26.375 40.375 22.484375 35.828125 \nQ 18.609375 31.296875 18.609375 23.390625 \nQ 18.609375 15.53125 22.484375 10.953125 \nQ 26.375 6.390625 33.015625 6.390625 \nQ 39.65625 6.390625 43.53125 10.953125 \nQ 47.40625 15.53125 47.40625 23.390625 \nQ 47.40625 31.296875 43.53125 35.828125 \nQ 39.65625 40.375 33.015625 40.375 \nz\nM 52.59375 71.296875 \nL 52.59375 62.3125 \nQ 48.875 64.0625 45.09375 64.984375 \nQ 41.3125 65.921875 37.59375 65.921875 \nQ 27.828125 65.921875 22.671875 59.328125 \nQ 17.53125 52.734375 16.796875 39.40625 \nQ 19.671875 43.65625 24.015625 45.921875 \nQ 28.375 48.1875 33.59375 48.1875 \nQ 44.578125 48.1875 50.953125 41.515625 \nQ 57.328125 34.859375 57.328125 23.390625 \nQ 57.328125 12.15625 50.6875 5.359375 \nQ 44.046875 -1.421875 33.015625 -1.421875 \nQ 20.359375 -1.421875 13.671875 8.265625 \nQ 6.984375 17.96875 6.984375 36.375 \nQ 6.984375 53.65625 15.1875 63.9375 \nQ 23.390625 74.21875 37.203125 74.21875 \nQ 40.921875 74.21875 44.703125 73.484375 \nQ 48.484375 72.75 52.59375 71.296875 \nz\n\" id=\"DejaVuSans-36\"/>\n      </defs>\n      <g transform=\"translate(243.462242 254.356562)scale(0.1 -0.1)\">\n       <use xlink:href=\"#DejaVuSans-36\"/>\n       <use x=\"63.623047\" xlink:href=\"#DejaVuSans-30\"/>\n      </g>\n     </g>\n    </g>\n    <g id=\"xtick_5\">\n     <g id=\"line2d_5\">\n      <g>\n       <use style=\"stroke:#000000;stroke-width:0.8;\" x=\"311.312345\" xlink:href=\"#ma4c1299615\" y=\"239.758125\"/>\n      </g>\n     </g>\n     <g id=\"text_5\">\n      <!-- 80 -->\n      <defs>\n       <path d=\"M 31.78125 34.625 \nQ 24.75 34.625 20.71875 30.859375 \nQ 16.703125 27.09375 16.703125 20.515625 \nQ 16.703125 13.921875 20.71875 10.15625 \nQ 24.75 6.390625 31.78125 6.390625 \nQ 38.8125 6.390625 42.859375 10.171875 \nQ 46.921875 13.96875 46.921875 20.515625 \nQ 46.921875 27.09375 42.890625 30.859375 \nQ 38.875 34.625 31.78125 34.625 \nz\nM 21.921875 38.8125 \nQ 15.578125 40.375 12.03125 44.71875 \nQ 8.5 49.078125 8.5 55.328125 \nQ 8.5 64.0625 14.71875 69.140625 \nQ 20.953125 74.21875 31.78125 74.21875 \nQ 42.671875 74.21875 48.875 69.140625 \nQ 55.078125 64.0625 55.078125 55.328125 \nQ 55.078125 49.078125 51.53125 44.71875 \nQ 48 40.375 41.703125 38.8125 \nQ 48.828125 37.15625 52.796875 32.3125 \nQ 56.78125 27.484375 56.78125 20.515625 \nQ 56.78125 9.90625 50.3125 4.234375 \nQ 43.84375 -1.421875 31.78125 -1.421875 \nQ 19.734375 -1.421875 13.25 4.234375 \nQ 6.78125 9.90625 6.78125 20.515625 \nQ 6.78125 27.484375 10.78125 32.3125 \nQ 14.796875 37.15625 21.921875 38.8125 \nz\nM 18.3125 54.390625 \nQ 18.3125 48.734375 21.84375 45.5625 \nQ 25.390625 42.390625 31.78125 42.390625 \nQ 38.140625 42.390625 41.71875 45.5625 \nQ 45.3125 48.734375 45.3125 54.390625 \nQ 45.3125 60.0625 41.71875 63.234375 \nQ 38.140625 66.40625 31.78125 66.40625 \nQ 25.390625 66.40625 21.84375 63.234375 \nQ 18.3125 60.0625 18.3125 54.390625 \nz\n\" id=\"DejaVuSans-38\"/>\n      </defs>\n      <g transform=\"translate(304.949845 254.356562)scale(0.1 -0.1)\">\n       <use xlink:href=\"#DejaVuSans-38\"/>\n       <use x=\"63.623047\" xlink:href=\"#DejaVuSans-30\"/>\n      </g>\n     </g>\n    </g>\n    <g id=\"xtick_6\">\n     <g id=\"line2d_6\">\n      <g>\n       <use style=\"stroke:#000000;stroke-width:0.8;\" x=\"372.799948\" xlink:href=\"#ma4c1299615\" y=\"239.758125\"/>\n      </g>\n     </g>\n     <g id=\"text_6\">\n      <!-- 100 -->\n      <defs>\n       <path d=\"M 12.40625 8.296875 \nL 28.515625 8.296875 \nL 28.515625 63.921875 \nL 10.984375 60.40625 \nL 10.984375 69.390625 \nL 28.421875 72.90625 \nL 38.28125 72.90625 \nL 38.28125 8.296875 \nL 54.390625 8.296875 \nL 54.390625 0 \nL 12.40625 0 \nz\n\" id=\"DejaVuSans-31\"/>\n      </defs>\n      <g transform=\"translate(363.256198 254.356562)scale(0.1 -0.1)\">\n       <use xlink:href=\"#DejaVuSans-31\"/>\n       <use x=\"63.623047\" xlink:href=\"#DejaVuSans-30\"/>\n       <use x=\"127.246094\" xlink:href=\"#DejaVuSans-30\"/>\n      </g>\n     </g>\n    </g>\n    <g id=\"text_7\">\n     <!-- Epoch -->\n     <defs>\n      <path d=\"M 9.8125 72.90625 \nL 55.90625 72.90625 \nL 55.90625 64.59375 \nL 19.671875 64.59375 \nL 19.671875 43.015625 \nL 54.390625 43.015625 \nL 54.390625 34.71875 \nL 19.671875 34.71875 \nL 19.671875 8.296875 \nL 56.78125 8.296875 \nL 56.78125 0 \nL 9.8125 0 \nz\n\" id=\"DejaVuSans-45\"/>\n      <path d=\"M 18.109375 8.203125 \nL 18.109375 -20.796875 \nL 9.078125 -20.796875 \nL 9.078125 54.6875 \nL 18.109375 54.6875 \nL 18.109375 46.390625 \nQ 20.953125 51.265625 25.265625 53.625 \nQ 29.59375 56 35.59375 56 \nQ 45.5625 56 51.78125 48.09375 \nQ 58.015625 40.1875 58.015625 27.296875 \nQ 58.015625 14.40625 51.78125 6.484375 \nQ 45.5625 -1.421875 35.59375 -1.421875 \nQ 29.59375 -1.421875 25.265625 0.953125 \nQ 20.953125 3.328125 18.109375 8.203125 \nz\nM 48.6875 27.296875 \nQ 48.6875 37.203125 44.609375 42.84375 \nQ 40.53125 48.484375 33.40625 48.484375 \nQ 26.265625 48.484375 22.1875 42.84375 \nQ 18.109375 37.203125 18.109375 27.296875 \nQ 18.109375 17.390625 22.1875 11.75 \nQ 26.265625 6.109375 33.40625 6.109375 \nQ 40.53125 6.109375 44.609375 11.75 \nQ 48.6875 17.390625 48.6875 27.296875 \nz\n\" id=\"DejaVuSans-70\"/>\n      <path d=\"M 30.609375 48.390625 \nQ 23.390625 48.390625 19.1875 42.75 \nQ 14.984375 37.109375 14.984375 27.296875 \nQ 14.984375 17.484375 19.15625 11.84375 \nQ 23.34375 6.203125 30.609375 6.203125 \nQ 37.796875 6.203125 41.984375 11.859375 \nQ 46.1875 17.53125 46.1875 27.296875 \nQ 46.1875 37.015625 41.984375 42.703125 \nQ 37.796875 48.390625 30.609375 48.390625 \nz\nM 30.609375 56 \nQ 42.328125 56 49.015625 48.375 \nQ 55.71875 40.765625 55.71875 27.296875 \nQ 55.71875 13.875 49.015625 6.21875 \nQ 42.328125 -1.421875 30.609375 -1.421875 \nQ 18.84375 -1.421875 12.171875 6.21875 \nQ 5.515625 13.875 5.515625 27.296875 \nQ 5.515625 40.765625 12.171875 48.375 \nQ 18.84375 56 30.609375 56 \nz\n\" id=\"DejaVuSans-6f\"/>\n      <path d=\"M 48.78125 52.59375 \nL 48.78125 44.1875 \nQ 44.96875 46.296875 41.140625 47.34375 \nQ 37.3125 48.390625 33.40625 48.390625 \nQ 24.65625 48.390625 19.8125 42.84375 \nQ 14.984375 37.3125 14.984375 27.296875 \nQ 14.984375 17.28125 19.8125 11.734375 \nQ 24.65625 6.203125 33.40625 6.203125 \nQ 37.3125 6.203125 41.140625 7.25 \nQ 44.96875 8.296875 48.78125 10.40625 \nL 48.78125 2.09375 \nQ 45.015625 0.34375 40.984375 -0.53125 \nQ 36.96875 -1.421875 32.421875 -1.421875 \nQ 20.0625 -1.421875 12.78125 6.34375 \nQ 5.515625 14.109375 5.515625 27.296875 \nQ 5.515625 40.671875 12.859375 48.328125 \nQ 20.21875 56 33.015625 56 \nQ 37.15625 56 41.109375 55.140625 \nQ 45.0625 54.296875 48.78125 52.59375 \nz\n\" id=\"DejaVuSans-63\"/>\n      <path d=\"M 54.890625 33.015625 \nL 54.890625 0 \nL 45.90625 0 \nL 45.90625 32.71875 \nQ 45.90625 40.484375 42.875 44.328125 \nQ 39.84375 48.1875 33.796875 48.1875 \nQ 26.515625 48.1875 22.3125 43.546875 \nQ 18.109375 38.921875 18.109375 30.90625 \nL 18.109375 0 \nL 9.078125 0 \nL 9.078125 75.984375 \nL 18.109375 75.984375 \nL 18.109375 46.1875 \nQ 21.34375 51.125 25.703125 53.5625 \nQ 30.078125 56 35.796875 56 \nQ 45.21875 56 50.046875 50.171875 \nQ 54.890625 44.34375 54.890625 33.015625 \nz\n\" id=\"DejaVuSans-68\"/>\n     </defs>\n     <g transform=\"translate(202.232813 268.034687)scale(0.1 -0.1)\">\n      <use xlink:href=\"#DejaVuSans-45\"/>\n      <use x=\"63.183594\" xlink:href=\"#DejaVuSans-70\"/>\n      <use x=\"126.660156\" xlink:href=\"#DejaVuSans-6f\"/>\n      <use x=\"187.841797\" xlink:href=\"#DejaVuSans-63\"/>\n      <use x=\"242.822266\" xlink:href=\"#DejaVuSans-68\"/>\n     </g>\n    </g>\n   </g>\n   <g id=\"matplotlib.axis_2\">\n    <g id=\"ytick_1\">\n     <g id=\"line2d_7\">\n      <defs>\n       <path d=\"M 0 0 \nL -3.5 0 \n\" id=\"mf70e28782b\" style=\"stroke:#000000;stroke-width:0.8;\"/>\n      </defs>\n      <g>\n       <use style=\"stroke:#000000;stroke-width:0.8;\" x=\"50.14375\" xlink:href=\"#mf70e28782b\" y=\"229.901549\"/>\n      </g>\n     </g>\n     <g id=\"text_8\">\n      <!-- 0.0 -->\n      <defs>\n       <path d=\"M 10.6875 12.40625 \nL 21 12.40625 \nL 21 0 \nL 10.6875 0 \nz\n\" id=\"DejaVuSans-2e\"/>\n      </defs>\n      <g transform=\"translate(27.240625 233.700768)scale(0.1 -0.1)\">\n       <use xlink:href=\"#DejaVuSans-30\"/>\n       <use x=\"63.623047\" xlink:href=\"#DejaVuSans-2e\"/>\n       <use x=\"95.410156\" xlink:href=\"#DejaVuSans-30\"/>\n      </g>\n     </g>\n    </g>\n    <g id=\"ytick_2\">\n     <g id=\"line2d_8\">\n      <g>\n       <use style=\"stroke:#000000;stroke-width:0.8;\" x=\"50.14375\" xlink:href=\"#mf70e28782b\" y=\"200.183935\"/>\n      </g>\n     </g>\n     <g id=\"text_9\">\n      <!-- 2.5 -->\n      <defs>\n       <path d=\"M 10.796875 72.90625 \nL 49.515625 72.90625 \nL 49.515625 64.59375 \nL 19.828125 64.59375 \nL 19.828125 46.734375 \nQ 21.96875 47.46875 24.109375 47.828125 \nQ 26.265625 48.1875 28.421875 48.1875 \nQ 40.625 48.1875 47.75 41.5 \nQ 54.890625 34.8125 54.890625 23.390625 \nQ 54.890625 11.625 47.5625 5.09375 \nQ 40.234375 -1.421875 26.90625 -1.421875 \nQ 22.3125 -1.421875 17.546875 -0.640625 \nQ 12.796875 0.140625 7.71875 1.703125 \nL 7.71875 11.625 \nQ 12.109375 9.234375 16.796875 8.0625 \nQ 21.484375 6.890625 26.703125 6.890625 \nQ 35.15625 6.890625 40.078125 11.328125 \nQ 45.015625 15.765625 45.015625 23.390625 \nQ 45.015625 31 40.078125 35.4375 \nQ 35.15625 39.890625 26.703125 39.890625 \nQ 22.75 39.890625 18.8125 39.015625 \nQ 14.890625 38.140625 10.796875 36.28125 \nz\n\" id=\"DejaVuSans-35\"/>\n      </defs>\n      <g transform=\"translate(27.240625 203.983154)scale(0.1 -0.1)\">\n       <use xlink:href=\"#DejaVuSans-32\"/>\n       <use x=\"63.623047\" xlink:href=\"#DejaVuSans-2e\"/>\n       <use x=\"95.410156\" xlink:href=\"#DejaVuSans-35\"/>\n      </g>\n     </g>\n    </g>\n    <g id=\"ytick_3\">\n     <g id=\"line2d_9\">\n      <g>\n       <use style=\"stroke:#000000;stroke-width:0.8;\" x=\"50.14375\" xlink:href=\"#mf70e28782b\" y=\"170.466321\"/>\n      </g>\n     </g>\n     <g id=\"text_10\">\n      <!-- 5.0 -->\n      <g transform=\"translate(27.240625 174.26554)scale(0.1 -0.1)\">\n       <use xlink:href=\"#DejaVuSans-35\"/>\n       <use x=\"63.623047\" xlink:href=\"#DejaVuSans-2e\"/>\n       <use x=\"95.410156\" xlink:href=\"#DejaVuSans-30\"/>\n      </g>\n     </g>\n    </g>\n    <g id=\"ytick_4\">\n     <g id=\"line2d_10\">\n      <g>\n       <use style=\"stroke:#000000;stroke-width:0.8;\" x=\"50.14375\" xlink:href=\"#mf70e28782b\" y=\"140.748707\"/>\n      </g>\n     </g>\n     <g id=\"text_11\">\n      <!-- 7.5 -->\n      <defs>\n       <path d=\"M 8.203125 72.90625 \nL 55.078125 72.90625 \nL 55.078125 68.703125 \nL 28.609375 0 \nL 18.3125 0 \nL 43.21875 64.59375 \nL 8.203125 64.59375 \nz\n\" id=\"DejaVuSans-37\"/>\n      </defs>\n      <g transform=\"translate(27.240625 144.547926)scale(0.1 -0.1)\">\n       <use xlink:href=\"#DejaVuSans-37\"/>\n       <use x=\"63.623047\" xlink:href=\"#DejaVuSans-2e\"/>\n       <use x=\"95.410156\" xlink:href=\"#DejaVuSans-35\"/>\n      </g>\n     </g>\n    </g>\n    <g id=\"ytick_5\">\n     <g id=\"line2d_11\">\n      <g>\n       <use style=\"stroke:#000000;stroke-width:0.8;\" x=\"50.14375\" xlink:href=\"#mf70e28782b\" y=\"111.031093\"/>\n      </g>\n     </g>\n     <g id=\"text_12\">\n      <!-- 10.0 -->\n      <g transform=\"translate(20.878125 114.830312)scale(0.1 -0.1)\">\n       <use xlink:href=\"#DejaVuSans-31\"/>\n       <use x=\"63.623047\" xlink:href=\"#DejaVuSans-30\"/>\n       <use x=\"127.246094\" xlink:href=\"#DejaVuSans-2e\"/>\n       <use x=\"159.033203\" xlink:href=\"#DejaVuSans-30\"/>\n      </g>\n     </g>\n    </g>\n    <g id=\"ytick_6\">\n     <g id=\"line2d_12\">\n      <g>\n       <use style=\"stroke:#000000;stroke-width:0.8;\" x=\"50.14375\" xlink:href=\"#mf70e28782b\" y=\"81.313479\"/>\n      </g>\n     </g>\n     <g id=\"text_13\">\n      <!-- 12.5 -->\n      <g transform=\"translate(20.878125 85.112698)scale(0.1 -0.1)\">\n       <use xlink:href=\"#DejaVuSans-31\"/>\n       <use x=\"63.623047\" xlink:href=\"#DejaVuSans-32\"/>\n       <use x=\"127.246094\" xlink:href=\"#DejaVuSans-2e\"/>\n       <use x=\"159.033203\" xlink:href=\"#DejaVuSans-35\"/>\n      </g>\n     </g>\n    </g>\n    <g id=\"ytick_7\">\n     <g id=\"line2d_13\">\n      <g>\n       <use style=\"stroke:#000000;stroke-width:0.8;\" x=\"50.14375\" xlink:href=\"#mf70e28782b\" y=\"51.595865\"/>\n      </g>\n     </g>\n     <g id=\"text_14\">\n      <!-- 15.0 -->\n      <g transform=\"translate(20.878125 55.395083)scale(0.1 -0.1)\">\n       <use xlink:href=\"#DejaVuSans-31\"/>\n       <use x=\"63.623047\" xlink:href=\"#DejaVuSans-35\"/>\n       <use x=\"127.246094\" xlink:href=\"#DejaVuSans-2e\"/>\n       <use x=\"159.033203\" xlink:href=\"#DejaVuSans-30\"/>\n      </g>\n     </g>\n    </g>\n    <g id=\"ytick_8\">\n     <g id=\"line2d_14\">\n      <g>\n       <use style=\"stroke:#000000;stroke-width:0.8;\" x=\"50.14375\" xlink:href=\"#mf70e28782b\" y=\"21.878251\"/>\n      </g>\n     </g>\n     <g id=\"text_15\">\n      <!-- 17.5 -->\n      <g transform=\"translate(20.878125 25.677469)scale(0.1 -0.1)\">\n       <use xlink:href=\"#DejaVuSans-31\"/>\n       <use x=\"63.623047\" xlink:href=\"#DejaVuSans-37\"/>\n       <use x=\"127.246094\" xlink:href=\"#DejaVuSans-2e\"/>\n       <use x=\"159.033203\" xlink:href=\"#DejaVuSans-35\"/>\n      </g>\n     </g>\n    </g>\n    <g id=\"text_16\">\n     <!-- Loss -->\n     <defs>\n      <path d=\"M 9.8125 72.90625 \nL 19.671875 72.90625 \nL 19.671875 8.296875 \nL 55.171875 8.296875 \nL 55.171875 0 \nL 9.8125 0 \nz\n\" id=\"DejaVuSans-4c\"/>\n      <path d=\"M 44.28125 53.078125 \nL 44.28125 44.578125 \nQ 40.484375 46.53125 36.375 47.5 \nQ 32.28125 48.484375 27.875 48.484375 \nQ 21.1875 48.484375 17.84375 46.4375 \nQ 14.5 44.390625 14.5 40.28125 \nQ 14.5 37.15625 16.890625 35.375 \nQ 19.28125 33.59375 26.515625 31.984375 \nL 29.59375 31.296875 \nQ 39.15625 29.25 43.1875 25.515625 \nQ 47.21875 21.78125 47.21875 15.09375 \nQ 47.21875 7.46875 41.1875 3.015625 \nQ 35.15625 -1.421875 24.609375 -1.421875 \nQ 20.21875 -1.421875 15.453125 -0.5625 \nQ 10.6875 0.296875 5.421875 2 \nL 5.421875 11.28125 \nQ 10.40625 8.6875 15.234375 7.390625 \nQ 20.0625 6.109375 24.8125 6.109375 \nQ 31.15625 6.109375 34.5625 8.28125 \nQ 37.984375 10.453125 37.984375 14.40625 \nQ 37.984375 18.0625 35.515625 20.015625 \nQ 33.0625 21.96875 24.703125 23.78125 \nL 21.578125 24.515625 \nQ 13.234375 26.265625 9.515625 29.90625 \nQ 5.8125 33.546875 5.8125 39.890625 \nQ 5.8125 47.609375 11.28125 51.796875 \nQ 16.75 56 26.8125 56 \nQ 31.78125 56 36.171875 55.265625 \nQ 40.578125 54.546875 44.28125 53.078125 \nz\n\" id=\"DejaVuSans-73\"/>\n     </defs>\n     <g transform=\"translate(14.798438 142.092031)rotate(-90)scale(0.1 -0.1)\">\n      <use xlink:href=\"#DejaVuSans-4c\"/>\n      <use x=\"55.697266\" xlink:href=\"#DejaVuSans-6f\"/>\n      <use x=\"116.878906\" xlink:href=\"#DejaVuSans-73\"/>\n      <use x=\"168.978516\" xlink:href=\"#DejaVuSans-73\"/>\n     </g>\n    </g>\n   </g>\n   <g id=\"line2d_15\">\n    <path clip-path=\"url(#p275df39e74)\" d=\"M 65.361932 32.201761 \nL 68.436312 94.687335 \nL 71.510692 123.927642 \nL 74.585072 148.806378 \nL 77.659452 172.466782 \nL 80.733833 191.137492 \nL 83.808213 203.493399 \nL 86.882593 211.890373 \nL 89.956973 218.201792 \nL 93.031353 222.991784 \nL 96.105733 226.337709 \nL 99.180114 228.686981 \nL 102.254494 229.44222 \nL 105.328874 229.624372 \nL 108.403254 229.679937 \nL 111.477634 229.712713 \nL 114.552014 229.735656 \nL 117.626395 229.752912 \nL 120.700775 229.766438 \nL 123.775155 229.777395 \nL 126.849535 229.786485 \nL 129.923915 229.794178 \nL 132.998295 229.800756 \nL 136.072676 229.806472 \nL 139.147056 229.811479 \nL 142.221436 229.815909 \nL 145.295816 229.81986 \nL 148.370196 229.823401 \nL 151.444576 229.826596 \nL 154.518957 229.829498 \nL 157.593337 229.83214 \nL 160.667717 229.834557 \nL 163.742097 229.83678 \nL 166.816477 229.838826 \nL 169.890857 229.84072 \nL 172.965238 229.842476 \nL 176.039618 229.844108 \nL 179.113998 229.845631 \nL 182.188378 229.847054 \nL 185.262758 229.848388 \nL 188.337138 229.849638 \nL 191.411519 229.850815 \nL 194.485899 229.851922 \nL 197.560279 229.852966 \nL 200.634659 229.853953 \nL 203.709039 229.854887 \nL 206.783419 229.855772 \nL 209.8578 229.856612 \nL 212.93218 229.85741 \nL 216.00656 229.858169 \nL 219.08094 229.858892 \nL 222.15532 229.859581 \nL 225.2297 229.860238 \nL 228.304081 229.860866 \nL 231.378461 229.861467 \nL 234.452841 229.862042 \nL 237.527221 229.862591 \nL 240.601601 229.863118 \nL 243.675981 229.863624 \nL 246.750362 229.86411 \nL 249.824742 229.864576 \nL 252.899122 229.865024 \nL 255.973502 229.865455 \nL 259.047882 229.865869 \nL 262.122262 229.866269 \nL 265.196643 229.866653 \nL 268.271023 229.867025 \nL 271.345403 229.867382 \nL 274.419783 229.867728 \nL 277.494163 229.868062 \nL 280.568543 229.868384 \nL 283.642924 229.868696 \nL 286.717304 229.868998 \nL 289.791684 229.86929 \nL 292.866064 229.869572 \nL 295.940444 229.869846 \nL 299.014824 229.87011 \nL 302.089205 229.870368 \nL 305.163585 229.870616 \nL 308.237965 229.870858 \nL 311.312345 229.871092 \nL 314.386725 229.871319 \nL 317.461105 229.87154 \nL 320.535486 229.871754 \nL 323.609866 229.871962 \nL 326.684246 229.872164 \nL 329.758626 229.872361 \nL 332.833006 229.872552 \nL 335.907386 229.872738 \nL 338.981767 229.872918 \nL 342.056147 229.873094 \nL 345.130527 229.873266 \nL 348.204907 229.873433 \nL 351.279287 229.873596 \nL 354.353667 229.873754 \nL 357.428048 229.873909 \nL 360.502428 229.874059 \nL 363.576808 229.874206 \nL 366.651188 229.874349 \nL 369.725568 229.874489 \n\" style=\"fill:none;stroke:#ff0000;stroke-linecap:square;stroke-width:1.5;\"/>\n   </g>\n   <g id=\"patch_3\">\n    <path d=\"M 50.14375 239.758125 \nL 50.14375 22.318125 \n\" style=\"fill:none;stroke:#000000;stroke-linecap:square;stroke-linejoin:miter;stroke-width:0.8;\"/>\n   </g>\n   <g id=\"patch_4\">\n    <path d=\"M 384.94375 239.758125 \nL 384.94375 22.318125 \n\" style=\"fill:none;stroke:#000000;stroke-linecap:square;stroke-linejoin:miter;stroke-width:0.8;\"/>\n   </g>\n   <g id=\"patch_5\">\n    <path d=\"M 50.14375 239.758125 \nL 384.94375 239.758125 \n\" style=\"fill:none;stroke:#000000;stroke-linecap:square;stroke-linejoin:miter;stroke-width:0.8;\"/>\n   </g>\n   <g id=\"patch_6\">\n    <path d=\"M 50.14375 22.318125 \nL 384.94375 22.318125 \n\" style=\"fill:none;stroke:#000000;stroke-linecap:square;stroke-linejoin:miter;stroke-width:0.8;\"/>\n   </g>\n   <g id=\"text_17\">\n    <!-- Loss of model -->\n    <defs>\n     <path id=\"DejaVuSans-20\"/>\n     <path d=\"M 37.109375 75.984375 \nL 37.109375 68.5 \nL 28.515625 68.5 \nQ 23.6875 68.5 21.796875 66.546875 \nQ 19.921875 64.59375 19.921875 59.515625 \nL 19.921875 54.6875 \nL 34.71875 54.6875 \nL 34.71875 47.703125 \nL 19.921875 47.703125 \nL 19.921875 0 \nL 10.890625 0 \nL 10.890625 47.703125 \nL 2.296875 47.703125 \nL 2.296875 54.6875 \nL 10.890625 54.6875 \nL 10.890625 58.5 \nQ 10.890625 67.625 15.140625 71.796875 \nQ 19.390625 75.984375 28.609375 75.984375 \nz\n\" id=\"DejaVuSans-66\"/>\n     <path d=\"M 52 44.1875 \nQ 55.375 50.25 60.0625 53.125 \nQ 64.75 56 71.09375 56 \nQ 79.640625 56 84.28125 50.015625 \nQ 88.921875 44.046875 88.921875 33.015625 \nL 88.921875 0 \nL 79.890625 0 \nL 79.890625 32.71875 \nQ 79.890625 40.578125 77.09375 44.375 \nQ 74.3125 48.1875 68.609375 48.1875 \nQ 61.625 48.1875 57.5625 43.546875 \nQ 53.515625 38.921875 53.515625 30.90625 \nL 53.515625 0 \nL 44.484375 0 \nL 44.484375 32.71875 \nQ 44.484375 40.625 41.703125 44.40625 \nQ 38.921875 48.1875 33.109375 48.1875 \nQ 26.21875 48.1875 22.15625 43.53125 \nQ 18.109375 38.875 18.109375 30.90625 \nL 18.109375 0 \nL 9.078125 0 \nL 9.078125 54.6875 \nL 18.109375 54.6875 \nL 18.109375 46.1875 \nQ 21.1875 51.21875 25.484375 53.609375 \nQ 29.78125 56 35.6875 56 \nQ 41.65625 56 45.828125 52.96875 \nQ 50 49.953125 52 44.1875 \nz\n\" id=\"DejaVuSans-6d\"/>\n     <path d=\"M 45.40625 46.390625 \nL 45.40625 75.984375 \nL 54.390625 75.984375 \nL 54.390625 0 \nL 45.40625 0 \nL 45.40625 8.203125 \nQ 42.578125 3.328125 38.25 0.953125 \nQ 33.9375 -1.421875 27.875 -1.421875 \nQ 17.96875 -1.421875 11.734375 6.484375 \nQ 5.515625 14.40625 5.515625 27.296875 \nQ 5.515625 40.1875 11.734375 48.09375 \nQ 17.96875 56 27.875 56 \nQ 33.9375 56 38.25 53.625 \nQ 42.578125 51.265625 45.40625 46.390625 \nz\nM 14.796875 27.296875 \nQ 14.796875 17.390625 18.875 11.75 \nQ 22.953125 6.109375 30.078125 6.109375 \nQ 37.203125 6.109375 41.296875 11.75 \nQ 45.40625 17.390625 45.40625 27.296875 \nQ 45.40625 37.203125 41.296875 42.84375 \nQ 37.203125 48.484375 30.078125 48.484375 \nQ 22.953125 48.484375 18.875 42.84375 \nQ 14.796875 37.203125 14.796875 27.296875 \nz\n\" id=\"DejaVuSans-64\"/>\n     <path d=\"M 56.203125 29.59375 \nL 56.203125 25.203125 \nL 14.890625 25.203125 \nQ 15.484375 15.921875 20.484375 11.0625 \nQ 25.484375 6.203125 34.421875 6.203125 \nQ 39.59375 6.203125 44.453125 7.46875 \nQ 49.3125 8.734375 54.109375 11.28125 \nL 54.109375 2.78125 \nQ 49.265625 0.734375 44.1875 -0.34375 \nQ 39.109375 -1.421875 33.890625 -1.421875 \nQ 20.796875 -1.421875 13.15625 6.1875 \nQ 5.515625 13.8125 5.515625 26.8125 \nQ 5.515625 40.234375 12.765625 48.109375 \nQ 20.015625 56 32.328125 56 \nQ 43.359375 56 49.78125 48.890625 \nQ 56.203125 41.796875 56.203125 29.59375 \nz\nM 47.21875 32.234375 \nQ 47.125 39.59375 43.09375 43.984375 \nQ 39.0625 48.390625 32.421875 48.390625 \nQ 24.90625 48.390625 20.390625 44.140625 \nQ 15.875 39.890625 15.1875 32.171875 \nz\n\" id=\"DejaVuSans-65\"/>\n     <path d=\"M 9.421875 75.984375 \nL 18.40625 75.984375 \nL 18.40625 0 \nL 9.421875 0 \nz\n\" id=\"DejaVuSans-6c\"/>\n    </defs>\n    <g transform=\"translate(175.998438 16.318125)scale(0.12 -0.12)\">\n     <use xlink:href=\"#DejaVuSans-4c\"/>\n     <use x=\"55.697266\" xlink:href=\"#DejaVuSans-6f\"/>\n     <use x=\"116.878906\" xlink:href=\"#DejaVuSans-73\"/>\n     <use x=\"168.978516\" xlink:href=\"#DejaVuSans-73\"/>\n     <use x=\"221.078125\" xlink:href=\"#DejaVuSans-20\"/>\n     <use x=\"252.865234\" xlink:href=\"#DejaVuSans-6f\"/>\n     <use x=\"314.046875\" xlink:href=\"#DejaVuSans-66\"/>\n     <use x=\"349.251953\" xlink:href=\"#DejaVuSans-20\"/>\n     <use x=\"381.039062\" xlink:href=\"#DejaVuSans-6d\"/>\n     <use x=\"478.451172\" xlink:href=\"#DejaVuSans-6f\"/>\n     <use x=\"539.632812\" xlink:href=\"#DejaVuSans-64\"/>\n     <use x=\"603.109375\" xlink:href=\"#DejaVuSans-65\"/>\n     <use x=\"664.632812\" xlink:href=\"#DejaVuSans-6c\"/>\n    </g>\n   </g>\n   <g id=\"legend_1\">\n    <g id=\"patch_7\">\n     <path d=\"M 323.835938 44.99625 \nL 377.94375 44.99625 \nQ 379.94375 44.99625 379.94375 42.99625 \nL 379.94375 29.318125 \nQ 379.94375 27.318125 377.94375 27.318125 \nL 323.835938 27.318125 \nQ 321.835938 27.318125 321.835938 29.318125 \nL 321.835938 42.99625 \nQ 321.835938 44.99625 323.835938 44.99625 \nz\n\" style=\"fill:#ffffff;opacity:0.8;stroke:#cccccc;stroke-linejoin:miter;\"/>\n    </g>\n    <g id=\"line2d_16\">\n     <path d=\"M 325.835938 35.416562 \nL 345.835938 35.416562 \n\" style=\"fill:none;stroke:#ff0000;stroke-linecap:square;stroke-width:1.5;\"/>\n    </g>\n    <g id=\"line2d_17\"/>\n    <g id=\"text_18\">\n     <!-- Loss -->\n     <g transform=\"translate(353.835938 38.916562)scale(0.1 -0.1)\">\n      <use xlink:href=\"#DejaVuSans-4c\"/>\n      <use x=\"55.697266\" xlink:href=\"#DejaVuSans-6f\"/>\n      <use x=\"116.878906\" xlink:href=\"#DejaVuSans-73\"/>\n      <use x=\"168.978516\" xlink:href=\"#DejaVuSans-73\"/>\n     </g>\n    </g>\n   </g>\n  </g>\n </g>\n <defs>\n  <clipPath id=\"p275df39e74\">\n   <rect height=\"217.44\" width=\"334.8\" x=\"50.14375\" y=\"22.318125\"/>\n  </clipPath>\n </defs>\n</svg>\n"
     },
     "metadata": {
      "needs_background": "light"
     }
    }
   ],
   "source": [
    "# make_loss_curve(loss_file, file_type)\n",
    "val.make_loss_curve(\n",
    "    loss_file = '../model/adv_train/PGD_cifar10_ResNet9_ResNet9/loss.txt',\n",
    "    file_type = 'adv_train')"
   ]
  },
  {
   "cell_type": "code",
   "execution_count": 10,
   "metadata": {},
   "outputs": [],
   "source": [
    "import tst"
   ]
  },
  {
   "cell_type": "code",
   "execution_count": 11,
   "metadata": {},
   "outputs": [
    {
     "output_type": "stream",
     "name": "stdout",
     "text": [
      "accuracy:75.820000%\n"
     ]
    }
   ],
   "source": [
    "tst.accuracy_test(\n",
    "    model = adv_model, \n",
    "    data_set = 'cifar10'\n",
    "    )"
   ]
  },
  {
   "source": [
    "## FGSM"
   ],
   "cell_type": "markdown",
   "metadata": {}
  },
  {
   "cell_type": "code",
   "execution_count": 12,
   "metadata": {},
   "outputs": [
    {
     "output_type": "stream",
     "name": "stdout",
     "text": [
      "fooling_rate:45.930000%\n"
     ]
    }
   ],
   "source": [
    "# robustness_test(model, adv_sample_path, sample_num, sample_shape):\n",
    "tst.robustness_test(\n",
    "    model = adv_model,\n",
    "    adv_sample_path = '../sample/FGSM_cifar10_CNN/test',\n",
    "    sample_num = 10000,\n",
    "    sample_shape = [3,32,32]\n",
    ")"
   ]
  },
  {
   "cell_type": "code",
   "execution_count": 13,
   "metadata": {},
   "outputs": [
    {
     "output_type": "stream",
     "name": "stdout",
     "text": [
      "fooling_rate:13.150000%\n"
     ]
    }
   ],
   "source": [
    "# robustness_test(model, adv_sample_path, sample_num, sample_shape):\n",
    "tst.robustness_test(\n",
    "    model = adv_model,\n",
    "    adv_sample_path = '../sample/FGSM_cifar10_ResNet9/test',\n",
    "    sample_num = 10000,\n",
    "    sample_shape = [3,32,32]\n",
    ")"
   ]
  },
  {
   "cell_type": "code",
   "execution_count": 14,
   "metadata": {},
   "outputs": [
    {
     "output_type": "stream",
     "name": "stdout",
     "text": [
      "fooling_rate:47.510000%\n"
     ]
    }
   ],
   "source": [
    "# robustness_test(model, adv_sample_path, sample_num, sample_shape):\n",
    "tst.robustness_test(\n",
    "    model = adv_model,\n",
    "    adv_sample_path = '../sample/FGSM_cifar10_ResNet34/test',\n",
    "    sample_num = 10000,\n",
    "    sample_shape = [3,32,32]\n",
    ")"
   ]
  },
  {
   "source": [
    "## JSMA"
   ],
   "cell_type": "markdown",
   "metadata": {}
  },
  {
   "cell_type": "code",
   "execution_count": 15,
   "metadata": {},
   "outputs": [
    {
     "output_type": "stream",
     "name": "stdout",
     "text": [
      "fooling_rate:81.370000%\n"
     ]
    }
   ],
   "source": [
    "# robustness_test(model, adv_sample_path, sample_num, sample_shape):\n",
    "tst.robustness_test(\n",
    "    model = adv_model,\n",
    "    adv_sample_path = '../sample/JSMA_cifar10_CNN/test',\n",
    "    sample_num = 10000,\n",
    "    sample_shape = [3,32,32]\n",
    ")"
   ]
  },
  {
   "cell_type": "code",
   "execution_count": 16,
   "metadata": {},
   "outputs": [
    {
     "output_type": "stream",
     "name": "stdout",
     "text": [
      "fooling_rate:79.830000%\n"
     ]
    }
   ],
   "source": [
    "# robustness_test(model, adv_sample_path, sample_num, sample_shape):\n",
    "tst.robustness_test(\n",
    "    model = adv_model,\n",
    "    adv_sample_path = '../sample/JSMA_cifar10_ResNet9/test',\n",
    "    sample_num = 10000,\n",
    "    sample_shape = [3,32,32]\n",
    ")"
   ]
  },
  {
   "cell_type": "code",
   "execution_count": 17,
   "metadata": {},
   "outputs": [
    {
     "output_type": "stream",
     "name": "stdout",
     "text": [
      "fooling_rate:57.310000%\n"
     ]
    }
   ],
   "source": [
    "# robustness_test(model, adv_sample_path, sample_num, sample_shape):\n",
    "tst.robustness_test(\n",
    "    model = adv_model,\n",
    "    adv_sample_path = '../sample/JSMA_cifar10_ResNet34/test',\n",
    "    sample_num = 10000,\n",
    "    sample_shape = [3,32,32]\n",
    ")"
   ]
  },
  {
   "source": [
    "## DEEPFOOL"
   ],
   "cell_type": "markdown",
   "metadata": {}
  },
  {
   "cell_type": "code",
   "execution_count": 18,
   "metadata": {},
   "outputs": [
    {
     "output_type": "stream",
     "name": "stdout",
     "text": [
      "fooling_rate:29.300000%\n"
     ]
    }
   ],
   "source": [
    "# robustness_test(model, adv_sample_path, sample_num, sample_shape):\n",
    "tst.robustness_test(\n",
    "    model = adv_model,\n",
    "    adv_sample_path = '../sample/DEEPFOOL_cifar10_CNN/test',\n",
    "    sample_num = 10000,\n",
    "    sample_shape = [3,32,32]\n",
    ")"
   ]
  },
  {
   "cell_type": "code",
   "execution_count": 19,
   "metadata": {},
   "outputs": [
    {
     "output_type": "stream",
     "name": "stdout",
     "text": [
      "fooling_rate:17.970000%\n"
     ]
    }
   ],
   "source": [
    "# robustness_test(model, adv_sample_path, sample_num, sample_shape):\n",
    "tst.robustness_test(\n",
    "    model = adv_model,\n",
    "    adv_sample_path = '../sample/DEEPFOOL_cifar10_ResNet9/test',\n",
    "    sample_num = 10000,\n",
    "    sample_shape = [3,32,32]\n",
    ")"
   ]
  },
  {
   "cell_type": "code",
   "execution_count": 20,
   "metadata": {},
   "outputs": [
    {
     "output_type": "stream",
     "name": "stdout",
     "text": [
      "fooling_rate:30.110000%\n"
     ]
    }
   ],
   "source": [
    "# robustness_test(model, adv_sample_path, sample_num, sample_shape):\n",
    "tst.robustness_test(\n",
    "    model = adv_model,\n",
    "    adv_sample_path = '../sample/DEEPFOOL_cifar10_ResNet34/test',\n",
    "    sample_num = 10000,\n",
    "    sample_shape = [3,32,32]\n",
    ")"
   ]
  },
  {
   "source": [
    "## PGD"
   ],
   "cell_type": "markdown",
   "metadata": {}
  },
  {
   "cell_type": "code",
   "execution_count": 21,
   "metadata": {},
   "outputs": [
    {
     "output_type": "stream",
     "name": "stdout",
     "text": [
      "fooling_rate:25.330000%\n"
     ]
    }
   ],
   "source": [
    "# robustness_test(model, adv_sample_path, sample_num, sample_shape):\n",
    "tst.robustness_test(\n",
    "    model = adv_model,\n",
    "    adv_sample_path = '../sample/PGD_cifar10_CNN/test',\n",
    "    sample_num = 10000,\n",
    "    sample_shape = [3,32,32]\n",
    ")"
   ]
  },
  {
   "cell_type": "code",
   "execution_count": 22,
   "metadata": {},
   "outputs": [
    {
     "output_type": "stream",
     "name": "stdout",
     "text": [
      "fooling_rate:16.980000%\n"
     ]
    }
   ],
   "source": [
    "# robustness_test(model, adv_sample_path, sample_num, sample_shape):\n",
    "tst.robustness_test(\n",
    "    model = adv_model,\n",
    "    adv_sample_path = '../sample/PGD_cifar10_ResNet9/test',\n",
    "    sample_num = 10000,\n",
    "    sample_shape = [3,32,32]\n",
    ")"
   ]
  },
  {
   "cell_type": "code",
   "execution_count": 23,
   "metadata": {},
   "outputs": [
    {
     "output_type": "stream",
     "name": "stdout",
     "text": [
      "fooling_rate:25.740000%\n"
     ]
    }
   ],
   "source": [
    "# robustness_test(model, adv_sample_path, sample_num, sample_shape):\n",
    "tst.robustness_test(\n",
    "    model = adv_model,\n",
    "    adv_sample_path = '../sample/PGD_cifar10_ResNet34/test',\n",
    "    sample_num = 10000,\n",
    "    sample_shape = [3,32,32]\n",
    ")"
   ]
  },
  {
   "source": [
    "## THREAT"
   ],
   "cell_type": "markdown",
   "metadata": {}
  },
  {
   "cell_type": "code",
   "execution_count": 24,
   "metadata": {},
   "outputs": [
    {
     "output_type": "stream",
     "name": "stdout",
     "text": [
      "fooling_rate:59.210000%\n"
     ]
    }
   ],
   "source": [
    "# robustness_test(model, adv_sample_path, sample_num, sample_shape):\n",
    "tst.robustness_test(\n",
    "    model = adv_model,\n",
    "    adv_sample_path = '../sample/THREAT_cifar10/test',\n",
    "    sample_num = 10000,\n",
    "    sample_shape = [3,32,32]\n",
    ")"
   ]
  }
 ]
}